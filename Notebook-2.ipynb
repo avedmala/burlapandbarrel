{
  "cells": [
    {
      "cell_type": "markdown",
      "metadata": {
        "id": "1z7ZHcxkEiqh"
      },
      "source": [
        "# Imports\n",
        "\n",
        "First, we begin by making imports to important libraries that will be used throughout the entire program."
      ]
    },
    {
      "cell_type": "code",
      "execution_count": null,
      "metadata": {
        "colab": {
          "base_uri": "https://localhost:8080/"
        },
        "id": "fiHP6Xg6MC8K",
        "outputId": "dfeff8f5-f7a5-4d12-c0dd-aabcf1bb9391"
      },
      "outputs": [],
      "source": [
        "from bs4 import BeautifulSoup\n",
        "from collections import Counter\n",
        "from collections import defaultdict\n",
        "from datetime import datetime\n",
        "\n",
        "import math\n",
        "import numpy as np\n",
        "import os\n",
        "import re\n",
        "import pandas as pd\n",
        "import matplotlib\n",
        "import matplotlib.pyplot as plt\n",
        "import plotly.express as px\n",
        "import requests \n",
        "\n",
        "!pip install pgeocode\n",
        "import pgeocode"
      ]
    },
    {
      "cell_type": "markdown",
      "metadata": {
        "id": "NoSAyFECFEwh"
      },
      "source": [
        "# Data Collection and Conversion\n",
        "\n",
        "We load up the Excel sheets provided by B&B on transactions/orders into a dataframe called data data. We load up each Excel sheet into an individual dataframe and then combine those dataframes. Through some intermediate work (which is explained throughout), we convert the data dataframe whose entries are transactions into the customer dataframe whose entries the customers. "
      ]
    },
    {
      "cell_type": "code",
      "execution_count": null,
      "metadata": {
        "colab": {
          "base_uri": "https://localhost:8080/"
        },
        "id": "d3e-mcI2MjO9",
        "outputId": "ec0ae38d-7d77-4598-92ca-a7d9d2a78400"
      },
      "outputs": [
        {
          "name": "stdout",
          "output_type": "stream",
          "text": [
            "CPU times: user 1min 43s, sys: 682 ms, total: 1min 44s\n",
            "Wall time: 1min 52s\n"
          ]
        }
      ],
      "source": [
        "%%time\n",
        "\n",
        "data = []\n",
        "\n",
        "for file in os.listdir():\n",
        "    if file.endswith(\".xlsx\"):\n",
        "        data.append(pd.read_excel(file))"
      ]
    },
    {
      "cell_type": "code",
      "execution_count": null,
      "metadata": {
        "id": "yPyupaJqMrXy"
      },
      "outputs": [],
      "source": [
        "data = pd.concat(data, axis=0, ignore_index=True)"
      ]
    },
    {
      "cell_type": "markdown",
      "metadata": {
        "id": "4lbyLTmSGNOT"
      },
      "source": [
        "We begin by removing the transactions/orders whose order total was greater than 700 dollars or less than 0 dollars, this is to remove any mistakes, outliers, or orders which may have been made by restaurants. Additionally, we remove any entries whose email was null because we can't do much with those entries."
      ]
    },
    {
      "cell_type": "code",
      "execution_count": null,
      "metadata": {
        "id": "0rqw4M_xNW-3"
      },
      "outputs": [],
      "source": [
        "data = data.loc[(data['Total'] < 700) & (data['Total'] > 0) & (data['Email'].isnull() == False)]"
      ]
    },
    {
      "cell_type": "code",
      "execution_count": null,
      "metadata": {
        "id": "91_5Jc33NZxP"
      },
      "outputs": [],
      "source": [
        "data = data.loc[data['Shipping Country'] == 'US']"
      ]
    },
    {
      "cell_type": "code",
      "execution_count": null,
      "metadata": {
        "colab": {
          "base_uri": "https://localhost:8080/",
          "height": 857
        },
        "id": "N5ticrdCRSJm",
        "outputId": "4465d5de-0e4c-4a60-e252-820772bd43f2"
      },
      "outputs": [
        {
          "data": {
            "text/html": [
              "\n",
              "  <div id=\"df-2165c516-555f-4194-aea5-632c6cf90269\">\n",
              "    <div class=\"colab-df-container\">\n",
              "      <div>\n",
              "<style scoped>\n",
              "    .dataframe tbody tr th:only-of-type {\n",
              "        vertical-align: middle;\n",
              "    }\n",
              "\n",
              "    .dataframe tbody tr th {\n",
              "        vertical-align: top;\n",
              "    }\n",
              "\n",
              "    .dataframe thead th {\n",
              "        text-align: right;\n",
              "    }\n",
              "</style>\n",
              "<table border=\"1\" class=\"dataframe\">\n",
              "  <thead>\n",
              "    <tr style=\"text-align: right;\">\n",
              "      <th></th>\n",
              "      <th>Name</th>\n",
              "      <th>Email</th>\n",
              "      <th>Financial Status</th>\n",
              "      <th>Paid at</th>\n",
              "      <th>Fulfillment Status</th>\n",
              "      <th>Fulfilled at</th>\n",
              "      <th>Accepts Marketing</th>\n",
              "      <th>Currency</th>\n",
              "      <th>Subtotal</th>\n",
              "      <th>Shipping</th>\n",
              "      <th>...</th>\n",
              "      <th>Lineitem fulfillment status</th>\n",
              "      <th>Billing City</th>\n",
              "      <th>Billing Zip</th>\n",
              "      <th>Billing Province</th>\n",
              "      <th>Billing Country</th>\n",
              "      <th>Shipping City</th>\n",
              "      <th>Shipping Zip</th>\n",
              "      <th>Shipping Province</th>\n",
              "      <th>Shipping Country</th>\n",
              "      <th>Cancelled at</th>\n",
              "    </tr>\n",
              "  </thead>\n",
              "  <tbody>\n",
              "    <tr>\n",
              "      <th>0</th>\n",
              "      <td>93689</td>\n",
              "      <td>1459.0</td>\n",
              "      <td>paid</td>\n",
              "      <td>2021-07-11 14:46:00</td>\n",
              "      <td>fulfilled</td>\n",
              "      <td>2021-07-12 20:49:00</td>\n",
              "      <td>yes</td>\n",
              "      <td>USD</td>\n",
              "      <td>54.94</td>\n",
              "      <td>0.00</td>\n",
              "      <td>...</td>\n",
              "      <td>fulfilled</td>\n",
              "      <td>Sylvania</td>\n",
              "      <td>'43560</td>\n",
              "      <td>OH</td>\n",
              "      <td>US</td>\n",
              "      <td>Sylvania</td>\n",
              "      <td>'43560</td>\n",
              "      <td>OH</td>\n",
              "      <td>US</td>\n",
              "      <td>NaT</td>\n",
              "    </tr>\n",
              "    <tr>\n",
              "      <th>4</th>\n",
              "      <td>93688</td>\n",
              "      <td>1460.0</td>\n",
              "      <td>paid</td>\n",
              "      <td>2021-07-11 14:46:00</td>\n",
              "      <td>fulfilled</td>\n",
              "      <td>2021-07-12 20:49:00</td>\n",
              "      <td>no</td>\n",
              "      <td>USD</td>\n",
              "      <td>101.95</td>\n",
              "      <td>0.00</td>\n",
              "      <td>...</td>\n",
              "      <td>fulfilled</td>\n",
              "      <td>Blaine</td>\n",
              "      <td>'98230</td>\n",
              "      <td>WA</td>\n",
              "      <td>US</td>\n",
              "      <td>Blaine</td>\n",
              "      <td>'98230</td>\n",
              "      <td>WA</td>\n",
              "      <td>US</td>\n",
              "      <td>NaT</td>\n",
              "    </tr>\n",
              "    <tr>\n",
              "      <th>9</th>\n",
              "      <td>93687</td>\n",
              "      <td>1461.0</td>\n",
              "      <td>paid</td>\n",
              "      <td>2021-07-11 14:44:00</td>\n",
              "      <td>fulfilled</td>\n",
              "      <td>2021-07-12 20:49:00</td>\n",
              "      <td>yes</td>\n",
              "      <td>USD</td>\n",
              "      <td>50.96</td>\n",
              "      <td>0.00</td>\n",
              "      <td>...</td>\n",
              "      <td>fulfilled</td>\n",
              "      <td>greer</td>\n",
              "      <td>'29650</td>\n",
              "      <td>SC</td>\n",
              "      <td>US</td>\n",
              "      <td>greer</td>\n",
              "      <td>'29650</td>\n",
              "      <td>SC</td>\n",
              "      <td>US</td>\n",
              "      <td>NaT</td>\n",
              "    </tr>\n",
              "    <tr>\n",
              "      <th>13</th>\n",
              "      <td>93686</td>\n",
              "      <td>1462.0</td>\n",
              "      <td>paid</td>\n",
              "      <td>2021-07-11 14:43:00</td>\n",
              "      <td>fulfilled</td>\n",
              "      <td>2021-07-12 20:49:00</td>\n",
              "      <td>yes</td>\n",
              "      <td>USD</td>\n",
              "      <td>55.94</td>\n",
              "      <td>0.00</td>\n",
              "      <td>...</td>\n",
              "      <td>fulfilled</td>\n",
              "      <td>Seattle</td>\n",
              "      <td>98103-7663</td>\n",
              "      <td>WA</td>\n",
              "      <td>US</td>\n",
              "      <td>Seattle</td>\n",
              "      <td>98103-7663</td>\n",
              "      <td>WA</td>\n",
              "      <td>US</td>\n",
              "      <td>NaT</td>\n",
              "    </tr>\n",
              "    <tr>\n",
              "      <th>16</th>\n",
              "      <td>93685</td>\n",
              "      <td>1463.0</td>\n",
              "      <td>paid</td>\n",
              "      <td>2021-07-11 14:42:00</td>\n",
              "      <td>fulfilled</td>\n",
              "      <td>2021-07-12 20:50:00</td>\n",
              "      <td>no</td>\n",
              "      <td>USD</td>\n",
              "      <td>28.97</td>\n",
              "      <td>5.99</td>\n",
              "      <td>...</td>\n",
              "      <td>fulfilled</td>\n",
              "      <td>Toppenish</td>\n",
              "      <td>'98948</td>\n",
              "      <td>WA</td>\n",
              "      <td>US</td>\n",
              "      <td>Toppenish</td>\n",
              "      <td>'98948</td>\n",
              "      <td>WA</td>\n",
              "      <td>US</td>\n",
              "      <td>NaT</td>\n",
              "    </tr>\n",
              "    <tr>\n",
              "      <th>...</th>\n",
              "      <td>...</td>\n",
              "      <td>...</td>\n",
              "      <td>...</td>\n",
              "      <td>...</td>\n",
              "      <td>...</td>\n",
              "      <td>...</td>\n",
              "      <td>...</td>\n",
              "      <td>...</td>\n",
              "      <td>...</td>\n",
              "      <td>...</td>\n",
              "      <td>...</td>\n",
              "      <td>...</td>\n",
              "      <td>...</td>\n",
              "      <td>...</td>\n",
              "      <td>...</td>\n",
              "      <td>...</td>\n",
              "      <td>...</td>\n",
              "      <td>...</td>\n",
              "      <td>...</td>\n",
              "      <td>...</td>\n",
              "      <td>...</td>\n",
              "    </tr>\n",
              "    <tr>\n",
              "      <th>394630</th>\n",
              "      <td>148921</td>\n",
              "      <td>15380.0</td>\n",
              "      <td>paid</td>\n",
              "      <td>2022-04-07 06:25:00</td>\n",
              "      <td>fulfilled</td>\n",
              "      <td>2022-04-07 19:07:00</td>\n",
              "      <td>yes</td>\n",
              "      <td>USD</td>\n",
              "      <td>52.99</td>\n",
              "      <td>0.00</td>\n",
              "      <td>...</td>\n",
              "      <td>fulfilled</td>\n",
              "      <td>Clinton</td>\n",
              "      <td>'37716</td>\n",
              "      <td>TN</td>\n",
              "      <td>US</td>\n",
              "      <td>Lancaster</td>\n",
              "      <td>'17601</td>\n",
              "      <td>PA</td>\n",
              "      <td>US</td>\n",
              "      <td>NaT</td>\n",
              "    </tr>\n",
              "    <tr>\n",
              "      <th>394631</th>\n",
              "      <td>148920</td>\n",
              "      <td>18883.0</td>\n",
              "      <td>paid</td>\n",
              "      <td>2022-04-07 04:02:00</td>\n",
              "      <td>fulfilled</td>\n",
              "      <td>2022-04-07 19:07:00</td>\n",
              "      <td>yes</td>\n",
              "      <td>USD</td>\n",
              "      <td>39.99</td>\n",
              "      <td>7.99</td>\n",
              "      <td>...</td>\n",
              "      <td>fulfilled</td>\n",
              "      <td>Westbury</td>\n",
              "      <td>'11590</td>\n",
              "      <td>NY</td>\n",
              "      <td>US</td>\n",
              "      <td>Westbury</td>\n",
              "      <td>'11590</td>\n",
              "      <td>NY</td>\n",
              "      <td>US</td>\n",
              "      <td>NaT</td>\n",
              "    </tr>\n",
              "    <tr>\n",
              "      <th>394632</th>\n",
              "      <td>148919</td>\n",
              "      <td>18884.0</td>\n",
              "      <td>paid</td>\n",
              "      <td>2022-04-07 03:00:00</td>\n",
              "      <td>fulfilled</td>\n",
              "      <td>2022-04-07 19:08:00</td>\n",
              "      <td>yes</td>\n",
              "      <td>USD</td>\n",
              "      <td>32.98</td>\n",
              "      <td>7.99</td>\n",
              "      <td>...</td>\n",
              "      <td>fulfilled</td>\n",
              "      <td>Arcadia</td>\n",
              "      <td>'91007</td>\n",
              "      <td>CA</td>\n",
              "      <td>US</td>\n",
              "      <td>Arcadia</td>\n",
              "      <td>'91007</td>\n",
              "      <td>CA</td>\n",
              "      <td>US</td>\n",
              "      <td>NaT</td>\n",
              "    </tr>\n",
              "    <tr>\n",
              "      <th>394633</th>\n",
              "      <td>148918</td>\n",
              "      <td>18885.0</td>\n",
              "      <td>paid</td>\n",
              "      <td>2022-04-07 01:44:00</td>\n",
              "      <td>fulfilled</td>\n",
              "      <td>2022-04-09 19:11:00</td>\n",
              "      <td>yes</td>\n",
              "      <td>USD</td>\n",
              "      <td>23.98</td>\n",
              "      <td>7.99</td>\n",
              "      <td>...</td>\n",
              "      <td>fulfilled</td>\n",
              "      <td>Oakland</td>\n",
              "      <td>'94602</td>\n",
              "      <td>CA</td>\n",
              "      <td>US</td>\n",
              "      <td>Oakland</td>\n",
              "      <td>'94602</td>\n",
              "      <td>CA</td>\n",
              "      <td>US</td>\n",
              "      <td>NaT</td>\n",
              "    </tr>\n",
              "    <tr>\n",
              "      <th>394634</th>\n",
              "      <td>148917</td>\n",
              "      <td>1205.0</td>\n",
              "      <td>paid</td>\n",
              "      <td>2022-04-07 01:39:00</td>\n",
              "      <td>fulfilled</td>\n",
              "      <td>2022-04-07 19:07:00</td>\n",
              "      <td>no</td>\n",
              "      <td>USD</td>\n",
              "      <td>79.95</td>\n",
              "      <td>0.00</td>\n",
              "      <td>...</td>\n",
              "      <td>fulfilled</td>\n",
              "      <td>Westfield</td>\n",
              "      <td>'46074</td>\n",
              "      <td>IN</td>\n",
              "      <td>US</td>\n",
              "      <td>Westfield</td>\n",
              "      <td>'46074</td>\n",
              "      <td>IN</td>\n",
              "      <td>US</td>\n",
              "      <td>NaT</td>\n",
              "    </tr>\n",
              "  </tbody>\n",
              "</table>\n",
              "<p>106867 rows × 33 columns</p>\n",
              "</div>\n",
              "      <button class=\"colab-df-convert\" onclick=\"convertToInteractive('df-2165c516-555f-4194-aea5-632c6cf90269')\"\n",
              "              title=\"Convert this dataframe to an interactive table.\"\n",
              "              style=\"display:none;\">\n",
              "        \n",
              "  <svg xmlns=\"http://www.w3.org/2000/svg\" height=\"24px\"viewBox=\"0 0 24 24\"\n",
              "       width=\"24px\">\n",
              "    <path d=\"M0 0h24v24H0V0z\" fill=\"none\"/>\n",
              "    <path d=\"M18.56 5.44l.94 2.06.94-2.06 2.06-.94-2.06-.94-.94-2.06-.94 2.06-2.06.94zm-11 1L8.5 8.5l.94-2.06 2.06-.94-2.06-.94L8.5 2.5l-.94 2.06-2.06.94zm10 10l.94 2.06.94-2.06 2.06-.94-2.06-.94-.94-2.06-.94 2.06-2.06.94z\"/><path d=\"M17.41 7.96l-1.37-1.37c-.4-.4-.92-.59-1.43-.59-.52 0-1.04.2-1.43.59L10.3 9.45l-7.72 7.72c-.78.78-.78 2.05 0 2.83L4 21.41c.39.39.9.59 1.41.59.51 0 1.02-.2 1.41-.59l7.78-7.78 2.81-2.81c.8-.78.8-2.07 0-2.86zM5.41 20L4 18.59l7.72-7.72 1.47 1.35L5.41 20z\"/>\n",
              "  </svg>\n",
              "      </button>\n",
              "      \n",
              "  <style>\n",
              "    .colab-df-container {\n",
              "      display:flex;\n",
              "      flex-wrap:wrap;\n",
              "      gap: 12px;\n",
              "    }\n",
              "\n",
              "    .colab-df-convert {\n",
              "      background-color: #E8F0FE;\n",
              "      border: none;\n",
              "      border-radius: 50%;\n",
              "      cursor: pointer;\n",
              "      display: none;\n",
              "      fill: #1967D2;\n",
              "      height: 32px;\n",
              "      padding: 0 0 0 0;\n",
              "      width: 32px;\n",
              "    }\n",
              "\n",
              "    .colab-df-convert:hover {\n",
              "      background-color: #E2EBFA;\n",
              "      box-shadow: 0px 1px 2px rgba(60, 64, 67, 0.3), 0px 1px 3px 1px rgba(60, 64, 67, 0.15);\n",
              "      fill: #174EA6;\n",
              "    }\n",
              "\n",
              "    [theme=dark] .colab-df-convert {\n",
              "      background-color: #3B4455;\n",
              "      fill: #D2E3FC;\n",
              "    }\n",
              "\n",
              "    [theme=dark] .colab-df-convert:hover {\n",
              "      background-color: #434B5C;\n",
              "      box-shadow: 0px 1px 3px 1px rgba(0, 0, 0, 0.15);\n",
              "      filter: drop-shadow(0px 1px 2px rgba(0, 0, 0, 0.3));\n",
              "      fill: #FFFFFF;\n",
              "    }\n",
              "  </style>\n",
              "\n",
              "      <script>\n",
              "        const buttonEl =\n",
              "          document.querySelector('#df-2165c516-555f-4194-aea5-632c6cf90269 button.colab-df-convert');\n",
              "        buttonEl.style.display =\n",
              "          google.colab.kernel.accessAllowed ? 'block' : 'none';\n",
              "\n",
              "        async function convertToInteractive(key) {\n",
              "          const element = document.querySelector('#df-2165c516-555f-4194-aea5-632c6cf90269');\n",
              "          const dataTable =\n",
              "            await google.colab.kernel.invokeFunction('convertToInteractive',\n",
              "                                                     [key], {});\n",
              "          if (!dataTable) return;\n",
              "\n",
              "          const docLinkHtml = 'Like what you see? Visit the ' +\n",
              "            '<a target=\"_blank\" href=https://colab.research.google.com/notebooks/data_table.ipynb>data table notebook</a>'\n",
              "            + ' to learn more about interactive tables.';\n",
              "          element.innerHTML = '';\n",
              "          dataTable['output_type'] = 'display_data';\n",
              "          await google.colab.output.renderOutput(dataTable, element);\n",
              "          const docLink = document.createElement('div');\n",
              "          docLink.innerHTML = docLinkHtml;\n",
              "          element.appendChild(docLink);\n",
              "        }\n",
              "      </script>\n",
              "    </div>\n",
              "  </div>\n",
              "  "
            ],
            "text/plain": [
              "          Name    Email Financial Status             Paid at  \\\n",
              "0        93689   1459.0             paid 2021-07-11 14:46:00   \n",
              "4        93688   1460.0             paid 2021-07-11 14:46:00   \n",
              "9        93687   1461.0             paid 2021-07-11 14:44:00   \n",
              "13       93686   1462.0             paid 2021-07-11 14:43:00   \n",
              "16       93685   1463.0             paid 2021-07-11 14:42:00   \n",
              "...        ...      ...              ...                 ...   \n",
              "394630  148921  15380.0             paid 2022-04-07 06:25:00   \n",
              "394631  148920  18883.0             paid 2022-04-07 04:02:00   \n",
              "394632  148919  18884.0             paid 2022-04-07 03:00:00   \n",
              "394633  148918  18885.0             paid 2022-04-07 01:44:00   \n",
              "394634  148917   1205.0             paid 2022-04-07 01:39:00   \n",
              "\n",
              "       Fulfillment Status        Fulfilled at Accepts Marketing Currency  \\\n",
              "0               fulfilled 2021-07-12 20:49:00               yes      USD   \n",
              "4               fulfilled 2021-07-12 20:49:00                no      USD   \n",
              "9               fulfilled 2021-07-12 20:49:00               yes      USD   \n",
              "13              fulfilled 2021-07-12 20:49:00               yes      USD   \n",
              "16              fulfilled 2021-07-12 20:50:00                no      USD   \n",
              "...                   ...                 ...               ...      ...   \n",
              "394630          fulfilled 2022-04-07 19:07:00               yes      USD   \n",
              "394631          fulfilled 2022-04-07 19:07:00               yes      USD   \n",
              "394632          fulfilled 2022-04-07 19:08:00               yes      USD   \n",
              "394633          fulfilled 2022-04-09 19:11:00               yes      USD   \n",
              "394634          fulfilled 2022-04-07 19:07:00                no      USD   \n",
              "\n",
              "        Subtotal  Shipping  ...  Lineitem fulfillment status  Billing City  \\\n",
              "0          54.94      0.00  ...                    fulfilled      Sylvania   \n",
              "4         101.95      0.00  ...                    fulfilled        Blaine   \n",
              "9          50.96      0.00  ...                    fulfilled         greer   \n",
              "13         55.94      0.00  ...                    fulfilled       Seattle   \n",
              "16         28.97      5.99  ...                    fulfilled     Toppenish   \n",
              "...          ...       ...  ...                          ...           ...   \n",
              "394630     52.99      0.00  ...                    fulfilled       Clinton   \n",
              "394631     39.99      7.99  ...                    fulfilled      Westbury   \n",
              "394632     32.98      7.99  ...                    fulfilled       Arcadia   \n",
              "394633     23.98      7.99  ...                    fulfilled      Oakland    \n",
              "394634     79.95      0.00  ...                    fulfilled     Westfield   \n",
              "\n",
              "       Billing Zip  Billing Province Billing Country Shipping City  \\\n",
              "0           '43560                OH              US      Sylvania   \n",
              "4           '98230                WA              US        Blaine   \n",
              "9           '29650                SC              US         greer   \n",
              "13      98103-7663                WA              US       Seattle   \n",
              "16          '98948                WA              US     Toppenish   \n",
              "...            ...               ...             ...           ...   \n",
              "394630      '37716                TN              US     Lancaster   \n",
              "394631      '11590                NY              US      Westbury   \n",
              "394632      '91007                CA              US       Arcadia   \n",
              "394633      '94602                CA              US      Oakland    \n",
              "394634      '46074                IN              US     Westfield   \n",
              "\n",
              "        Shipping Zip Shipping Province  Shipping Country  Cancelled at  \n",
              "0             '43560                OH                US           NaT  \n",
              "4             '98230                WA                US           NaT  \n",
              "9             '29650                SC                US           NaT  \n",
              "13        98103-7663                WA                US           NaT  \n",
              "16            '98948                WA                US           NaT  \n",
              "...              ...               ...               ...           ...  \n",
              "394630        '17601                PA                US           NaT  \n",
              "394631        '11590                NY                US           NaT  \n",
              "394632        '91007                CA                US           NaT  \n",
              "394633        '94602                CA                US           NaT  \n",
              "394634        '46074                IN                US           NaT  \n",
              "\n",
              "[106867 rows x 33 columns]"
            ]
          },
          "execution_count": 6,
          "metadata": {},
          "output_type": "execute_result"
        }
      ],
      "source": [
        "data"
      ]
    },
    {
      "cell_type": "markdown",
      "metadata": {
        "id": "QAhe84kLHJpf"
      },
      "source": [
        "We create several dictionaries where the keys would be emails and the values would be the variable associated to that email. For example, the order_frequency dictionary's keys are the emails and the values are that email's order frequency. These dictionaries are filled while iterating through the data dataframe. After these dictionaries are filled, parallel lists are created which eventually become the columns of the customer dataframe. "
      ]
    },
    {
      "cell_type": "code",
      "execution_count": null,
      "metadata": {
        "id": "qg0gC_D4NgLp"
      },
      "outputs": [],
      "source": [
        "order_frequency = defaultdict(int)\n",
        "disc_usage = defaultdict(int)\n",
        "spice_club = {}\n",
        "free_shipping_usage = defaultdict(int)\n",
        "total = defaultdict(int)\n",
        "zip = {}\n",
        "city = {} \n",
        "state = {}\n",
        "\n",
        "for index, row in data.iterrows():\n",
        "  order_frequency[row['Email']] += 1\n",
        "  if (row['Discount Amount'] > 0):\n",
        "    disc_usage[row['Email']] += 1\n",
        "  else:\n",
        "    disc_usage[row['Email']] += 0\n",
        "  spice_club[row['Email']] = row['Accepts Marketing']\n",
        "  if (row['Shipping'] == 0):\n",
        "    free_shipping_usage[row['Email']] += 1\n",
        "  else: \n",
        "    free_shipping_usage[row['Email']] += 0\n",
        "  total[row['Email']] += row['Total']\n",
        "  zip[row['Email']] = row['Shipping Zip']\n",
        "  city[row['Email']] = row['Shipping City']\n",
        "  state[row['Email']] = row['Shipping Province']\n",
        "\n",
        "email_col = []\n",
        "order_frequency_col = []\n",
        "disc_usage_col = []\n",
        "spice_club_col = []\n",
        "free_shipping_usage_col = [] \n",
        "total_col = []\n",
        "zip_col = []\n",
        "city_col = []\n",
        "state_col = []\n",
        "\n",
        "for i in data['Email'].unique():\n",
        "  email_col.append(i)\n",
        "  order_frequency_col.append(order_frequency[i])\n",
        "  disc_usage_col.append(disc_usage[i])\n",
        "  spice_club_col.append(spice_club[i])\n",
        "  free_shipping_usage_col.append(free_shipping_usage[i])\n",
        "  total_col.append(total[i])\n",
        "  zip_col.append(zip[i])\n",
        "  city_col.append(city[i])\n",
        "  state_col.append(state[i])\n",
        "\n",
        "customer = pd.DataFrame({\"Email\" : email_col, \"Order Frequency\" : order_frequency_col, \"Discount Usage\": disc_usage_col,\n",
        "                         \"Spice Club\" : spice_club_col, \"Free Shipping Usage\" : free_shipping_usage_col, \n",
        "                         \"Total\" : total_col, \"Zip Code\" : zip_col, \"City\" : city_col, \"State\" : state_col,})"
      ]
    },
    {
      "cell_type": "markdown",
      "metadata": {
        "id": "pwNJvmlHJG7y"
      },
      "source": [
        "We fix the zip code column in the customer dataframe by reformatting the entries which don't match the standard 5 digit format. "
      ]
    },
    {
      "cell_type": "code",
      "execution_count": null,
      "metadata": {
        "id": "0hWyEvBXNuiq"
      },
      "outputs": [],
      "source": [
        "fixed_zips = [] \n",
        "\n",
        "for index, row in customer.iterrows():\n",
        "  correct = str(row['Zip Code'])\n",
        "  if (correct[0] == \"'\"):\n",
        "    correct = correct[1:]\n",
        "  if (\"-\" in correct):\n",
        "    correct = correct[0:5]\n",
        "  fixed_zips.append(correct)\n",
        "\n",
        "customer['Zip Code'] = fixed_zips"
      ]
    },
    {
      "cell_type": "markdown",
      "metadata": {
        "id": "AxNLiPdEJj5R"
      },
      "source": [
        "We fix the cities column in the customer dataframe so they are all in the standard title case."
      ]
    },
    {
      "cell_type": "code",
      "execution_count": null,
      "metadata": {
        "id": "w8Tr0b9nNyiH"
      },
      "outputs": [],
      "source": [
        "fixed_cities = [] \n",
        "\n",
        "for index, row in customer.iterrows():\n",
        "  correct = \"\"\n",
        "  correct += str(row['City'])\n",
        "  correct = correct.title()\n",
        "  fixed_cities.append(correct)\n",
        "\n",
        "customer['City'] = fixed_cities"
      ]
    },
    {
      "cell_type": "markdown",
      "metadata": {
        "id": "76VwzzmDJ8UQ"
      },
      "source": [
        "We import a list of city names, found on Github. We then iterate through the customer dataframe and if the entry's shipping city is in the list of city names then a new column called \"Metro Index\" (which indicates if the customer is in a metropolitan area) is filled in to be \"Metro\" otherwise it is filled in to be \"Non-Metro\". "
      ]
    },
    {
      "cell_type": "code",
      "execution_count": null,
      "metadata": {
        "id": "wPxKFgkwN_KM"
      },
      "outputs": [],
      "source": [
        "city_names = [\"Aberdeen\", \"Abilene\", \"Akron\", \"Albany\", \"Albuquerque\", \"Alexandria\", \"Allentown\", \"Amarillo\", \"Anaheim\", \"Anchorage\", \"Ann Arbor\", \"Antioch\", \"Apple Valley\", \"Appleton\", \"Arlington\", \"Arvada\", \"Asheville\", \"Athens\", \"Atlanta\", \"Atlantic City\", \"Augusta\", \"Aurora\", \"Austin\", \"Bakersfield\", \"Baltimore\", \"Barnstable\", \"Baton Rouge\", \"Beaumont\", \"Bel Air\", \"Bellevue\", \"Berkeley\", \"Bethlehem\", \"Billings\", \"Birmingham\", \"Bloomington\", \"Boise\", \"Boise City\", \"Bonita Springs\", \"Boston\", \"Boulder\", \"Bradenton\", \"Bremerton\", \"Bridgeport\", \"Brighton\", \"Brownsville\", \"Bryan\", \"Buffalo\", \"Burbank\", \"Burlington\", \"Cambridge\", \"Canton\", \"Cape Coral\", \"Carrollton\", \"Cary\", \"Cathedral City\", \"Cedar Rapids\", \"Champaign\", \"Chandler\", \"Charleston\", \"Charlotte\", \"Chattanooga\", \"Chesapeake\", \"Chicago\", \"Chula Vista\", \"Cincinnati\", \"Clarke County\", \"Clarksville\", \"Clearwater\", \"Cleveland\", \"College Station\", \"Colorado Springs\", \"Columbia\", \"Columbus\", \"Concord\", \"Coral Springs\", \"Corona\", \"Corpus Christi\", \"Costa Mesa\", \"Dallas\", \"Daly City\", \"Danbury\", \"Davenport\", \"Davidson County\", \"Dayton\", \"Daytona Beach\", \"Deltona\", \"Denton\", \"Denver\", \"Des Moines\", \"Detroit\", \"Downey\", \"Duluth\", \"Durham\", \"El Monte\", \"El Paso\", \"Elizabeth\", \"Elk Grove\", \"Elkhart\", \"Erie\", \"Escondido\", \"Eugene\", \"Evansville\", \"Fairfield\", \"Fargo\", \"Fayetteville\", \"Fitchburg\", \"Flint\", \"Fontana\", \"Fort Collins\", \"Fort Lauderdale\", \"Fort Smith\", \"Fort Walton Beach\", \"Fort Wayne\", \"Fort Worth\", \"Frederick\", \"Fremont\", \"Fresno\", \"Fullerton\", \"Gainesville\", \"Garden Grove\", \"Garland\", \"Gastonia\", \"Gilbert\", \"Glendale\", \"Grand Prairie\", \"Grand Rapids\", \"Grayslake\", \"Green Bay\", \"GreenBay\", \"Greensboro\", \"Greenville\", \"Gulfport-Biloxi\", \"Hagerstown\", \"Hampton\", \"Harlingen\", \"Harrisburg\", \"Hartford\", \"Havre de Grace\", \"Hayward\", \"Hemet\", \"Henderson\", \"Hesperia\", \"Hialeah\", \"Hickory\", \"High Point\", \"Hollywood\", \"Honolulu\", \"Houma\", \"Houston\", \"Howell\", \"Huntington\", \"Huntington Beach\", \"Huntsville\", \"Independence\", \"Indianapolis\", \"Inglewood\", \"Irvine\", \"Irving\", \"Jackson\", \"Jacksonville\", \"Jefferson\", \"Jersey City\", \"Johnson City\", \"Joliet\", \"Kailua\", \"Kalamazoo\", \"Kaneohe\", \"Kansas City\", \"Kennewick\", \"Kenosha\", \"Killeen\", \"Kissimmee\", \"Knoxville\", \"Lacey\", \"Lafayette\", \"Lake Charles\", \"Lakeland\", \"Lakewood\", \"Lancaster\", \"Lansing\", \"Laredo\", \"Las Cruces\", \"Las Vegas\", \"Layton\", \"Leominster\", \"Lewisville\", \"Lexington\", \"Lincoln\", \"Little Rock\", \"Long Beach\", \"Lorain\", \"Los Angeles\", \"Louisville\", \"Lowell\", \"Lubbock\", \"Macon\", \"Madison\", \"Manchester\", \"Marina\", \"Marysville\", \"McAllen\", \"McHenry\", \"Medford\", \"Melbourne\", \"Memphis\", \"Merced\", \"Mesa\", \"Mesquite\", \"Miami\", \"Milwaukee\", \"Minneapolis\", \"Miramar\", \"Mission Viejo\", \"Mobile\", \"Modesto\", \"Monroe\", \"Monterey\", \"Montgomery\", \"Moreno Valley\", \"Murfreesboro\", \"Murrieta\", \"Muskegon\", \"Myrtle Beach\", \"Naperville\", \"Naples\", \"Nashua\", \"Nashville\", \"New Bedford\", \"New Haven\", \"New London\", \"New Orleans\", \"New York\", \"New York City\", \"Newark\", \"Newburgh\", \"Newport News\", \"Norfolk\", \"Normal\", \"Norman\", \"North Charleston\", \"North Las Vegas\", \"North Port\", \"Norwalk\", \"Norwich\", \"Oakland\", \"Ocala\", \"Oceanside\", \"Odessa\", \"Ogden\", \"Oklahoma City\", \"Olathe\", \"Olympia\", \"Omaha\", \"Ontario\", \"Orange\", \"Orem\", \"Orlando\", \"Overland Park\", \"Oxnard\", \"Palm Bay\", \"Palm Springs\", \"Palmdale\", \"Panama City\", \"Pasadena\", \"Paterson\", \"Pembroke Pines\", \"Pensacola\", \"Peoria\", \"Philadelphia\", \"Phoenix\", \"Pittsburgh\", \"Plano\", \"Pomona\", \"Pompano Beach\", \"Port Arthur\", \"Port Orange\", \"Port Saint Lucie\", \"Port St. Lucie\", \"Portland\", \"Portsmouth\", \"Poughkeepsie\", \"Providence\", \"Provo\", \"Pueblo\", \"Punta Gorda\", \"Racine\", \"Raleigh\", \"Rancho Cucamonga\", \"Reading\", \"Redding\", \"Reno\", \"Richland\", \"Richmond\", \"Richmond County\", \"Riverside\", \"Roanoke\", \"Rochester\", \"Rockford\", \"Roseville\", \"Round Lake Beach\", \"Sacramento\", \"Saginaw\", \"Saint Louis\", \"Saint Paul\", \"Saint Petersburg\", \"Salem\", \"Salinas\", \"Salt Lake City\", \"San Antonio\", \"San Bernardino\", \"San Buenaventura\", \"San Diego\", \"San Francisco\", \"San Jose\", \"Santa Ana\", \"Santa Barbara\", \"Santa Clara\", \"Santa Clarita\", \"Santa Cruz\", \"Santa Maria\", \"Santa Rosa\", \"Sarasota\", \"Savannah\", \"Scottsdale\", \"Scranton\", \"Seaside\", \"Seattle\", \"Sebastian\", \"Shreveport\", \"Simi Valley\", \"Sioux City\", \"Sioux Falls\", \"South Bend\", \"South Lyon\", \"Spartanburg\", \"Spokane\", \"Springdale\", \"Springfield\", \"St. Louis\", \"St. Paul\", \"St. Petersburg\", \"Stamford\", \"Sterling Heights\", \"Stockton\", \"Sunnyvale\", \"Syracuse\", \"Tacoma\", \"Tallahassee\", \"Tampa\", \"Temecula\", \"Tempe\", \"Thornton\", \"Thousand Oaks\", \"Toledo\", \"Topeka\", \"Torrance\", \"Trenton\", \"Tucson\", \"Tulsa\", \"Tuscaloosa\", \"Tyler\", \"Utica\", \"Vallejo\", \"Vancouver\", \"Vero Beach\", \"Victorville\", \"Virginia Beach\", \"Visalia\", \"Waco\", \"Warren\", \"Washington\", \"Waterbury\", \"Waterloo\", \"West Covina\", \"West Valley City\", \"Westminster\", \"Wichita\", \"Wilmington\", \"Winston\", \"Winter Haven\", \"Worcester\", \"Yakima\", \"Yonkers\", \"York\", \"Youngstown\"]\n",
        "metro_idx = [] \n",
        "\n",
        "for index, row in customer.iterrows():\n",
        "  if row['City'] in city_names:\n",
        "    metro_idx.append('Metro')\n",
        "  else:\n",
        "    metro_idx.append('Non-Metro')\n",
        "\n",
        "customer['Metro Index'] = metro_idx"
      ]
    },
    {
      "cell_type": "markdown",
      "metadata": {
        "id": "IiVE44N0LAD8"
      },
      "source": [
        "We convert all of the yes in the \"Spice Club\" and \"Metro Index\" column to 1 and 0 otherwise. We then modify the \"Spice Club\" column to be \"In Spice Club\" and the \"Metro Index\" column to be \"In Metro Area\" column."
      ]
    },
    {
      "cell_type": "code",
      "execution_count": null,
      "metadata": {
        "id": "stYI3wb5ORZ2"
      },
      "outputs": [],
      "source": [
        "in_spice_club = []\n",
        "in_metro_area = []\n",
        "\n",
        "for index, row in customer.iterrows():\n",
        "  if (row['Spice Club'] == 'yes'):\n",
        "    in_spice_club.append(1)\n",
        "  else:\n",
        "    in_spice_club.append(0)\n",
        "    \n",
        "  if (row['Metro Index'] == 'Metro'):\n",
        "    in_metro_area.append(1)\n",
        "  else:\n",
        "    in_metro_area.append(0)\n",
        "\n",
        "customer['Spice Club'] = in_spice_club\n",
        "customer['Metro Index'] = in_metro_area\n",
        "\n",
        "customer = customer.rename(columns={'Spice Club': 'In Spice Club', 'Metro Index': 'In Metro Area'})"
      ]
    },
    {
      "cell_type": "code",
      "execution_count": null,
      "metadata": {
        "colab": {
          "base_uri": "https://localhost:8080/",
          "height": 419
        },
        "id": "NKUHVYxjOT2o",
        "outputId": "782ccf14-e3b9-4685-c6ce-f8bdd670bf3d"
      },
      "outputs": [
        {
          "data": {
            "text/html": [
              "\n",
              "  <div id=\"df-6a41df3f-4b1b-4dc2-afa1-21535b922c15\">\n",
              "    <div class=\"colab-df-container\">\n",
              "      <div>\n",
              "<style scoped>\n",
              "    .dataframe tbody tr th:only-of-type {\n",
              "        vertical-align: middle;\n",
              "    }\n",
              "\n",
              "    .dataframe tbody tr th {\n",
              "        vertical-align: top;\n",
              "    }\n",
              "\n",
              "    .dataframe thead th {\n",
              "        text-align: right;\n",
              "    }\n",
              "</style>\n",
              "<table border=\"1\" class=\"dataframe\">\n",
              "  <thead>\n",
              "    <tr style=\"text-align: right;\">\n",
              "      <th></th>\n",
              "      <th>Email</th>\n",
              "      <th>Order Frequency</th>\n",
              "      <th>Discount Usage</th>\n",
              "      <th>In Spice Club</th>\n",
              "      <th>Free Shipping Usage</th>\n",
              "      <th>Total</th>\n",
              "      <th>Zip Code</th>\n",
              "      <th>City</th>\n",
              "      <th>State</th>\n",
              "      <th>In Metro Area</th>\n",
              "    </tr>\n",
              "  </thead>\n",
              "  <tbody>\n",
              "    <tr>\n",
              "      <th>0</th>\n",
              "      <td>1459.0</td>\n",
              "      <td>2</td>\n",
              "      <td>0</td>\n",
              "      <td>1</td>\n",
              "      <td>1</td>\n",
              "      <td>87.90</td>\n",
              "      <td>43560</td>\n",
              "      <td>Sylvania</td>\n",
              "      <td>OH</td>\n",
              "      <td>0</td>\n",
              "    </tr>\n",
              "    <tr>\n",
              "      <th>1</th>\n",
              "      <td>1460.0</td>\n",
              "      <td>9</td>\n",
              "      <td>1</td>\n",
              "      <td>1</td>\n",
              "      <td>8</td>\n",
              "      <td>794.77</td>\n",
              "      <td>98230</td>\n",
              "      <td>Blaine</td>\n",
              "      <td>WA</td>\n",
              "      <td>0</td>\n",
              "    </tr>\n",
              "    <tr>\n",
              "      <th>2</th>\n",
              "      <td>1461.0</td>\n",
              "      <td>21</td>\n",
              "      <td>1</td>\n",
              "      <td>1</td>\n",
              "      <td>19</td>\n",
              "      <td>980.51</td>\n",
              "      <td>29650</td>\n",
              "      <td>Greer</td>\n",
              "      <td>SC</td>\n",
              "      <td>0</td>\n",
              "    </tr>\n",
              "    <tr>\n",
              "      <th>3</th>\n",
              "      <td>1462.0</td>\n",
              "      <td>18</td>\n",
              "      <td>1</td>\n",
              "      <td>1</td>\n",
              "      <td>17</td>\n",
              "      <td>1294.04</td>\n",
              "      <td>98103</td>\n",
              "      <td>Seattle</td>\n",
              "      <td>WA</td>\n",
              "      <td>1</td>\n",
              "    </tr>\n",
              "    <tr>\n",
              "      <th>4</th>\n",
              "      <td>1463.0</td>\n",
              "      <td>5</td>\n",
              "      <td>0</td>\n",
              "      <td>0</td>\n",
              "      <td>2</td>\n",
              "      <td>195.61</td>\n",
              "      <td>98948</td>\n",
              "      <td>Toppenish</td>\n",
              "      <td>WA</td>\n",
              "      <td>0</td>\n",
              "    </tr>\n",
              "    <tr>\n",
              "      <th>...</th>\n",
              "      <td>...</td>\n",
              "      <td>...</td>\n",
              "      <td>...</td>\n",
              "      <td>...</td>\n",
              "      <td>...</td>\n",
              "      <td>...</td>\n",
              "      <td>...</td>\n",
              "      <td>...</td>\n",
              "      <td>...</td>\n",
              "      <td>...</td>\n",
              "    </tr>\n",
              "    <tr>\n",
              "      <th>51371</th>\n",
              "      <td>18878.0</td>\n",
              "      <td>1</td>\n",
              "      <td>0</td>\n",
              "      <td>1</td>\n",
              "      <td>1</td>\n",
              "      <td>67.93</td>\n",
              "      <td>78666</td>\n",
              "      <td>San Marcos</td>\n",
              "      <td>TX</td>\n",
              "      <td>0</td>\n",
              "    </tr>\n",
              "    <tr>\n",
              "      <th>51372</th>\n",
              "      <td>18880.0</td>\n",
              "      <td>1</td>\n",
              "      <td>0</td>\n",
              "      <td>0</td>\n",
              "      <td>1</td>\n",
              "      <td>45.00</td>\n",
              "      <td>44663</td>\n",
              "      <td>New Philadelphia</td>\n",
              "      <td>OH</td>\n",
              "      <td>0</td>\n",
              "    </tr>\n",
              "    <tr>\n",
              "      <th>51373</th>\n",
              "      <td>18881.0</td>\n",
              "      <td>1</td>\n",
              "      <td>0</td>\n",
              "      <td>0</td>\n",
              "      <td>0</td>\n",
              "      <td>18.23</td>\n",
              "      <td>20176</td>\n",
              "      <td>Leesburg</td>\n",
              "      <td>VA</td>\n",
              "      <td>0</td>\n",
              "    </tr>\n",
              "    <tr>\n",
              "      <th>51374</th>\n",
              "      <td>18882.0</td>\n",
              "      <td>1</td>\n",
              "      <td>0</td>\n",
              "      <td>1</td>\n",
              "      <td>1</td>\n",
              "      <td>127.99</td>\n",
              "      <td>18901</td>\n",
              "      <td>Doylestown</td>\n",
              "      <td>PA</td>\n",
              "      <td>0</td>\n",
              "    </tr>\n",
              "    <tr>\n",
              "      <th>51375</th>\n",
              "      <td>18883.0</td>\n",
              "      <td>1</td>\n",
              "      <td>0</td>\n",
              "      <td>1</td>\n",
              "      <td>0</td>\n",
              "      <td>47.98</td>\n",
              "      <td>11590</td>\n",
              "      <td>Westbury</td>\n",
              "      <td>NY</td>\n",
              "      <td>0</td>\n",
              "    </tr>\n",
              "  </tbody>\n",
              "</table>\n",
              "<p>51376 rows × 10 columns</p>\n",
              "</div>\n",
              "      <button class=\"colab-df-convert\" onclick=\"convertToInteractive('df-6a41df3f-4b1b-4dc2-afa1-21535b922c15')\"\n",
              "              title=\"Convert this dataframe to an interactive table.\"\n",
              "              style=\"display:none;\">\n",
              "        \n",
              "  <svg xmlns=\"http://www.w3.org/2000/svg\" height=\"24px\"viewBox=\"0 0 24 24\"\n",
              "       width=\"24px\">\n",
              "    <path d=\"M0 0h24v24H0V0z\" fill=\"none\"/>\n",
              "    <path d=\"M18.56 5.44l.94 2.06.94-2.06 2.06-.94-2.06-.94-.94-2.06-.94 2.06-2.06.94zm-11 1L8.5 8.5l.94-2.06 2.06-.94-2.06-.94L8.5 2.5l-.94 2.06-2.06.94zm10 10l.94 2.06.94-2.06 2.06-.94-2.06-.94-.94-2.06-.94 2.06-2.06.94z\"/><path d=\"M17.41 7.96l-1.37-1.37c-.4-.4-.92-.59-1.43-.59-.52 0-1.04.2-1.43.59L10.3 9.45l-7.72 7.72c-.78.78-.78 2.05 0 2.83L4 21.41c.39.39.9.59 1.41.59.51 0 1.02-.2 1.41-.59l7.78-7.78 2.81-2.81c.8-.78.8-2.07 0-2.86zM5.41 20L4 18.59l7.72-7.72 1.47 1.35L5.41 20z\"/>\n",
              "  </svg>\n",
              "      </button>\n",
              "      \n",
              "  <style>\n",
              "    .colab-df-container {\n",
              "      display:flex;\n",
              "      flex-wrap:wrap;\n",
              "      gap: 12px;\n",
              "    }\n",
              "\n",
              "    .colab-df-convert {\n",
              "      background-color: #E8F0FE;\n",
              "      border: none;\n",
              "      border-radius: 50%;\n",
              "      cursor: pointer;\n",
              "      display: none;\n",
              "      fill: #1967D2;\n",
              "      height: 32px;\n",
              "      padding: 0 0 0 0;\n",
              "      width: 32px;\n",
              "    }\n",
              "\n",
              "    .colab-df-convert:hover {\n",
              "      background-color: #E2EBFA;\n",
              "      box-shadow: 0px 1px 2px rgba(60, 64, 67, 0.3), 0px 1px 3px 1px rgba(60, 64, 67, 0.15);\n",
              "      fill: #174EA6;\n",
              "    }\n",
              "\n",
              "    [theme=dark] .colab-df-convert {\n",
              "      background-color: #3B4455;\n",
              "      fill: #D2E3FC;\n",
              "    }\n",
              "\n",
              "    [theme=dark] .colab-df-convert:hover {\n",
              "      background-color: #434B5C;\n",
              "      box-shadow: 0px 1px 3px 1px rgba(0, 0, 0, 0.15);\n",
              "      filter: drop-shadow(0px 1px 2px rgba(0, 0, 0, 0.3));\n",
              "      fill: #FFFFFF;\n",
              "    }\n",
              "  </style>\n",
              "\n",
              "      <script>\n",
              "        const buttonEl =\n",
              "          document.querySelector('#df-6a41df3f-4b1b-4dc2-afa1-21535b922c15 button.colab-df-convert');\n",
              "        buttonEl.style.display =\n",
              "          google.colab.kernel.accessAllowed ? 'block' : 'none';\n",
              "\n",
              "        async function convertToInteractive(key) {\n",
              "          const element = document.querySelector('#df-6a41df3f-4b1b-4dc2-afa1-21535b922c15');\n",
              "          const dataTable =\n",
              "            await google.colab.kernel.invokeFunction('convertToInteractive',\n",
              "                                                     [key], {});\n",
              "          if (!dataTable) return;\n",
              "\n",
              "          const docLinkHtml = 'Like what you see? Visit the ' +\n",
              "            '<a target=\"_blank\" href=https://colab.research.google.com/notebooks/data_table.ipynb>data table notebook</a>'\n",
              "            + ' to learn more about interactive tables.';\n",
              "          element.innerHTML = '';\n",
              "          dataTable['output_type'] = 'display_data';\n",
              "          await google.colab.output.renderOutput(dataTable, element);\n",
              "          const docLink = document.createElement('div');\n",
              "          docLink.innerHTML = docLinkHtml;\n",
              "          element.appendChild(docLink);\n",
              "        }\n",
              "      </script>\n",
              "    </div>\n",
              "  </div>\n",
              "  "
            ],
            "text/plain": [
              "         Email  Order Frequency  Discount Usage  In Spice Club  \\\n",
              "0       1459.0                2               0              1   \n",
              "1       1460.0                9               1              1   \n",
              "2       1461.0               21               1              1   \n",
              "3       1462.0               18               1              1   \n",
              "4       1463.0                5               0              0   \n",
              "...        ...              ...             ...            ...   \n",
              "51371  18878.0                1               0              1   \n",
              "51372  18880.0                1               0              0   \n",
              "51373  18881.0                1               0              0   \n",
              "51374  18882.0                1               0              1   \n",
              "51375  18883.0                1               0              1   \n",
              "\n",
              "       Free Shipping Usage    Total Zip Code              City State  \\\n",
              "0                        1    87.90    43560          Sylvania    OH   \n",
              "1                        8   794.77    98230            Blaine    WA   \n",
              "2                       19   980.51    29650             Greer    SC   \n",
              "3                       17  1294.04    98103           Seattle    WA   \n",
              "4                        2   195.61    98948         Toppenish    WA   \n",
              "...                    ...      ...      ...               ...   ...   \n",
              "51371                    1    67.93    78666        San Marcos    TX   \n",
              "51372                    1    45.00    44663  New Philadelphia    OH   \n",
              "51373                    0    18.23    20176          Leesburg    VA   \n",
              "51374                    1   127.99    18901        Doylestown    PA   \n",
              "51375                    0    47.98    11590          Westbury    NY   \n",
              "\n",
              "       In Metro Area  \n",
              "0                  0  \n",
              "1                  0  \n",
              "2                  0  \n",
              "3                  1  \n",
              "4                  0  \n",
              "...              ...  \n",
              "51371              0  \n",
              "51372              0  \n",
              "51373              0  \n",
              "51374              0  \n",
              "51375              0  \n",
              "\n",
              "[51376 rows x 10 columns]"
            ]
          },
          "execution_count": 12,
          "metadata": {},
          "output_type": "execute_result"
        }
      ],
      "source": [
        "customer"
      ]
    },
    {
      "cell_type": "markdown",
      "metadata": {
        "id": "zq_62S6oPSyK"
      },
      "source": [
        "# Answering: How do customers cluster into one-time vs. repeat customers?\n",
        "\n",
        "We created a few plots which described the clustering of one-time and repeat customers. "
      ]
    },
    {
      "cell_type": "markdown",
      "metadata": {
        "id": "XytG1y_EMHcX"
      },
      "source": [
        "We plot a histogram of the order frequencies, a column in the customer dataframe."
      ]
    },
    {
      "cell_type": "code",
      "execution_count": null,
      "metadata": {
        "colab": {
          "base_uri": "https://localhost:8080/",
          "height": 281
        },
        "id": "BjA7bvMtPVAF",
        "outputId": "f83588b0-6404-4372-922d-c9fa64873bf6"
      },
      "outputs": [
        {
          "data": {
            "image/png": "[encoded data removed]",
            "text/plain": [
              "<Figure size 432x288 with 1 Axes>"
            ]
          },
          "metadata": {
            "needs_background": "light"
          },
          "output_type": "display_data"
        }
      ],
      "source": [
        "plt.hist(customer['Order Frequency'])\n",
        "plt.title('Customer Order Frequency')\n",
        "plt.show()"
      ]
    },
    {
      "cell_type": "markdown",
      "metadata": {
        "id": "wkICZLQWMOUs"
      },
      "source": [
        "We plot a box plot of the order frequencies, a column in the customer dataframe."
      ]
    },
    {
      "cell_type": "code",
      "execution_count": null,
      "metadata": {
        "colab": {
          "base_uri": "https://localhost:8080/",
          "height": 265
        },
        "id": "nElfX-3YPY9-",
        "outputId": "e75a6067-3b0d-455c-e9c5-885c6fa52823"
      },
      "outputs": [
        {
          "data": {
            "image/png": "[encoded data removed]",
            "text/plain": [
              "<Figure size 432x288 with 1 Axes>"
            ]
          },
          "metadata": {
            "needs_background": "light"
          },
          "output_type": "display_data"
        }
      ],
      "source": [
        "plt.boxplot(customer['Order Frequency'])\n",
        "plt.show()"
      ]
    },
    {
      "cell_type": "markdown",
      "metadata": {
        "id": "IniTDqrYMTqK"
      },
      "source": [
        "We plot a bar graph where one of the bars is the count of customers whose count was 1, while the other bar is the count of customers who count was not one."
      ]
    },
    {
      "cell_type": "code",
      "execution_count": null,
      "metadata": {
        "colab": {
          "base_uri": "https://localhost:8080/",
          "height": 281
        },
        "id": "uXxe5QaOPbui",
        "outputId": "be85e207-f2a8-48fd-ef80-441df1c36dfe"
      },
      "outputs": [
        {
          "data": {
            "image/png": "[encoded data removed]",
            "text/plain": [
              "<Figure size 432x288 with 1 Axes>"
            ]
          },
          "metadata": {
            "needs_background": "light"
          },
          "output_type": "display_data"
        }
      ],
      "source": [
        "one_time_count = customer['Order Frequency'].value_counts()[1]\n",
        "repeat_count = len(customer['Order Frequency']) - one_time_count\n",
        "groups = ['One Time Customers', 'Repeat Customers']\n",
        "counts = [one_time_count,repeat_count]\n",
        "plt.bar(groups,counts)\n",
        "plt.title('Frequency of One-Time Customers vs. Frequency of Repeat Customers')\n",
        "plt.show()"
      ]
    },
    {
      "cell_type": "code",
      "execution_count": null,
      "metadata": {
        "colab": {
          "base_uri": "https://localhost:8080/"
        },
        "id": "-F1vlL59V9Wi",
        "outputId": "d2853865-7b6c-4736-e868-10f858b26da5"
      },
      "outputs": [
        {
          "data": {
            "text/plain": [
              "33378"
            ]
          },
          "execution_count": 16,
          "metadata": {},
          "output_type": "execute_result"
        }
      ],
      "source": [
        "one_time_count"
      ]
    },
    {
      "cell_type": "code",
      "execution_count": null,
      "metadata": {
        "colab": {
          "base_uri": "https://localhost:8080/"
        },
        "id": "sFVglEMmV_-1",
        "outputId": "32b57734-1dc8-467d-c121-fa6bff99501a"
      },
      "outputs": [
        {
          "data": {
            "text/plain": [
              "17998"
            ]
          },
          "execution_count": 17,
          "metadata": {},
          "output_type": "execute_result"
        }
      ],
      "source": [
        "repeat_count"
      ]
    },
    {
      "cell_type": "markdown",
      "metadata": {
        "id": "pOf6Kse7MuCN"
      },
      "source": [
        "# Answering: How long after a first purchase does a customer typically make a second purchase? \n",
        "\n",
        "We create a new column in the customer dataframe which represents the time delta between a customer's first and second order, we set all of the entries whose time delta was less than 3 to have a short-term delta in the short-time delta column."
      ]
    },
    {
      "cell_type": "markdown",
      "metadata": {
        "id": "P6gBqcHONfAn"
      },
      "source": [
        "We create a dictionary, customer_dates, whose key is a the customer's email and the value is a list of times the customer made orders. "
      ]
    },
    {
      "cell_type": "code",
      "execution_count": null,
      "metadata": {
        "id": "qyWs1KKVQBSI"
      },
      "outputs": [],
      "source": [
        "customer_dates = defaultdict(list)\n",
        "\n",
        "for index, row in data.iterrows():\n",
        "  customer_dates[row['Email']].append(row['Paid at'])"
      ]
    },
    {
      "cell_type": "markdown",
      "metadata": {
        "id": "ekrCtYcONm6x"
      },
      "source": [
        "We create a new dictionary, customer_time_delta, which holds the difference in time between a customer's first and second purchase aka time delta. We then create a function (daysdiff) which finds the number of days between two datetime objects. Finally, we iterate through the customer_dates dictionary mentioned. If a customer has more than one date, then we find the difference between those two dates using the daysdiff function and set it to the customer's value in the customer_time_delta, otherwise we the customer's value in the customer_time_delta to be 1000 (which is basically a NaN)."
      ]
    },
    {
      "cell_type": "code",
      "execution_count": null,
      "metadata": {
        "id": "dj95CTwDSve4"
      },
      "outputs": [],
      "source": [
        "import sys \n",
        "\n",
        "customer_time_delta = {}\n",
        "\n",
        "sum = 0\n",
        "elements = 0\n",
        "\n",
        "def daysdiff(a, b):\n",
        "  return abs((a.to_pydatetime() - b.to_pydatetime()).days)\n",
        "\n",
        "for key in customer_dates:\n",
        "  if (len(customer_dates[key]) > 1):\n",
        "    delta = daysdiff(customer_dates[key][0], customer_dates[key][1])\n",
        "    customer_time_delta[key] = delta\n",
        "    sum += delta\n",
        "    elements += 1\n",
        "  else:\n",
        "    customer_time_delta[key] = 1000"
      ]
    },
    {
      "cell_type": "markdown",
      "metadata": {
        "id": "Q6aIEO2IVOHb"
      },
      "source": [
        "We iterate through the customer_time_delta dictionary and fill in dataframe with each customer's time delta. "
      ]
    },
    {
      "cell_type": "code",
      "execution_count": null,
      "metadata": {
        "id": "wyyWhIiIUiqt"
      },
      "outputs": [],
      "source": [
        "delta = [] \n",
        "\n",
        "for index, row in customer.iterrows():\n",
        "  delta.append(customer_time_delta[row['Email']])"
      ]
    },
    {
      "cell_type": "code",
      "execution_count": null,
      "metadata": {
        "colab": {
          "base_uri": "https://localhost:8080/",
          "height": 419
        },
        "id": "6-F7uxHGRytk",
        "outputId": "a369a891-5679-4edf-a7d4-ad1c1de601a8"
      },
      "outputs": [
        {
          "data": {
            "text/html": [
              "\n",
              "  <div id=\"df-a3c6cc34-2d9b-445f-8c6e-3a0fc09ac9b6\">\n",
              "    <div class=\"colab-df-container\">\n",
              "      <div>\n",
              "<style scoped>\n",
              "    .dataframe tbody tr th:only-of-type {\n",
              "        vertical-align: middle;\n",
              "    }\n",
              "\n",
              "    .dataframe tbody tr th {\n",
              "        vertical-align: top;\n",
              "    }\n",
              "\n",
              "    .dataframe thead th {\n",
              "        text-align: right;\n",
              "    }\n",
              "</style>\n",
              "<table border=\"1\" class=\"dataframe\">\n",
              "  <thead>\n",
              "    <tr style=\"text-align: right;\">\n",
              "      <th></th>\n",
              "      <th>Email</th>\n",
              "      <th>Order Frequency</th>\n",
              "      <th>Discount Usage</th>\n",
              "      <th>In Spice Club</th>\n",
              "      <th>Free Shipping Usage</th>\n",
              "      <th>Total</th>\n",
              "      <th>Zip Code</th>\n",
              "      <th>City</th>\n",
              "      <th>State</th>\n",
              "      <th>In Metro Area</th>\n",
              "      <th>Time Delta</th>\n",
              "    </tr>\n",
              "  </thead>\n",
              "  <tbody>\n",
              "    <tr>\n",
              "      <th>0</th>\n",
              "      <td>1459.0</td>\n",
              "      <td>2</td>\n",
              "      <td>0</td>\n",
              "      <td>1</td>\n",
              "      <td>1</td>\n",
              "      <td>87.90</td>\n",
              "      <td>43560</td>\n",
              "      <td>Sylvania</td>\n",
              "      <td>OH</td>\n",
              "      <td>0</td>\n",
              "      <td>132.0</td>\n",
              "    </tr>\n",
              "    <tr>\n",
              "      <th>1</th>\n",
              "      <td>1460.0</td>\n",
              "      <td>9</td>\n",
              "      <td>1</td>\n",
              "      <td>1</td>\n",
              "      <td>8</td>\n",
              "      <td>794.77</td>\n",
              "      <td>98230</td>\n",
              "      <td>Blaine</td>\n",
              "      <td>WA</td>\n",
              "      <td>0</td>\n",
              "      <td>54.0</td>\n",
              "    </tr>\n",
              "    <tr>\n",
              "      <th>2</th>\n",
              "      <td>1461.0</td>\n",
              "      <td>21</td>\n",
              "      <td>1</td>\n",
              "      <td>1</td>\n",
              "      <td>19</td>\n",
              "      <td>980.51</td>\n",
              "      <td>29650</td>\n",
              "      <td>Greer</td>\n",
              "      <td>SC</td>\n",
              "      <td>0</td>\n",
              "      <td>40.0</td>\n",
              "    </tr>\n",
              "    <tr>\n",
              "      <th>3</th>\n",
              "      <td>1462.0</td>\n",
              "      <td>18</td>\n",
              "      <td>1</td>\n",
              "      <td>1</td>\n",
              "      <td>17</td>\n",
              "      <td>1294.04</td>\n",
              "      <td>98103</td>\n",
              "      <td>Seattle</td>\n",
              "      <td>WA</td>\n",
              "      <td>1</td>\n",
              "      <td>14.0</td>\n",
              "    </tr>\n",
              "    <tr>\n",
              "      <th>4</th>\n",
              "      <td>1463.0</td>\n",
              "      <td>5</td>\n",
              "      <td>0</td>\n",
              "      <td>0</td>\n",
              "      <td>2</td>\n",
              "      <td>195.61</td>\n",
              "      <td>98948</td>\n",
              "      <td>Toppenish</td>\n",
              "      <td>WA</td>\n",
              "      <td>0</td>\n",
              "      <td>120.0</td>\n",
              "    </tr>\n",
              "    <tr>\n",
              "      <th>...</th>\n",
              "      <td>...</td>\n",
              "      <td>...</td>\n",
              "      <td>...</td>\n",
              "      <td>...</td>\n",
              "      <td>...</td>\n",
              "      <td>...</td>\n",
              "      <td>...</td>\n",
              "      <td>...</td>\n",
              "      <td>...</td>\n",
              "      <td>...</td>\n",
              "      <td>...</td>\n",
              "    </tr>\n",
              "    <tr>\n",
              "      <th>51371</th>\n",
              "      <td>18878.0</td>\n",
              "      <td>1</td>\n",
              "      <td>0</td>\n",
              "      <td>1</td>\n",
              "      <td>1</td>\n",
              "      <td>67.93</td>\n",
              "      <td>78666</td>\n",
              "      <td>San Marcos</td>\n",
              "      <td>TX</td>\n",
              "      <td>0</td>\n",
              "      <td>1000.0</td>\n",
              "    </tr>\n",
              "    <tr>\n",
              "      <th>51372</th>\n",
              "      <td>18880.0</td>\n",
              "      <td>1</td>\n",
              "      <td>0</td>\n",
              "      <td>0</td>\n",
              "      <td>1</td>\n",
              "      <td>45.00</td>\n",
              "      <td>44663</td>\n",
              "      <td>New Philadelphia</td>\n",
              "      <td>OH</td>\n",
              "      <td>0</td>\n",
              "      <td>1000.0</td>\n",
              "    </tr>\n",
              "    <tr>\n",
              "      <th>51373</th>\n",
              "      <td>18881.0</td>\n",
              "      <td>1</td>\n",
              "      <td>0</td>\n",
              "      <td>0</td>\n",
              "      <td>0</td>\n",
              "      <td>18.23</td>\n",
              "      <td>20176</td>\n",
              "      <td>Leesburg</td>\n",
              "      <td>VA</td>\n",
              "      <td>0</td>\n",
              "      <td>1000.0</td>\n",
              "    </tr>\n",
              "    <tr>\n",
              "      <th>51374</th>\n",
              "      <td>18882.0</td>\n",
              "      <td>1</td>\n",
              "      <td>0</td>\n",
              "      <td>1</td>\n",
              "      <td>1</td>\n",
              "      <td>127.99</td>\n",
              "      <td>18901</td>\n",
              "      <td>Doylestown</td>\n",
              "      <td>PA</td>\n",
              "      <td>0</td>\n",
              "      <td>1000.0</td>\n",
              "    </tr>\n",
              "    <tr>\n",
              "      <th>51375</th>\n",
              "      <td>18883.0</td>\n",
              "      <td>1</td>\n",
              "      <td>0</td>\n",
              "      <td>1</td>\n",
              "      <td>0</td>\n",
              "      <td>47.98</td>\n",
              "      <td>11590</td>\n",
              "      <td>Westbury</td>\n",
              "      <td>NY</td>\n",
              "      <td>0</td>\n",
              "      <td>1000.0</td>\n",
              "    </tr>\n",
              "  </tbody>\n",
              "</table>\n",
              "<p>51376 rows × 11 columns</p>\n",
              "</div>\n",
              "      <button class=\"colab-df-convert\" onclick=\"convertToInteractive('df-a3c6cc34-2d9b-445f-8c6e-3a0fc09ac9b6')\"\n",
              "              title=\"Convert this dataframe to an interactive table.\"\n",
              "              style=\"display:none;\">\n",
              "        \n",
              "  <svg xmlns=\"http://www.w3.org/2000/svg\" height=\"24px\"viewBox=\"0 0 24 24\"\n",
              "       width=\"24px\">\n",
              "    <path d=\"M0 0h24v24H0V0z\" fill=\"none\"/>\n",
              "    <path d=\"M18.56 5.44l.94 2.06.94-2.06 2.06-.94-2.06-.94-.94-2.06-.94 2.06-2.06.94zm-11 1L8.5 8.5l.94-2.06 2.06-.94-2.06-.94L8.5 2.5l-.94 2.06-2.06.94zm10 10l.94 2.06.94-2.06 2.06-.94-2.06-.94-.94-2.06-.94 2.06-2.06.94z\"/><path d=\"M17.41 7.96l-1.37-1.37c-.4-.4-.92-.59-1.43-.59-.52 0-1.04.2-1.43.59L10.3 9.45l-7.72 7.72c-.78.78-.78 2.05 0 2.83L4 21.41c.39.39.9.59 1.41.59.51 0 1.02-.2 1.41-.59l7.78-7.78 2.81-2.81c.8-.78.8-2.07 0-2.86zM5.41 20L4 18.59l7.72-7.72 1.47 1.35L5.41 20z\"/>\n",
              "  </svg>\n",
              "      </button>\n",
              "      \n",
              "  <style>\n",
              "    .colab-df-container {\n",
              "      display:flex;\n",
              "      flex-wrap:wrap;\n",
              "      gap: 12px;\n",
              "    }\n",
              "\n",
              "    .colab-df-convert {\n",
              "      background-color: #E8F0FE;\n",
              "      border: none;\n",
              "      border-radius: 50%;\n",
              "      cursor: pointer;\n",
              "      display: none;\n",
              "      fill: #1967D2;\n",
              "      height: 32px;\n",
              "      padding: 0 0 0 0;\n",
              "      width: 32px;\n",
              "    }\n",
              "\n",
              "    .colab-df-convert:hover {\n",
              "      background-color: #E2EBFA;\n",
              "      box-shadow: 0px 1px 2px rgba(60, 64, 67, 0.3), 0px 1px 3px 1px rgba(60, 64, 67, 0.15);\n",
              "      fill: #174EA6;\n",
              "    }\n",
              "\n",
              "    [theme=dark] .colab-df-convert {\n",
              "      background-color: #3B4455;\n",
              "      fill: #D2E3FC;\n",
              "    }\n",
              "\n",
              "    [theme=dark] .colab-df-convert:hover {\n",
              "      background-color: #434B5C;\n",
              "      box-shadow: 0px 1px 3px 1px rgba(0, 0, 0, 0.15);\n",
              "      filter: drop-shadow(0px 1px 2px rgba(0, 0, 0, 0.3));\n",
              "      fill: #FFFFFF;\n",
              "    }\n",
              "  </style>\n",
              "\n",
              "      <script>\n",
              "        const buttonEl =\n",
              "          document.querySelector('#df-a3c6cc34-2d9b-445f-8c6e-3a0fc09ac9b6 button.colab-df-convert');\n",
              "        buttonEl.style.display =\n",
              "          google.colab.kernel.accessAllowed ? 'block' : 'none';\n",
              "\n",
              "        async function convertToInteractive(key) {\n",
              "          const element = document.querySelector('#df-a3c6cc34-2d9b-445f-8c6e-3a0fc09ac9b6');\n",
              "          const dataTable =\n",
              "            await google.colab.kernel.invokeFunction('convertToInteractive',\n",
              "                                                     [key], {});\n",
              "          if (!dataTable) return;\n",
              "\n",
              "          const docLinkHtml = 'Like what you see? Visit the ' +\n",
              "            '<a target=\"_blank\" href=https://colab.research.google.com/notebooks/data_table.ipynb>data table notebook</a>'\n",
              "            + ' to learn more about interactive tables.';\n",
              "          element.innerHTML = '';\n",
              "          dataTable['output_type'] = 'display_data';\n",
              "          await google.colab.output.renderOutput(dataTable, element);\n",
              "          const docLink = document.createElement('div');\n",
              "          docLink.innerHTML = docLinkHtml;\n",
              "          element.appendChild(docLink);\n",
              "        }\n",
              "      </script>\n",
              "    </div>\n",
              "  </div>\n",
              "  "
            ],
            "text/plain": [
              "         Email  Order Frequency  Discount Usage  In Spice Club  \\\n",
              "0       1459.0                2               0              1   \n",
              "1       1460.0                9               1              1   \n",
              "2       1461.0               21               1              1   \n",
              "3       1462.0               18               1              1   \n",
              "4       1463.0                5               0              0   \n",
              "...        ...              ...             ...            ...   \n",
              "51371  18878.0                1               0              1   \n",
              "51372  18880.0                1               0              0   \n",
              "51373  18881.0                1               0              0   \n",
              "51374  18882.0                1               0              1   \n",
              "51375  18883.0                1               0              1   \n",
              "\n",
              "       Free Shipping Usage    Total Zip Code              City State  \\\n",
              "0                        1    87.90    43560          Sylvania    OH   \n",
              "1                        8   794.77    98230            Blaine    WA   \n",
              "2                       19   980.51    29650             Greer    SC   \n",
              "3                       17  1294.04    98103           Seattle    WA   \n",
              "4                        2   195.61    98948         Toppenish    WA   \n",
              "...                    ...      ...      ...               ...   ...   \n",
              "51371                    1    67.93    78666        San Marcos    TX   \n",
              "51372                    1    45.00    44663  New Philadelphia    OH   \n",
              "51373                    0    18.23    20176          Leesburg    VA   \n",
              "51374                    1   127.99    18901        Doylestown    PA   \n",
              "51375                    0    47.98    11590          Westbury    NY   \n",
              "\n",
              "       In Metro Area  Time Delta  \n",
              "0                  0       132.0  \n",
              "1                  0        54.0  \n",
              "2                  0        40.0  \n",
              "3                  1        14.0  \n",
              "4                  0       120.0  \n",
              "...              ...         ...  \n",
              "51371              0      1000.0  \n",
              "51372              0      1000.0  \n",
              "51373              0      1000.0  \n",
              "51374              0      1000.0  \n",
              "51375              0      1000.0  \n",
              "\n",
              "[51376 rows x 11 columns]"
            ]
          },
          "execution_count": 21,
          "metadata": {},
          "output_type": "execute_result"
        }
      ],
      "source": [
        "customer['Time Delta'] = delta\n",
        "customer"
      ]
    },
    {
      "cell_type": "code",
      "execution_count": null,
      "metadata": {
        "id": "swLa9Rj3Zf_r"
      },
      "outputs": [],
      "source": [
        "customer['Time Delta'] =  customer['Time Delta'].fillna(1000)"
      ]
    },
    {
      "cell_type": "markdown",
      "metadata": {
        "id": "notjsRsFVdP4"
      },
      "source": [
        "We create a new list called exist_time_delta which contains the time delta of all the customers who placed more than one order, which is the customer's whose time delta was not 1000. We chose 100 because it's not possible for any customer to have a time delta of 1000 because this dataset only consisted of two years. We then find the summary stats of this new list by converting the list to a Series and using the .describe() function on the series. "
      ]
    },
    {
      "cell_type": "code",
      "execution_count": null,
      "metadata": {
        "colab": {
          "base_uri": "https://localhost:8080/"
        },
        "id": "Hc1cWloIaiDy",
        "outputId": "de3d2ece-aaa9-4614-c929-284a853bc172"
      },
      "outputs": [
        {
          "data": {
            "text/plain": [
              "count    17785.000000\n",
              "mean       146.315772\n",
              "std        128.932284\n",
              "min          0.000000\n",
              "25%         40.000000\n",
              "50%        107.000000\n",
              "75%        223.000000\n",
              "max        599.000000\n",
              "dtype: float64"
            ]
          },
          "execution_count": 23,
          "metadata": {},
          "output_type": "execute_result"
        }
      ],
      "source": [
        "exist_time_delta = []\n",
        "\n",
        "for index, row in customer.iterrows():\n",
        "  if (row['Time Delta'] != 1000):\n",
        "    exist_time_delta.append(row['Time Delta'])\n",
        "\n",
        "exist_time_delta = pd.Series(exist_time_delta)\n",
        "exist_time_delta.describe()"
      ]
    },
    {
      "cell_type": "markdown",
      "metadata": {
        "id": "pPDonPUqV_rw"
      },
      "source": [
        "We create a new column called \"Short Time Delta\" which contains whether or not the customer's time delta exceeded 92 days (or three months). We iterare through the dataframe checking if each entries' time delta exceeded 92 days. If it did, the new column's value is 1 otherwise it's 0. "
      ]
    },
    {
      "cell_type": "code",
      "execution_count": null,
      "metadata": {
        "id": "RQhU9qfJb4RS"
      },
      "outputs": [],
      "source": [
        "short_time_delta = []\n",
        "\n",
        "for index, row in customer.iterrows():\n",
        "  if (row['Time Delta'] <= 92):\n",
        "    short_time_delta.append(1)\n",
        "  else:\n",
        "    short_time_delta.append(0)\n",
        "\n",
        "customer['Short Time Delta'] = short_time_delta"
      ]
    },
    {
      "cell_type": "code",
      "execution_count": null,
      "metadata": {
        "id": "I7hVxqyhcQkQ"
      },
      "outputs": [],
      "source": [
        "customer = customer.drop([\"Time Delta\"], axis = 1)"
      ]
    },
    {
      "cell_type": "markdown",
      "metadata": {
        "id": "_2Yz3j5Ncslw"
      },
      "source": [
        "# Answering: How do promotions (such as discount codes, free shipping, free kitchen towels, etc.) impact conversion from a one-time customer to a repeat customer?\n",
        "\n",
        "We run a few correlations and ML models to better understand how different variables affect order frequency and see how differe variables predict if a customer will be a one-time or repeat customer.\n",
        "\n",
        "\n",
        "\n",
        " "
      ]
    },
    {
      "cell_type": "markdown",
      "metadata": {
        "id": "MO7GQQ6gW9-a"
      },
      "source": [
        "We find the correlation between different columns using the .corr() function. In general, we find a strong linear correlation between discount usage and order frequency AS WELL as a strong linear correlation between free shipping usage and order frequenccy. We know this is because their correlation value (correlation coefficient) is fairly high. "
      ]
    },
    {
      "cell_type": "code",
      "execution_count": null,
      "metadata": {
        "colab": {
          "base_uri": "https://localhost:8080/",
          "height": 297
        },
        "id": "2cin4Z0ZeFj0",
        "outputId": "744bca59-f6a0-4ae2-9750-83b99611cd89"
      },
      "outputs": [
        {
          "data": {
            "text/html": [
              "\n",
              "  <div id=\"df-7f84f498-4e9c-4a3d-9c9c-f9ccb5050b24\">\n",
              "    <div class=\"colab-df-container\">\n",
              "      <div>\n",
              "<style scoped>\n",
              "    .dataframe tbody tr th:only-of-type {\n",
              "        vertical-align: middle;\n",
              "    }\n",
              "\n",
              "    .dataframe tbody tr th {\n",
              "        vertical-align: top;\n",
              "    }\n",
              "\n",
              "    .dataframe thead th {\n",
              "        text-align: right;\n",
              "    }\n",
              "</style>\n",
              "<table border=\"1\" class=\"dataframe\">\n",
              "  <thead>\n",
              "    <tr style=\"text-align: right;\">\n",
              "      <th></th>\n",
              "      <th>Email</th>\n",
              "      <th>Order Frequency</th>\n",
              "      <th>Discount Usage</th>\n",
              "      <th>In Spice Club</th>\n",
              "      <th>Free Shipping Usage</th>\n",
              "      <th>Total</th>\n",
              "      <th>In Metro Area</th>\n",
              "      <th>Short Time Delta</th>\n",
              "    </tr>\n",
              "  </thead>\n",
              "  <tbody>\n",
              "    <tr>\n",
              "      <th>Email</th>\n",
              "      <td>1.000000</td>\n",
              "      <td>-0.394083</td>\n",
              "      <td>-0.134683</td>\n",
              "      <td>-0.071653</td>\n",
              "      <td>-0.344999</td>\n",
              "      <td>-0.336533</td>\n",
              "      <td>0.006690</td>\n",
              "      <td>-0.243393</td>\n",
              "    </tr>\n",
              "    <tr>\n",
              "      <th>Order Frequency</th>\n",
              "      <td>-0.394083</td>\n",
              "      <td>1.000000</td>\n",
              "      <td>0.420447</td>\n",
              "      <td>0.089761</td>\n",
              "      <td>0.910715</td>\n",
              "      <td>0.893683</td>\n",
              "      <td>-0.010541</td>\n",
              "      <td>0.480596</td>\n",
              "    </tr>\n",
              "    <tr>\n",
              "      <th>Discount Usage</th>\n",
              "      <td>-0.134683</td>\n",
              "      <td>0.420447</td>\n",
              "      <td>1.000000</td>\n",
              "      <td>-0.093931</td>\n",
              "      <td>0.431365</td>\n",
              "      <td>0.425662</td>\n",
              "      <td>-0.000889</td>\n",
              "      <td>0.212052</td>\n",
              "    </tr>\n",
              "    <tr>\n",
              "      <th>In Spice Club</th>\n",
              "      <td>-0.071653</td>\n",
              "      <td>0.089761</td>\n",
              "      <td>-0.093931</td>\n",
              "      <td>1.000000</td>\n",
              "      <td>0.083820</td>\n",
              "      <td>0.074110</td>\n",
              "      <td>-0.041277</td>\n",
              "      <td>0.051919</td>\n",
              "    </tr>\n",
              "    <tr>\n",
              "      <th>Free Shipping Usage</th>\n",
              "      <td>-0.344999</td>\n",
              "      <td>0.910715</td>\n",
              "      <td>0.431365</td>\n",
              "      <td>0.083820</td>\n",
              "      <td>1.000000</td>\n",
              "      <td>0.896331</td>\n",
              "      <td>-0.008706</td>\n",
              "      <td>0.427536</td>\n",
              "    </tr>\n",
              "    <tr>\n",
              "      <th>Total</th>\n",
              "      <td>-0.336533</td>\n",
              "      <td>0.893683</td>\n",
              "      <td>0.425662</td>\n",
              "      <td>0.074110</td>\n",
              "      <td>0.896331</td>\n",
              "      <td>1.000000</td>\n",
              "      <td>-0.010938</td>\n",
              "      <td>0.429096</td>\n",
              "    </tr>\n",
              "    <tr>\n",
              "      <th>In Metro Area</th>\n",
              "      <td>0.006690</td>\n",
              "      <td>-0.010541</td>\n",
              "      <td>-0.000889</td>\n",
              "      <td>-0.041277</td>\n",
              "      <td>-0.008706</td>\n",
              "      <td>-0.010938</td>\n",
              "      <td>1.000000</td>\n",
              "      <td>-0.014237</td>\n",
              "    </tr>\n",
              "    <tr>\n",
              "      <th>Short Time Delta</th>\n",
              "      <td>-0.243393</td>\n",
              "      <td>0.480596</td>\n",
              "      <td>0.212052</td>\n",
              "      <td>0.051919</td>\n",
              "      <td>0.427536</td>\n",
              "      <td>0.429096</td>\n",
              "      <td>-0.014237</td>\n",
              "      <td>1.000000</td>\n",
              "    </tr>\n",
              "  </tbody>\n",
              "</table>\n",
              "</div>\n",
              "      <button class=\"colab-df-convert\" onclick=\"convertToInteractive('df-7f84f498-4e9c-4a3d-9c9c-f9ccb5050b24')\"\n",
              "              title=\"Convert this dataframe to an interactive table.\"\n",
              "              style=\"display:none;\">\n",
              "        \n",
              "  <svg xmlns=\"http://www.w3.org/2000/svg\" height=\"24px\"viewBox=\"0 0 24 24\"\n",
              "       width=\"24px\">\n",
              "    <path d=\"M0 0h24v24H0V0z\" fill=\"none\"/>\n",
              "    <path d=\"M18.56 5.44l.94 2.06.94-2.06 2.06-.94-2.06-.94-.94-2.06-.94 2.06-2.06.94zm-11 1L8.5 8.5l.94-2.06 2.06-.94-2.06-.94L8.5 2.5l-.94 2.06-2.06.94zm10 10l.94 2.06.94-2.06 2.06-.94-2.06-.94-.94-2.06-.94 2.06-2.06.94z\"/><path d=\"M17.41 7.96l-1.37-1.37c-.4-.4-.92-.59-1.43-.59-.52 0-1.04.2-1.43.59L10.3 9.45l-7.72 7.72c-.78.78-.78 2.05 0 2.83L4 21.41c.39.39.9.59 1.41.59.51 0 1.02-.2 1.41-.59l7.78-7.78 2.81-2.81c.8-.78.8-2.07 0-2.86zM5.41 20L4 18.59l7.72-7.72 1.47 1.35L5.41 20z\"/>\n",
              "  </svg>\n",
              "      </button>\n",
              "      \n",
              "  <style>\n",
              "    .colab-df-container {\n",
              "      display:flex;\n",
              "      flex-wrap:wrap;\n",
              "      gap: 12px;\n",
              "    }\n",
              "\n",
              "    .colab-df-convert {\n",
              "      background-color: #E8F0FE;\n",
              "      border: none;\n",
              "      border-radius: 50%;\n",
              "      cursor: pointer;\n",
              "      display: none;\n",
              "      fill: #1967D2;\n",
              "      height: 32px;\n",
              "      padding: 0 0 0 0;\n",
              "      width: 32px;\n",
              "    }\n",
              "\n",
              "    .colab-df-convert:hover {\n",
              "      background-color: #E2EBFA;\n",
              "      box-shadow: 0px 1px 2px rgba(60, 64, 67, 0.3), 0px 1px 3px 1px rgba(60, 64, 67, 0.15);\n",
              "      fill: #174EA6;\n",
              "    }\n",
              "\n",
              "    [theme=dark] .colab-df-convert {\n",
              "      background-color: #3B4455;\n",
              "      fill: #D2E3FC;\n",
              "    }\n",
              "\n",
              "    [theme=dark] .colab-df-convert:hover {\n",
              "      background-color: #434B5C;\n",
              "      box-shadow: 0px 1px 3px 1px rgba(0, 0, 0, 0.15);\n",
              "      filter: drop-shadow(0px 1px 2px rgba(0, 0, 0, 0.3));\n",
              "      fill: #FFFFFF;\n",
              "    }\n",
              "  </style>\n",
              "\n",
              "      <script>\n",
              "        const buttonEl =\n",
              "          document.querySelector('#df-7f84f498-4e9c-4a3d-9c9c-f9ccb5050b24 button.colab-df-convert');\n",
              "        buttonEl.style.display =\n",
              "          google.colab.kernel.accessAllowed ? 'block' : 'none';\n",
              "\n",
              "        async function convertToInteractive(key) {\n",
              "          const element = document.querySelector('#df-7f84f498-4e9c-4a3d-9c9c-f9ccb5050b24');\n",
              "          const dataTable =\n",
              "            await google.colab.kernel.invokeFunction('convertToInteractive',\n",
              "                                                     [key], {});\n",
              "          if (!dataTable) return;\n",
              "\n",
              "          const docLinkHtml = 'Like what you see? Visit the ' +\n",
              "            '<a target=\"_blank\" href=https://colab.research.google.com/notebooks/data_table.ipynb>data table notebook</a>'\n",
              "            + ' to learn more about interactive tables.';\n",
              "          element.innerHTML = '';\n",
              "          dataTable['output_type'] = 'display_data';\n",
              "          await google.colab.output.renderOutput(dataTable, element);\n",
              "          const docLink = document.createElement('div');\n",
              "          docLink.innerHTML = docLinkHtml;\n",
              "          element.appendChild(docLink);\n",
              "        }\n",
              "      </script>\n",
              "    </div>\n",
              "  </div>\n",
              "  "
            ],
            "text/plain": [
              "                        Email  Order Frequency  Discount Usage  In Spice Club  \\\n",
              "Email                1.000000        -0.394083       -0.134683      -0.071653   \n",
              "Order Frequency     -0.394083         1.000000        0.420447       0.089761   \n",
              "Discount Usage      -0.134683         0.420447        1.000000      -0.093931   \n",
              "In Spice Club       -0.071653         0.089761       -0.093931       1.000000   \n",
              "Free Shipping Usage -0.344999         0.910715        0.431365       0.083820   \n",
              "Total               -0.336533         0.893683        0.425662       0.074110   \n",
              "In Metro Area        0.006690        -0.010541       -0.000889      -0.041277   \n",
              "Short Time Delta    -0.243393         0.480596        0.212052       0.051919   \n",
              "\n",
              "                     Free Shipping Usage     Total  In Metro Area  \\\n",
              "Email                          -0.344999 -0.336533       0.006690   \n",
              "Order Frequency                 0.910715  0.893683      -0.010541   \n",
              "Discount Usage                  0.431365  0.425662      -0.000889   \n",
              "In Spice Club                   0.083820  0.074110      -0.041277   \n",
              "Free Shipping Usage             1.000000  0.896331      -0.008706   \n",
              "Total                           0.896331  1.000000      -0.010938   \n",
              "In Metro Area                  -0.008706 -0.010938       1.000000   \n",
              "Short Time Delta                0.427536  0.429096      -0.014237   \n",
              "\n",
              "                     Short Time Delta  \n",
              "Email                       -0.243393  \n",
              "Order Frequency              0.480596  \n",
              "Discount Usage               0.212052  \n",
              "In Spice Club                0.051919  \n",
              "Free Shipping Usage          0.427536  \n",
              "Total                        0.429096  \n",
              "In Metro Area               -0.014237  \n",
              "Short Time Delta             1.000000  "
            ]
          },
          "execution_count": 26,
          "metadata": {},
          "output_type": "execute_result"
        }
      ],
      "source": [
        "customer.corr()"
      ]
    },
    {
      "cell_type": "markdown",
      "metadata": {
        "id": "KUhBZ7OMXbeY"
      },
      "source": [
        "We plot the correlation values (correlation coeffieints) so that the higher correlation values are lighter while the lower correlation values are darker."
      ]
    },
    {
      "cell_type": "code",
      "execution_count": null,
      "metadata": {
        "colab": {
          "base_uri": "https://localhost:8080/",
          "height": 362
        },
        "id": "rKmeaOL-5jZv",
        "outputId": "874bbb8b-3dd8-4a08-b47d-cd584d25be31"
      },
      "outputs": [
        {
          "data": {
            "image/png": "[encoded data removed]",
            "text/plain": [
              "<Figure size 432x288 with 2 Axes>"
            ]
          },
          "metadata": {
            "needs_background": "light"
          },
          "output_type": "display_data"
        }
      ],
      "source": [
        "import seaborn as sns\n",
        "sns.heatmap(customer.corr(), annot = True);"
      ]
    },
    {
      "cell_type": "markdown",
      "metadata": {
        "id": "Xz89puijXwae"
      },
      "source": [
        "We make a couple more imports to libraries relating to classifer ML models."
      ]
    },
    {
      "cell_type": "code",
      "execution_count": null,
      "metadata": {
        "id": "ZpJ15JOOdPeF"
      },
      "outputs": [],
      "source": [
        "import pandas as pd\n",
        "import matplotlib.pyplot as plt\n",
        "import statsmodels.api as sm\n",
        "from sklearn.metrics import roc_curve, auc\n",
        "from sklearn.metrics import roc_auc_score\n",
        "from sklearn.model_selection import train_test_split\n",
        "from sklearn.tree import DecisionTreeClassifier, plot_tree\n",
        "from sklearn import metrics\n",
        "from sklearn.metrics import (confusion_matrix, accuracy_score)"
      ]
    },
    {
      "cell_type": "markdown",
      "metadata": {
        "id": "LJqg7NXxX2_T"
      },
      "source": [
        "We create a new column called \"Repeat Customer\". We iterate through the customer dataframe seeing if entries' \"Order Frequency\" exceeds one. If it does, this new column is filled with 1 representing it's a repeat customer otherwise it is filled with 0 representing it's a one-time customer. This new column will be the target of our ML model which means we will try to predict it using the different variables which will be our features. "
      ]
    },
    {
      "cell_type": "code",
      "execution_count": null,
      "metadata": {
        "id": "jkHJIcTZdbxD"
      },
      "outputs": [],
      "source": [
        "is_repeat_customer = []\n",
        "\n",
        "for index, row in customer.iterrows():\n",
        "  if (row['Order Frequency'] > 1):\n",
        "    is_repeat_customer.append(1)\n",
        "  else:\n",
        "    is_repeat_customer.append(0)\n",
        "\n",
        "customer['Repeat Customer'] = is_repeat_customer"
      ]
    },
    {
      "cell_type": "markdown",
      "metadata": {
        "id": "DB9dL8soYXUj"
      },
      "source": [
        "We create a test and train set. The train set will be used to train the ML model, while the test set (which is 20@) of the data will be used to test how well the ML model works. "
      ]
    },
    {
      "cell_type": "code",
      "execution_count": null,
      "metadata": {
        "id": "4VCkQFVrdRjq"
      },
      "outputs": [],
      "source": [
        "train, test = train_test_split(customer, test_size = 0.2, stratify = customer['Repeat Customer'], random_state = 42)"
      ]
    },
    {
      "cell_type": "code",
      "execution_count": null,
      "metadata": {
        "colab": {
          "base_uri": "https://localhost:8080/"
        },
        "id": "FebUduQieejD",
        "outputId": "ac69191d-d71c-485d-a9e0-204877973bb4"
      },
      "outputs": [
        {
          "data": {
            "text/plain": [
              "Index(['Email', 'Order Frequency', 'Discount Usage', 'In Spice Club',\n",
              "       'Free Shipping Usage', 'Total', 'Zip Code', 'City', 'State',\n",
              "       'In Metro Area', 'Short Time Delta', 'Repeat Customer'],\n",
              "      dtype='object')"
            ]
          },
          "execution_count": 31,
          "metadata": {},
          "output_type": "execute_result"
        }
      ],
      "source": [
        "customer.columns"
      ]
    },
    {
      "cell_type": "markdown",
      "metadata": {
        "id": "AfT9vvkjYnE2"
      },
      "source": [
        "As we previously mentioned, the different variables (Discount Usage, In Spice Club, Free Shipping Usage, In Metro Area, Short Time Delta) are the features which can be used to predict the target which is whether or not the customer is a Repeat Customer. "
      ]
    },
    {
      "cell_type": "code",
      "execution_count": null,
      "metadata": {
        "id": "FvSWUa0-eRWP"
      },
      "outputs": [],
      "source": [
        "fn = ['Discount Usage', 'In Spice Club', 'Free Shipping Usage', 'In Metro Area', 'Short Time Delta']\n",
        "cn = ['Repeat Customer']"
      ]
    },
    {
      "cell_type": "code",
      "execution_count": null,
      "metadata": {
        "id": "eWm878k2ervE"
      },
      "outputs": [],
      "source": [
        "x_train = train[fn]\n",
        "y_train = train[cn]\n",
        "x_test = test[fn]\n",
        "y_test = test[cn]"
      ]
    },
    {
      "cell_type": "markdown",
      "metadata": {
        "id": "gFDlPtBoY8bP"
      },
      "source": [
        "We then create a Logistic Rregression classifier which is trained by the X_train and y_train set, which is the parameters of the classifier. We print the statistical summary of the logistic regression."
      ]
    },
    {
      "cell_type": "code",
      "execution_count": null,
      "metadata": {
        "colab": {
          "base_uri": "https://localhost:8080/"
        },
        "id": "R4kjjjiSet8e",
        "outputId": "f28b09c9-4013-48e0-a0f9-4dcb800f3282"
      },
      "outputs": [
        {
          "name": "stdout",
          "output_type": "stream",
          "text": [
            "Warning: Maximum number of iterations has been exceeded.\n",
            "         Current function value: 0.421091\n",
            "         Iterations: 35\n"
          ]
        },
        {
          "name": "stderr",
          "output_type": "stream",
          "text": [
            "/usr/local/lib/python3.8/dist-packages/statsmodels/base/model.py:566: ConvergenceWarning: Maximum Likelihood optimization failed to converge. Check mle_retvals\n",
            "  warnings.warn(\"Maximum Likelihood optimization failed to \"\n"
          ]
        },
        {
          "name": "stdout",
          "output_type": "stream",
          "text": [
            "                           Logit Regression Results                           \n",
            "==============================================================================\n",
            "Dep. Variable:        Repeat Customer   No. Observations:                41100\n",
            "Model:                          Logit   Df Residuals:                    41095\n",
            "Method:                           MLE   Df Model:                            4\n",
            "Date:                Thu, 08 Dec 2022   Pseudo R-squ.:                  0.3498\n",
            "Time:                        00:10:17   Log-Likelihood:                -17307.\n",
            "converged:                      False   LL-Null:                       -26618.\n",
            "Covariance Type:            nonrobust   LLR p-value:                     0.000\n",
            "=======================================================================================\n",
            "                          coef    std err          z      P>|z|      [0.025      0.975]\n",
            "---------------------------------------------------------------------------------------\n",
            "Discount Usage         -0.6096      0.031    -19.357      0.000      -0.671      -0.548\n",
            "In Spice Club          -1.6769      0.023    -71.793      0.000      -1.723      -1.631\n",
            "Free Shipping Usage     0.9587      0.015     62.053      0.000       0.928       0.989\n",
            "In Metro Area          -1.3386      0.026    -51.787      0.000      -1.389      -1.288\n",
            "Short Time Delta       30.9108   4.33e+04      0.001      0.999   -8.49e+04     8.5e+04\n",
            "=======================================================================================\n",
            "\n",
            "Possibly complete quasi-separation: A fraction 0.15 of observations can be\n",
            "perfectly predicted. This might indicate that there is complete\n",
            "quasi-separation. In this case some parameters will not be identified.\n"
          ]
        }
      ],
      "source": [
        "LogisticModel = sm.Logit(y_train, x_train).fit()\n",
        "print(LogisticModel.summary())"
      ]
    },
    {
      "cell_type": "markdown",
      "metadata": {
        "id": "eDn_HNOYZSYl"
      },
      "source": [
        "The logistic regression creates a function which can be used to predict y-values (y_hat) using x-values (x_test). y_hat which is the predictions is compared to the actual y_test set."
      ]
    },
    {
      "cell_type": "code",
      "execution_count": null,
      "metadata": {
        "colab": {
          "base_uri": "https://localhost:8080/",
          "height": 419
        },
        "id": "55roTcmSew5z",
        "outputId": "f62d18a2-e7f2-421d-e6d9-0a0fee8f104b"
      },
      "outputs": [
        {
          "data": {
            "text/html": [
              "\n",
              "  <div id=\"df-fc921aa5-78c9-4867-b041-da245731cd3b\">\n",
              "    <div class=\"colab-df-container\">\n",
              "      <div>\n",
              "<style scoped>\n",
              "    .dataframe tbody tr th:only-of-type {\n",
              "        vertical-align: middle;\n",
              "    }\n",
              "\n",
              "    .dataframe tbody tr th {\n",
              "        vertical-align: top;\n",
              "    }\n",
              "\n",
              "    .dataframe thead th {\n",
              "        text-align: right;\n",
              "    }\n",
              "</style>\n",
              "<table border=\"1\" class=\"dataframe\">\n",
              "  <thead>\n",
              "    <tr style=\"text-align: right;\">\n",
              "      <th></th>\n",
              "      <th>Repeat Customer</th>\n",
              "      <th>y_hat</th>\n",
              "      <th>difference</th>\n",
              "    </tr>\n",
              "  </thead>\n",
              "  <tbody>\n",
              "    <tr>\n",
              "      <th>43394</th>\n",
              "      <td>0</td>\n",
              "      <td>0.722856</td>\n",
              "      <td>-0.722856</td>\n",
              "    </tr>\n",
              "    <tr>\n",
              "      <th>43156</th>\n",
              "      <td>0</td>\n",
              "      <td>0.722856</td>\n",
              "      <td>-0.722856</td>\n",
              "    </tr>\n",
              "    <tr>\n",
              "      <th>31366</th>\n",
              "      <td>0</td>\n",
              "      <td>0.722856</td>\n",
              "      <td>-0.722856</td>\n",
              "    </tr>\n",
              "    <tr>\n",
              "      <th>28793</th>\n",
              "      <td>0</td>\n",
              "      <td>0.722856</td>\n",
              "      <td>-0.722856</td>\n",
              "    </tr>\n",
              "    <tr>\n",
              "      <th>20913</th>\n",
              "      <td>0</td>\n",
              "      <td>0.722856</td>\n",
              "      <td>-0.722856</td>\n",
              "    </tr>\n",
              "    <tr>\n",
              "      <th>...</th>\n",
              "      <td>...</td>\n",
              "      <td>...</td>\n",
              "      <td>...</td>\n",
              "    </tr>\n",
              "    <tr>\n",
              "      <th>9046</th>\n",
              "      <td>1</td>\n",
              "      <td>0.025956</td>\n",
              "      <td>0.974044</td>\n",
              "    </tr>\n",
              "    <tr>\n",
              "      <th>10722</th>\n",
              "      <td>1</td>\n",
              "      <td>0.020123</td>\n",
              "      <td>0.979877</td>\n",
              "    </tr>\n",
              "    <tr>\n",
              "      <th>2054</th>\n",
              "      <td>1</td>\n",
              "      <td>0.014278</td>\n",
              "      <td>0.985722</td>\n",
              "    </tr>\n",
              "    <tr>\n",
              "      <th>23980</th>\n",
              "      <td>1</td>\n",
              "      <td>0.014278</td>\n",
              "      <td>0.985722</td>\n",
              "    </tr>\n",
              "    <tr>\n",
              "      <th>25107</th>\n",
              "      <td>1</td>\n",
              "      <td>0.014278</td>\n",
              "      <td>0.985722</td>\n",
              "    </tr>\n",
              "  </tbody>\n",
              "</table>\n",
              "<p>10276 rows × 3 columns</p>\n",
              "</div>\n",
              "      <button class=\"colab-df-convert\" onclick=\"convertToInteractive('df-fc921aa5-78c9-4867-b041-da245731cd3b')\"\n",
              "              title=\"Convert this dataframe to an interactive table.\"\n",
              "              style=\"display:none;\">\n",
              "        \n",
              "  <svg xmlns=\"http://www.w3.org/2000/svg\" height=\"24px\"viewBox=\"0 0 24 24\"\n",
              "       width=\"24px\">\n",
              "    <path d=\"M0 0h24v24H0V0z\" fill=\"none\"/>\n",
              "    <path d=\"M18.56 5.44l.94 2.06.94-2.06 2.06-.94-2.06-.94-.94-2.06-.94 2.06-2.06.94zm-11 1L8.5 8.5l.94-2.06 2.06-.94-2.06-.94L8.5 2.5l-.94 2.06-2.06.94zm10 10l.94 2.06.94-2.06 2.06-.94-2.06-.94-.94-2.06-.94 2.06-2.06.94z\"/><path d=\"M17.41 7.96l-1.37-1.37c-.4-.4-.92-.59-1.43-.59-.52 0-1.04.2-1.43.59L10.3 9.45l-7.72 7.72c-.78.78-.78 2.05 0 2.83L4 21.41c.39.39.9.59 1.41.59.51 0 1.02-.2 1.41-.59l7.78-7.78 2.81-2.81c.8-.78.8-2.07 0-2.86zM5.41 20L4 18.59l7.72-7.72 1.47 1.35L5.41 20z\"/>\n",
              "  </svg>\n",
              "      </button>\n",
              "      \n",
              "  <style>\n",
              "    .colab-df-container {\n",
              "      display:flex;\n",
              "      flex-wrap:wrap;\n",
              "      gap: 12px;\n",
              "    }\n",
              "\n",
              "    .colab-df-convert {\n",
              "      background-color: #E8F0FE;\n",
              "      border: none;\n",
              "      border-radius: 50%;\n",
              "      cursor: pointer;\n",
              "      display: none;\n",
              "      fill: #1967D2;\n",
              "      height: 32px;\n",
              "      padding: 0 0 0 0;\n",
              "      width: 32px;\n",
              "    }\n",
              "\n",
              "    .colab-df-convert:hover {\n",
              "      background-color: #E2EBFA;\n",
              "      box-shadow: 0px 1px 2px rgba(60, 64, 67, 0.3), 0px 1px 3px 1px rgba(60, 64, 67, 0.15);\n",
              "      fill: #174EA6;\n",
              "    }\n",
              "\n",
              "    [theme=dark] .colab-df-convert {\n",
              "      background-color: #3B4455;\n",
              "      fill: #D2E3FC;\n",
              "    }\n",
              "\n",
              "    [theme=dark] .colab-df-convert:hover {\n",
              "      background-color: #434B5C;\n",
              "      box-shadow: 0px 1px 3px 1px rgba(0, 0, 0, 0.15);\n",
              "      filter: drop-shadow(0px 1px 2px rgba(0, 0, 0, 0.3));\n",
              "      fill: #FFFFFF;\n",
              "    }\n",
              "  </style>\n",
              "\n",
              "      <script>\n",
              "        const buttonEl =\n",
              "          document.querySelector('#df-fc921aa5-78c9-4867-b041-da245731cd3b button.colab-df-convert');\n",
              "        buttonEl.style.display =\n",
              "          google.colab.kernel.accessAllowed ? 'block' : 'none';\n",
              "\n",
              "        async function convertToInteractive(key) {\n",
              "          const element = document.querySelector('#df-fc921aa5-78c9-4867-b041-da245731cd3b');\n",
              "          const dataTable =\n",
              "            await google.colab.kernel.invokeFunction('convertToInteractive',\n",
              "                                                     [key], {});\n",
              "          if (!dataTable) return;\n",
              "\n",
              "          const docLinkHtml = 'Like what you see? Visit the ' +\n",
              "            '<a target=\"_blank\" href=https://colab.research.google.com/notebooks/data_table.ipynb>data table notebook</a>'\n",
              "            + ' to learn more about interactive tables.';\n",
              "          element.innerHTML = '';\n",
              "          dataTable['output_type'] = 'display_data';\n",
              "          await google.colab.output.renderOutput(dataTable, element);\n",
              "          const docLink = document.createElement('div');\n",
              "          docLink.innerHTML = docLinkHtml;\n",
              "          element.appendChild(docLink);\n",
              "        }\n",
              "      </script>\n",
              "    </div>\n",
              "  </div>\n",
              "  "
            ],
            "text/plain": [
              "       Repeat Customer     y_hat  difference\n",
              "43394                0  0.722856   -0.722856\n",
              "43156                0  0.722856   -0.722856\n",
              "31366                0  0.722856   -0.722856\n",
              "28793                0  0.722856   -0.722856\n",
              "20913                0  0.722856   -0.722856\n",
              "...                ...       ...         ...\n",
              "9046                 1  0.025956    0.974044\n",
              "10722                1  0.020123    0.979877\n",
              "2054                 1  0.014278    0.985722\n",
              "23980                1  0.014278    0.985722\n",
              "25107                1  0.014278    0.985722\n",
              "\n",
              "[10276 rows x 3 columns]"
            ]
          },
          "execution_count": 35,
          "metadata": {},
          "output_type": "execute_result"
        }
      ],
      "source": [
        "y_hat = LogisticModel.predict(x_test)\n",
        "compare = pd.concat([y_test, y_hat], axis=1)\n",
        "compare = compare.rename(columns={0: 'y_hat'})\n",
        "compare['difference'] = compare['Repeat Customer'] - compare['y_hat']\n",
        "compare.sort_values(by=['difference'])"
      ]
    },
    {
      "cell_type": "markdown",
      "metadata": {
        "id": "L1jRlIH9ZmFV"
      },
      "source": [
        "We create a confusion matrix and calculate the accuracy score by oomparing the y_test values versus the prediction values. The confusion matrix calculates the number of true positives, false positives, true negatives, and false negatives while the accuracy calculates which is a score of the number of correct predictions. There's a high accuracy on the test, which suggests this is a well-fit model for the dataset. "
      ]
    },
    {
      "cell_type": "code",
      "execution_count": null,
      "metadata": {
        "colab": {
          "base_uri": "https://localhost:8080/"
        },
        "id": "CKNvulF-e4hT",
        "outputId": "36ca509a-dd77-464c-9709-9a204ebce6d0"
      },
      "outputs": [
        {
          "name": "stdout",
          "output_type": "stream",
          "text": [
            "Confusion Matrix : \n",
            " [[5812  864]\n",
            " [ 929 2671]]\n",
            "Test accuracy =  0.8255157648890619\n"
          ]
        }
      ],
      "source": [
        "prediction = list(map(round, y_hat)) \n",
        "\n",
        "# confusion matrix \n",
        "cm = confusion_matrix(y_test, prediction)  \n",
        "print (\"Confusion Matrix : \\n\", cm)  \n",
        "  \n",
        "# accuracy score of the model \n",
        "print('Test accuracy = ', accuracy_score(y_test, prediction))"
      ]
    },
    {
      "cell_type": "markdown",
      "metadata": {
        "id": "A_RRZbjygJN-"
      },
      "source": [
        "# Answering: How does discount usage affect order frequency?\n",
        "\n",
        "We create a varriety of plots which emphasize the relationship between order frequency and discount usage. "
      ]
    },
    {
      "cell_type": "markdown",
      "metadata": {
        "id": "mU2NLr8_aVN_"
      },
      "source": [
        "We begin by plotting a scatter plot using the Discount Usage and Order Frequency column from the customer dataframe. Again, we see a fairly strong linear relationship."
      ]
    },
    {
      "cell_type": "code",
      "execution_count": null,
      "metadata": {
        "colab": {
          "base_uri": "https://localhost:8080/",
          "height": 295
        },
        "id": "IKafDjO9gaT_",
        "outputId": "105478ba-63cf-4a60-a03d-f8ccac10228e"
      },
      "outputs": [
        {
          "data": {
            "image/png": "[encoded data removed]",
            "text/plain": [
              "<Figure size 432x288 with 1 Axes>"
            ]
          },
          "metadata": {
            "needs_background": "light"
          },
          "output_type": "display_data"
        }
      ],
      "source": [
        "plt.scatter(customer['Discount Usage'], customer['Order Frequency'])\n",
        "plt.xlabel('Discount Usage')\n",
        "plt.ylabel('Order Frequency')\n",
        "plt.title('Discount Usage vs. Order Frequency')\n",
        "plt.show()"
      ]
    },
    {
      "cell_type": "code",
      "execution_count": null,
      "metadata": {
        "id": "lfx-K7BhpV0R"
      },
      "outputs": [],
      "source": [
        "discount_df = data.copy()\n",
        "discount_df = discount_df.drop(['Name', 'Email', 'Financial Status', 'Fulfillment Status',\n",
        "       'Fulfilled at', 'Accepts Marketing', 'Currency', 'Subtotal', 'Shipping',\n",
        "       'Taxes', 'Total', 'Discount Code', 'Shipping Method',\n",
        "       'Created at', 'Lineitem quantity', 'Lineitem name', 'Lineitem price',\n",
        "       'Lineitem compare at price', 'Lineitem sku',\n",
        "       'Lineitem requires shipping', 'Lineitem taxable',\n",
        "       'Lineitem fulfillment status', 'Billing City', 'Billing Zip',\n",
        "       'Billing Province', 'Billing Country', 'Shipping City', 'Shipping Zip',\n",
        "       'Shipping Province', 'Shipping Country', 'Cancelled at'], axis = 1)"
      ]
    },
    {
      "cell_type": "code",
      "execution_count": null,
      "metadata": {
        "id": "c4Mwn1yfpnUl"
      },
      "outputs": [],
      "source": [
        "total_df = data.copy()\n",
        "total_df = total_df.drop(['Name', 'Email', 'Financial Status','Fulfillment Status',\n",
        "       'Fulfilled at', 'Accepts Marketing', 'Currency', 'Subtotal', 'Shipping',\n",
        "       'Taxes', 'Discount Code', 'Discount Amount', 'Shipping Method',\n",
        "       'Created at', 'Lineitem quantity', 'Lineitem name', 'Lineitem price',\n",
        "       'Lineitem compare at price', 'Lineitem sku',\n",
        "       'Lineitem requires shipping', 'Lineitem taxable',\n",
        "       'Lineitem fulfillment status', 'Billing City', 'Billing Zip',\n",
        "       'Billing Province', 'Billing Country', 'Shipping City', 'Shipping Zip',\n",
        "       'Shipping Province', 'Shipping Country', 'Cancelled at'], axis = 1)"
      ]
    },
    {
      "cell_type": "markdown",
      "metadata": {
        "id": "IzrNZxXtanYN"
      },
      "source": [
        "We do a group_by to find the Discount Amount and Total Amount grouped by month for the past two years. We then plot the Discount Amount and Total Amount per month against the months and we find that peaks in Discount Amount parallel peaks in Total Amount which suggests a positive relationship between Discount Amount and Total Amount. "
      ]
    },
    {
      "cell_type": "code",
      "execution_count": null,
      "metadata": {
        "id": "cl5cG3KYrUYE"
      },
      "outputs": [],
      "source": [
        "summed_discount = discount_df.groupby(['Paid at'])['Discount Amount'].sum()\n",
        "summed_total = total_df.groupby(['Paid at'])['Total'].sum()"
      ]
    },
    {
      "cell_type": "code",
      "execution_count": null,
      "metadata": {
        "colab": {
          "base_uri": "https://localhost:8080/",
          "height": 285
        },
        "id": "lFkYK6qCtxRR",
        "outputId": "876f9ea4-6ed6-4bf8-81ae-7967ec5d8a30"
      },
      "outputs": [
        {
          "data": {
            "image/png": "[encoded data removed]",
            "text/plain": [
              "<Figure size 432x288 with 2 Axes>"
            ]
          },
          "metadata": {
            "needs_background": "light"
          },
          "output_type": "display_data"
        }
      ],
      "source": [
        "import matplotlib.dates as mdates\n",
        "import matplotlib.pylab as plt\n",
        "\n",
        "plt.subplot(211)\n",
        "ax = summed_discount.plot(color = '#930c25')\n",
        "plt.plot()\n",
        "# plt.title('Discount Amount Over Time')\n",
        "# plt.xlabel('Time')\n",
        "# plt.ylabel('Summed Discount Amount (per day)')\n",
        "ax.xaxis.set_major_locator(mdates.MonthLocator(interval=2))\n",
        "ax.xaxis.set_major_formatter(mdates.DateFormatter('%Y-%m-%d'))\n",
        "plt.gcf().autofmt_xdate()\n",
        "\n",
        "plt.subplot(212)\n",
        "ax1 = (summed_total[summed_total < 9000]).plot(color = '#000')\n",
        "# plt.title('Revenue Over Time')\n",
        "# plt.xlabel('Time')\n",
        "# plt.ylabel('Revenue (per day)')\n",
        "ax1.xaxis.set_major_locator(mdates.MonthLocator(interval=2))\n",
        "ax1.xaxis.set_major_formatter(mdates.DateFormatter('%Y-%m-%d'))\n",
        "plt.gcf().autofmt_xdate()\n",
        "\n",
        "plt.show()"
      ]
    },
    {
      "cell_type": "markdown",
      "metadata": {
        "id": "bDJco3erbDNt"
      },
      "source": [
        "We determine what percent of the total amount is the discount amount and plot this discount percentage on a histogram. "
      ]
    },
    {
      "cell_type": "code",
      "execution_count": null,
      "metadata": {
        "id": "vXFg_KMdut6_"
      },
      "outputs": [],
      "source": [
        "discount_pct = []\n",
        "\n",
        "for index, row in data.iterrows():\n",
        "  discount_pct.append((row['Discount Amount'] / row['Total']) * 100)\n",
        "\n",
        "data['Discount Percent'] = discount_pct"
      ]
    },
    {
      "cell_type": "code",
      "execution_count": null,
      "metadata": {
        "id": "P51cjPIExuWL"
      },
      "outputs": [],
      "source": [
        "data = data.loc[data['Discount Amount'] < data['Total']]"
      ]
    },
    {
      "cell_type": "code",
      "execution_count": null,
      "metadata": {
        "colab": {
          "base_uri": "https://localhost:8080/",
          "height": 312
        },
        "id": "iCSIjj7byOtA",
        "outputId": "d8a0c80c-ca91-4283-fcdc-269b7c42c51c"
      },
      "outputs": [
        {
          "data": {
            "text/plain": [
              "Text(0, 0.5, 'Frequency')"
            ]
          },
          "execution_count": 44,
          "metadata": {},
          "output_type": "execute_result"
        },
        {
          "data": {
            "image/png": "[encoded data removed]",
            "text/plain": [
              "<Figure size 432x288 with 1 Axes>"
            ]
          },
          "metadata": {
            "needs_background": "light"
          },
          "output_type": "display_data"
        }
      ],
      "source": [
        "data['Discount Percent'].hist()\n",
        "plt.title('Distribution of Discount Percentage')\n",
        "plt.xlabel('Discount Percentage')\n",
        "plt.ylabel('Frequency')"
      ]
    },
    {
      "cell_type": "markdown",
      "metadata": {
        "id": "Spr6xDIObZ7B"
      },
      "source": [
        "We found the number of times the discount percentage exceed 10% which is the the profit margin suggested by Ori. We found 36% of orders which used discounts exceeded the profit margin, which means they are technically losing money on those orders. However, those orders might yield more money in the long-term. "
      ]
    },
    {
      "cell_type": "code",
      "execution_count": null,
      "metadata": {
        "colab": {
          "base_uri": "https://localhost:8080/"
        },
        "id": "Ya4zC_kry2c-",
        "outputId": "aced3ae1-7c12-41d8-a702-e92da31c9ad2"
      },
      "outputs": [
        {
          "name": "stdout",
          "output_type": "stream",
          "text": [
            "Of all the times discount is used, 36.42789820923657% of the time B&B is losing money.\n"
          ]
        }
      ],
      "source": [
        "count_usage = 0\n",
        "count_above_10 = 0\n",
        "\n",
        "for index, row in data.iterrows():\n",
        "  if (row['Discount Percent'] > 0):\n",
        "    count_usage += 1\n",
        "  if (row['Discount Percent'] > 10):\n",
        "   count_above_10 += 1\n",
        "\n",
        "print(\"Of all the times discount is used, \" + str((count_above_10/count_usage) * 100) + \"% of the time B&B is losing money.\")"
      ]
    },
    {
      "cell_type": "markdown",
      "metadata": {
        "id": "4WP1vpZ_2htS"
      },
      "source": [
        "# Answering: How does free shipping usage affect order frequency?\n",
        "\n",
        "We create a variety of plots which emphasize the relationship between order frequency and free shipping usage. "
      ]
    },
    {
      "cell_type": "markdown",
      "metadata": {
        "id": "SW0mMCLCb2AZ"
      },
      "source": [
        "We begin by plotting a scatter plot using the Free Shipping Usage and Order Frequency column from the customer dataframe. We see an even stronger linear relationship."
      ]
    },
    {
      "cell_type": "code",
      "execution_count": null,
      "metadata": {
        "colab": {
          "base_uri": "https://localhost:8080/",
          "height": 295
        },
        "id": "nw7fUCZe2o9F",
        "outputId": "0f602ead-a23d-4e51-d3a8-97a1956fa2b7"
      },
      "outputs": [
        {
          "data": {
            "image/png": "[encoded data removed]",
            "text/plain": [
              "<Figure size 432x288 with 1 Axes>"
            ]
          },
          "metadata": {
            "needs_background": "light"
          },
          "output_type": "display_data"
        }
      ],
      "source": [
        "plt.scatter(customer['Free Shipping Usage'], customer['Order Frequency'])\n",
        "plt.xlabel('Free Shipping Usage')\n",
        "plt.ylabel('Order Frequency')\n",
        "plt.title('Free Shipping Usage vs. Order Frequency')\n",
        "plt.show()"
      ]
    },
    {
      "cell_type": "markdown",
      "metadata": {
        "id": "YwCYQ7pxcEiD"
      },
      "source": [
        "We creaa new dataframe called loyal_cusstomer which stores the customers whose order frequency exceeded two because those customers are loyal/repeat customers. "
      ]
    },
    {
      "cell_type": "code",
      "execution_count": null,
      "metadata": {
        "id": "X7qwOgaS4MNF"
      },
      "outputs": [],
      "source": [
        "loyal_customer = customer.loc[customer['Order Frequency'] >= 2]\n",
        "loyal_email = set(loyal_customer['Email'])"
      ]
    },
    {
      "cell_type": "markdown",
      "metadata": {
        "id": "QgNmdylfcUWR"
      },
      "source": [
        "We iterated through this new dataframe creating a dictionary whose keys are the individual customers and whose values is a list of amounts they paid on shipping."
      ]
    },
    {
      "cell_type": "code",
      "execution_count": null,
      "metadata": {
        "colab": {
          "base_uri": "https://localhost:8080/"
        },
        "id": "7ce9Gs7A4HiY",
        "outputId": "36af8768-64a7-48e8-8a77-4172cbda69d3"
      },
      "outputs": [],
      "source": [
        "shipping_amount = defaultdict(list)\n",
        "\n",
        "for index, row in data.iterrows(): \n",
        "  if (row['Email'] in loyal_email):\n",
        "    shipping_amount[row['Email']].append(row['Shipping'])"
      ]
    },
    {
      "cell_type": "markdown",
      "metadata": {
        "id": "MYSdQESLcdY6"
      },
      "source": [
        "We then iterate through the dictionary increasing a count of the number of customers whose value list's first element is zero, meaning they used free shipping on their first order. We then calculated of customers who used free shipping on their first order by dividing that count by the number of repeat customers (which is technically the size of the shipping_amount dictionary). We found that 68% of repeat customers used free shipping on their first order. We also plot this on a pie-chart for easy visualization."
      ]
    },
    {
      "cell_type": "code",
      "execution_count": null,
      "metadata": {
        "colab": {
          "base_uri": "https://localhost:8080/"
        },
        "id": "X-_jjlnK4yGX",
        "outputId": "0b9db0d1-53b2-4e8c-c317-53030c512cb6"
      },
      "outputs": [
        {
          "name": "stdout",
          "output_type": "stream",
          "text": [
            "Of all repeat customers 68.22803800633439% of them used free shipping in their first order.\n"
          ]
        }
      ],
      "source": [
        "free_shipping_count = 0\n",
        "for key in shipping_amount:\n",
        "  if (shipping_amount[key][0] == 0):\n",
        "    free_shipping_count += 1\n",
        "\n",
        "print(\"Of all repeat customers \" + str((free_shipping_count) / len(shipping_amount) * 100) + \"% of them used free shipping in their first order.\")"
      ]
    },
    {
      "cell_type": "code",
      "execution_count": null,
      "metadata": {
        "colab": {
          "base_uri": "https://localhost:8080/",
          "height": 264
        },
        "id": "_lNg3XSM72ER",
        "outputId": "7d7561bc-94bf-4dbc-c5c3-bf780ccf4c7b"
      },
      "outputs": [
        {
          "data": {
            "image/png": "[encoded data removed]",
            "text/plain": [
              "<Figure size 432x288 with 1 Axes>"
            ]
          },
          "metadata": {},
          "output_type": "display_data"
        }
      ],
      "source": [
        "y = np.array([69.30043896204923, 30.699561038])\n",
        "mylabels = [\"Used Free Shipping\", \"Didn't Use Free Shipping\"]\n",
        "\n",
        "plt.pie(y, labels = mylabels)\n",
        "plt.title(\"Percent of Repeat Customers Using Free Shipping on First Order\")\n",
        "plt.show() "
      ]
    },
    {
      "cell_type": "markdown",
      "metadata": {
        "id": "ISQ7-ZBI8yDF"
      },
      "source": [
        "# Answering: How does location usage affect order frequency?\n",
        "\n",
        "We create a variety of plots which emphasize the relationship between order frequency and location. "
      ]
    },
    {
      "cell_type": "markdown",
      "metadata": {
        "id": "Bov9yTMMdfqg"
      },
      "source": [
        "We begin by finding the percent of repeat customers who live in metro areas verus non-metro areas. We calculate the frequency of customers in the loyal_customer dataframe whose \"In-metro\" value is 1 suggesting they're in a metro area. About 42$ of repeat customers are from metro areas. "
      ]
    },
    {
      "cell_type": "code",
      "execution_count": null,
      "metadata": {
        "colab": {
          "base_uri": "https://localhost:8080/"
        },
        "id": "PJko9ULQ83lg",
        "outputId": "bad1525c-bca8-4d99-9a25-0c8d101b318d"
      },
      "outputs": [
        {
          "data": {
            "text/plain": [
              "0    10400\n",
              "1     7598\n",
              "Name: In Metro Area, dtype: int64"
            ]
          },
          "execution_count": 51,
          "metadata": {},
          "output_type": "execute_result"
        }
      ],
      "source": [
        "loyal_customer['In Metro Area'].value_counts()"
      ]
    },
    {
      "cell_type": "code",
      "execution_count": null,
      "metadata": {
        "colab": {
          "base_uri": "https://localhost:8080/"
        },
        "id": "qplA83TK9PBx",
        "outputId": "4d964707-ff98-43a9-9463-37e4fd36f382"
      },
      "outputs": [
        {
          "name": "stdout",
          "output_type": "stream",
          "text": [
            "Of all repeat customers 42.049116568507614% of them live in a metropolitan area.\n"
          ]
        }
      ],
      "source": [
        "print(\"Of all repeat customers \" + str((7568) / (7568 + 10430) * 100) + \"% of them live in a metropolitan area.\")"
      ]
    },
    {
      "cell_type": "markdown",
      "metadata": {
        "id": "6D5638Ozd84Q"
      },
      "source": [
        "We find the states with the highest frequncy of orders. "
      ]
    },
    {
      "cell_type": "code",
      "execution_count": null,
      "metadata": {
        "colab": {
          "base_uri": "https://localhost:8080/"
        },
        "id": "lMunjc1j9iai",
        "outputId": "115ff985-e78c-4f05-ade5-374c6a57b045"
      },
      "outputs": [
        {
          "data": {
            "text/plain": [
              "CA    18750\n",
              "NY    13468\n",
              "WA     5239\n",
              "TX     4687\n",
              "MA     4563\n",
              "Name: Shipping Province, dtype: int64"
            ]
          },
          "execution_count": 53,
          "metadata": {},
          "output_type": "execute_result"
        }
      ],
      "source": [
        "data['Shipping Province'].value_counts()[:5]"
      ]
    },
    {
      "cell_type": "code",
      "execution_count": null,
      "metadata": {
        "colab": {
          "base_uri": "https://localhost:8080/",
          "height": 497
        },
        "id": "2ZBrOz_Zuiqx",
        "outputId": "8b1fadbf-6570-4a17-bb77-948ea4115f47"
      },
      "outputs": [
        {
          "data": {
            "text/html": [
              "\n",
              "  <div id=\"df-b7929835-88f0-4dac-b274-1759a402f1c8\">\n",
              "    <div class=\"colab-df-container\">\n",
              "      <div>\n",
              "<style scoped>\n",
              "    .dataframe tbody tr th:only-of-type {\n",
              "        vertical-align: middle;\n",
              "    }\n",
              "\n",
              "    .dataframe tbody tr th {\n",
              "        vertical-align: top;\n",
              "    }\n",
              "\n",
              "    .dataframe thead th {\n",
              "        text-align: right;\n",
              "    }\n",
              "</style>\n",
              "<table border=\"1\" class=\"dataframe\">\n",
              "  <thead>\n",
              "    <tr style=\"text-align: right;\">\n",
              "      <th></th>\n",
              "      <th>Email</th>\n",
              "      <th>Order Frequency</th>\n",
              "      <th>Discount Usage</th>\n",
              "      <th>In Spice Club</th>\n",
              "      <th>Free Shipping Usage</th>\n",
              "      <th>Total</th>\n",
              "      <th>Zip Code</th>\n",
              "      <th>City</th>\n",
              "      <th>State</th>\n",
              "      <th>In Metro Area</th>\n",
              "      <th>Short Time Delta</th>\n",
              "      <th>Repeat Customer</th>\n",
              "    </tr>\n",
              "  </thead>\n",
              "  <tbody>\n",
              "    <tr>\n",
              "      <th>0</th>\n",
              "      <td>1459.0</td>\n",
              "      <td>2</td>\n",
              "      <td>0</td>\n",
              "      <td>1</td>\n",
              "      <td>1</td>\n",
              "      <td>87.90</td>\n",
              "      <td>43560</td>\n",
              "      <td>Sylvania</td>\n",
              "      <td>OH</td>\n",
              "      <td>0</td>\n",
              "      <td>0</td>\n",
              "      <td>1</td>\n",
              "    </tr>\n",
              "    <tr>\n",
              "      <th>1</th>\n",
              "      <td>1460.0</td>\n",
              "      <td>9</td>\n",
              "      <td>1</td>\n",
              "      <td>1</td>\n",
              "      <td>8</td>\n",
              "      <td>794.77</td>\n",
              "      <td>98230</td>\n",
              "      <td>Blaine</td>\n",
              "      <td>WA</td>\n",
              "      <td>0</td>\n",
              "      <td>1</td>\n",
              "      <td>1</td>\n",
              "    </tr>\n",
              "    <tr>\n",
              "      <th>2</th>\n",
              "      <td>1461.0</td>\n",
              "      <td>21</td>\n",
              "      <td>1</td>\n",
              "      <td>1</td>\n",
              "      <td>19</td>\n",
              "      <td>980.51</td>\n",
              "      <td>29650</td>\n",
              "      <td>Greer</td>\n",
              "      <td>SC</td>\n",
              "      <td>0</td>\n",
              "      <td>1</td>\n",
              "      <td>1</td>\n",
              "    </tr>\n",
              "    <tr>\n",
              "      <th>3</th>\n",
              "      <td>1462.0</td>\n",
              "      <td>18</td>\n",
              "      <td>1</td>\n",
              "      <td>1</td>\n",
              "      <td>17</td>\n",
              "      <td>1294.04</td>\n",
              "      <td>98103</td>\n",
              "      <td>Seattle</td>\n",
              "      <td>WA</td>\n",
              "      <td>1</td>\n",
              "      <td>1</td>\n",
              "      <td>1</td>\n",
              "    </tr>\n",
              "    <tr>\n",
              "      <th>4</th>\n",
              "      <td>1463.0</td>\n",
              "      <td>5</td>\n",
              "      <td>0</td>\n",
              "      <td>0</td>\n",
              "      <td>2</td>\n",
              "      <td>195.61</td>\n",
              "      <td>98948</td>\n",
              "      <td>Toppenish</td>\n",
              "      <td>WA</td>\n",
              "      <td>0</td>\n",
              "      <td>0</td>\n",
              "      <td>1</td>\n",
              "    </tr>\n",
              "    <tr>\n",
              "      <th>...</th>\n",
              "      <td>...</td>\n",
              "      <td>...</td>\n",
              "      <td>...</td>\n",
              "      <td>...</td>\n",
              "      <td>...</td>\n",
              "      <td>...</td>\n",
              "      <td>...</td>\n",
              "      <td>...</td>\n",
              "      <td>...</td>\n",
              "      <td>...</td>\n",
              "      <td>...</td>\n",
              "      <td>...</td>\n",
              "    </tr>\n",
              "    <tr>\n",
              "      <th>51371</th>\n",
              "      <td>18878.0</td>\n",
              "      <td>1</td>\n",
              "      <td>0</td>\n",
              "      <td>1</td>\n",
              "      <td>1</td>\n",
              "      <td>67.93</td>\n",
              "      <td>78666</td>\n",
              "      <td>San Marcos</td>\n",
              "      <td>TX</td>\n",
              "      <td>0</td>\n",
              "      <td>0</td>\n",
              "      <td>0</td>\n",
              "    </tr>\n",
              "    <tr>\n",
              "      <th>51372</th>\n",
              "      <td>18880.0</td>\n",
              "      <td>1</td>\n",
              "      <td>0</td>\n",
              "      <td>0</td>\n",
              "      <td>1</td>\n",
              "      <td>45.00</td>\n",
              "      <td>44663</td>\n",
              "      <td>New Philadelphia</td>\n",
              "      <td>OH</td>\n",
              "      <td>0</td>\n",
              "      <td>0</td>\n",
              "      <td>0</td>\n",
              "    </tr>\n",
              "    <tr>\n",
              "      <th>51373</th>\n",
              "      <td>18881.0</td>\n",
              "      <td>1</td>\n",
              "      <td>0</td>\n",
              "      <td>0</td>\n",
              "      <td>0</td>\n",
              "      <td>18.23</td>\n",
              "      <td>20176</td>\n",
              "      <td>Leesburg</td>\n",
              "      <td>VA</td>\n",
              "      <td>0</td>\n",
              "      <td>0</td>\n",
              "      <td>0</td>\n",
              "    </tr>\n",
              "    <tr>\n",
              "      <th>51374</th>\n",
              "      <td>18882.0</td>\n",
              "      <td>1</td>\n",
              "      <td>0</td>\n",
              "      <td>1</td>\n",
              "      <td>1</td>\n",
              "      <td>127.99</td>\n",
              "      <td>18901</td>\n",
              "      <td>Doylestown</td>\n",
              "      <td>PA</td>\n",
              "      <td>0</td>\n",
              "      <td>0</td>\n",
              "      <td>0</td>\n",
              "    </tr>\n",
              "    <tr>\n",
              "      <th>51375</th>\n",
              "      <td>18883.0</td>\n",
              "      <td>1</td>\n",
              "      <td>0</td>\n",
              "      <td>1</td>\n",
              "      <td>0</td>\n",
              "      <td>47.98</td>\n",
              "      <td>11590</td>\n",
              "      <td>Westbury</td>\n",
              "      <td>NY</td>\n",
              "      <td>0</td>\n",
              "      <td>0</td>\n",
              "      <td>0</td>\n",
              "    </tr>\n",
              "  </tbody>\n",
              "</table>\n",
              "<p>51376 rows × 12 columns</p>\n",
              "</div>\n",
              "      <button class=\"colab-df-convert\" onclick=\"convertToInteractive('df-b7929835-88f0-4dac-b274-1759a402f1c8')\"\n",
              "              title=\"Convert this dataframe to an interactive table.\"\n",
              "              style=\"display:none;\">\n",
              "        \n",
              "  <svg xmlns=\"http://www.w3.org/2000/svg\" height=\"24px\"viewBox=\"0 0 24 24\"\n",
              "       width=\"24px\">\n",
              "    <path d=\"M0 0h24v24H0V0z\" fill=\"none\"/>\n",
              "    <path d=\"M18.56 5.44l.94 2.06.94-2.06 2.06-.94-2.06-.94-.94-2.06-.94 2.06-2.06.94zm-11 1L8.5 8.5l.94-2.06 2.06-.94-2.06-.94L8.5 2.5l-.94 2.06-2.06.94zm10 10l.94 2.06.94-2.06 2.06-.94-2.06-.94-.94-2.06-.94 2.06-2.06.94z\"/><path d=\"M17.41 7.96l-1.37-1.37c-.4-.4-.92-.59-1.43-.59-.52 0-1.04.2-1.43.59L10.3 9.45l-7.72 7.72c-.78.78-.78 2.05 0 2.83L4 21.41c.39.39.9.59 1.41.59.51 0 1.02-.2 1.41-.59l7.78-7.78 2.81-2.81c.8-.78.8-2.07 0-2.86zM5.41 20L4 18.59l7.72-7.72 1.47 1.35L5.41 20z\"/>\n",
              "  </svg>\n",
              "      </button>\n",
              "      \n",
              "  <style>\n",
              "    .colab-df-container {\n",
              "      display:flex;\n",
              "      flex-wrap:wrap;\n",
              "      gap: 12px;\n",
              "    }\n",
              "\n",
              "    .colab-df-convert {\n",
              "      background-color: #E8F0FE;\n",
              "      border: none;\n",
              "      border-radius: 50%;\n",
              "      cursor: pointer;\n",
              "      display: none;\n",
              "      fill: #1967D2;\n",
              "      height: 32px;\n",
              "      padding: 0 0 0 0;\n",
              "      width: 32px;\n",
              "    }\n",
              "\n",
              "    .colab-df-convert:hover {\n",
              "      background-color: #E2EBFA;\n",
              "      box-shadow: 0px 1px 2px rgba(60, 64, 67, 0.3), 0px 1px 3px 1px rgba(60, 64, 67, 0.15);\n",
              "      fill: #174EA6;\n",
              "    }\n",
              "\n",
              "    [theme=dark] .colab-df-convert {\n",
              "      background-color: #3B4455;\n",
              "      fill: #D2E3FC;\n",
              "    }\n",
              "\n",
              "    [theme=dark] .colab-df-convert:hover {\n",
              "      background-color: #434B5C;\n",
              "      box-shadow: 0px 1px 3px 1px rgba(0, 0, 0, 0.15);\n",
              "      filter: drop-shadow(0px 1px 2px rgba(0, 0, 0, 0.3));\n",
              "      fill: #FFFFFF;\n",
              "    }\n",
              "  </style>\n",
              "\n",
              "      <script>\n",
              "        const buttonEl =\n",
              "          document.querySelector('#df-b7929835-88f0-4dac-b274-1759a402f1c8 button.colab-df-convert');\n",
              "        buttonEl.style.display =\n",
              "          google.colab.kernel.accessAllowed ? 'block' : 'none';\n",
              "\n",
              "        async function convertToInteractive(key) {\n",
              "          const element = document.querySelector('#df-b7929835-88f0-4dac-b274-1759a402f1c8');\n",
              "          const dataTable =\n",
              "            await google.colab.kernel.invokeFunction('convertToInteractive',\n",
              "                                                     [key], {});\n",
              "          if (!dataTable) return;\n",
              "\n",
              "          const docLinkHtml = 'Like what you see? Visit the ' +\n",
              "            '<a target=\"_blank\" href=https://colab.research.google.com/notebooks/data_table.ipynb>data table notebook</a>'\n",
              "            + ' to learn more about interactive tables.';\n",
              "          element.innerHTML = '';\n",
              "          dataTable['output_type'] = 'display_data';\n",
              "          await google.colab.output.renderOutput(dataTable, element);\n",
              "          const docLink = document.createElement('div');\n",
              "          docLink.innerHTML = docLinkHtml;\n",
              "          element.appendChild(docLink);\n",
              "        }\n",
              "      </script>\n",
              "    </div>\n",
              "  </div>\n",
              "  "
            ],
            "text/plain": [
              "         Email  Order Frequency  Discount Usage  In Spice Club  \\\n",
              "0       1459.0                2               0              1   \n",
              "1       1460.0                9               1              1   \n",
              "2       1461.0               21               1              1   \n",
              "3       1462.0               18               1              1   \n",
              "4       1463.0                5               0              0   \n",
              "...        ...              ...             ...            ...   \n",
              "51371  18878.0                1               0              1   \n",
              "51372  18880.0                1               0              0   \n",
              "51373  18881.0                1               0              0   \n",
              "51374  18882.0                1               0              1   \n",
              "51375  18883.0                1               0              1   \n",
              "\n",
              "       Free Shipping Usage    Total Zip Code              City State  \\\n",
              "0                        1    87.90    43560          Sylvania    OH   \n",
              "1                        8   794.77    98230            Blaine    WA   \n",
              "2                       19   980.51    29650             Greer    SC   \n",
              "3                       17  1294.04    98103           Seattle    WA   \n",
              "4                        2   195.61    98948         Toppenish    WA   \n",
              "...                    ...      ...      ...               ...   ...   \n",
              "51371                    1    67.93    78666        San Marcos    TX   \n",
              "51372                    1    45.00    44663  New Philadelphia    OH   \n",
              "51373                    0    18.23    20176          Leesburg    VA   \n",
              "51374                    1   127.99    18901        Doylestown    PA   \n",
              "51375                    0    47.98    11590          Westbury    NY   \n",
              "\n",
              "       In Metro Area  Short Time Delta  Repeat Customer  \n",
              "0                  0                 0                1  \n",
              "1                  0                 1                1  \n",
              "2                  0                 1                1  \n",
              "3                  1                 1                1  \n",
              "4                  0                 0                1  \n",
              "...              ...               ...              ...  \n",
              "51371              0                 0                0  \n",
              "51372              0                 0                0  \n",
              "51373              0                 0                0  \n",
              "51374              0                 0                0  \n",
              "51375              0                 0                0  \n",
              "\n",
              "[51376 rows x 12 columns]"
            ]
          },
          "execution_count": 55,
          "metadata": {},
          "output_type": "execute_result"
        }
      ],
      "source": [
        "customer"
      ]
    },
    {
      "cell_type": "markdown",
      "metadata": {
        "id": "rjB5Mfr5eHTs"
      },
      "source": [
        "We trim the customer dataset to be a random sample (yet representative) of 5,000 because it's difficult to plot all 51k customers on a map, since this requires about 51k queries. Additionally, having 51k customers on the plot may also make the map look too clustered that any observations can even be made. "
      ]
    },
    {
      "cell_type": "code",
      "execution_count": null,
      "metadata": {
        "colab": {
          "base_uri": "https://localhost:8080/",
          "height": 480
        },
        "id": "yBcJrUjSvUDD",
        "outputId": "f950ad85-ba65-41be-d94a-99ccf06e06b0"
      },
      "outputs": [
        {
          "data": {
            "text/html": [
              "\n",
              "  <div id=\"df-02b7f041-7565-43be-96d9-4620c8ff56a5\">\n",
              "    <div class=\"colab-df-container\">\n",
              "      <div>\n",
              "<style scoped>\n",
              "    .dataframe tbody tr th:only-of-type {\n",
              "        vertical-align: middle;\n",
              "    }\n",
              "\n",
              "    .dataframe tbody tr th {\n",
              "        vertical-align: top;\n",
              "    }\n",
              "\n",
              "    .dataframe thead th {\n",
              "        text-align: right;\n",
              "    }\n",
              "</style>\n",
              "<table border=\"1\" class=\"dataframe\">\n",
              "  <thead>\n",
              "    <tr style=\"text-align: right;\">\n",
              "      <th></th>\n",
              "      <th>Email</th>\n",
              "      <th>Order Frequency</th>\n",
              "      <th>Discount Usage</th>\n",
              "      <th>In Spice Club</th>\n",
              "      <th>Free Shipping Usage</th>\n",
              "      <th>Total</th>\n",
              "      <th>Zip Code</th>\n",
              "      <th>City</th>\n",
              "      <th>State</th>\n",
              "      <th>In Metro Area</th>\n",
              "      <th>Short Time Delta</th>\n",
              "      <th>Repeat Customer</th>\n",
              "    </tr>\n",
              "  </thead>\n",
              "  <tbody>\n",
              "    <tr>\n",
              "      <th>35949</th>\n",
              "      <td>30357.0</td>\n",
              "      <td>2</td>\n",
              "      <td>0</td>\n",
              "      <td>1</td>\n",
              "      <td>2</td>\n",
              "      <td>119.95</td>\n",
              "      <td>20817</td>\n",
              "      <td>Bethesda</td>\n",
              "      <td>MD</td>\n",
              "      <td>0</td>\n",
              "      <td>1</td>\n",
              "      <td>1</td>\n",
              "    </tr>\n",
              "    <tr>\n",
              "      <th>44824</th>\n",
              "      <td>48653.0</td>\n",
              "      <td>1</td>\n",
              "      <td>0</td>\n",
              "      <td>0</td>\n",
              "      <td>1</td>\n",
              "      <td>59.98</td>\n",
              "      <td>03275</td>\n",
              "      <td>Allenstown</td>\n",
              "      <td>NH</td>\n",
              "      <td>0</td>\n",
              "      <td>0</td>\n",
              "      <td>0</td>\n",
              "    </tr>\n",
              "    <tr>\n",
              "      <th>13484</th>\n",
              "      <td>22086.0</td>\n",
              "      <td>1</td>\n",
              "      <td>0</td>\n",
              "      <td>1</td>\n",
              "      <td>1</td>\n",
              "      <td>51.94</td>\n",
              "      <td>60148</td>\n",
              "      <td>Lombard</td>\n",
              "      <td>IL</td>\n",
              "      <td>0</td>\n",
              "      <td>0</td>\n",
              "      <td>0</td>\n",
              "    </tr>\n",
              "    <tr>\n",
              "      <th>42628</th>\n",
              "      <td>37028.0</td>\n",
              "      <td>1</td>\n",
              "      <td>0</td>\n",
              "      <td>0</td>\n",
              "      <td>1</td>\n",
              "      <td>59.94</td>\n",
              "      <td>12477</td>\n",
              "      <td>Saugerties</td>\n",
              "      <td>NY</td>\n",
              "      <td>0</td>\n",
              "      <td>0</td>\n",
              "      <td>0</td>\n",
              "    </tr>\n",
              "    <tr>\n",
              "      <th>26397</th>\n",
              "      <td>45853.0</td>\n",
              "      <td>1</td>\n",
              "      <td>0</td>\n",
              "      <td>1</td>\n",
              "      <td>1</td>\n",
              "      <td>52.94</td>\n",
              "      <td>75019</td>\n",
              "      <td>Coppell</td>\n",
              "      <td>TX</td>\n",
              "      <td>0</td>\n",
              "      <td>0</td>\n",
              "      <td>0</td>\n",
              "    </tr>\n",
              "    <tr>\n",
              "      <th>...</th>\n",
              "      <td>...</td>\n",
              "      <td>...</td>\n",
              "      <td>...</td>\n",
              "      <td>...</td>\n",
              "      <td>...</td>\n",
              "      <td>...</td>\n",
              "      <td>...</td>\n",
              "      <td>...</td>\n",
              "      <td>...</td>\n",
              "      <td>...</td>\n",
              "      <td>...</td>\n",
              "      <td>...</td>\n",
              "    </tr>\n",
              "    <tr>\n",
              "      <th>6179</th>\n",
              "      <td>7635.0</td>\n",
              "      <td>5</td>\n",
              "      <td>0</td>\n",
              "      <td>0</td>\n",
              "      <td>4</td>\n",
              "      <td>218.91</td>\n",
              "      <td>91311</td>\n",
              "      <td>Chatsworth</td>\n",
              "      <td>CA</td>\n",
              "      <td>0</td>\n",
              "      <td>0</td>\n",
              "      <td>1</td>\n",
              "    </tr>\n",
              "    <tr>\n",
              "      <th>47320</th>\n",
              "      <td>51116.0</td>\n",
              "      <td>1</td>\n",
              "      <td>1</td>\n",
              "      <td>1</td>\n",
              "      <td>1</td>\n",
              "      <td>109.98</td>\n",
              "      <td>97080</td>\n",
              "      <td>Gresham</td>\n",
              "      <td>OR</td>\n",
              "      <td>0</td>\n",
              "      <td>0</td>\n",
              "      <td>0</td>\n",
              "    </tr>\n",
              "    <tr>\n",
              "      <th>35719</th>\n",
              "      <td>30138.0</td>\n",
              "      <td>1</td>\n",
              "      <td>1</td>\n",
              "      <td>1</td>\n",
              "      <td>1</td>\n",
              "      <td>62.94</td>\n",
              "      <td>11238</td>\n",
              "      <td>Brooklyn</td>\n",
              "      <td>NY</td>\n",
              "      <td>0</td>\n",
              "      <td>0</td>\n",
              "      <td>0</td>\n",
              "    </tr>\n",
              "    <tr>\n",
              "      <th>49894</th>\n",
              "      <td>15182.0</td>\n",
              "      <td>1</td>\n",
              "      <td>1</td>\n",
              "      <td>0</td>\n",
              "      <td>1</td>\n",
              "      <td>53.32</td>\n",
              "      <td>22947</td>\n",
              "      <td>Keswick</td>\n",
              "      <td>VA</td>\n",
              "      <td>0</td>\n",
              "      <td>0</td>\n",
              "      <td>0</td>\n",
              "    </tr>\n",
              "    <tr>\n",
              "      <th>48148</th>\n",
              "      <td>11478.0</td>\n",
              "      <td>1</td>\n",
              "      <td>0</td>\n",
              "      <td>1</td>\n",
              "      <td>1</td>\n",
              "      <td>61.98</td>\n",
              "      <td>37909</td>\n",
              "      <td>Knoxville</td>\n",
              "      <td>TN</td>\n",
              "      <td>1</td>\n",
              "      <td>0</td>\n",
              "      <td>0</td>\n",
              "    </tr>\n",
              "  </tbody>\n",
              "</table>\n",
              "<p>5000 rows × 12 columns</p>\n",
              "</div>\n",
              "      <button class=\"colab-df-convert\" onclick=\"convertToInteractive('df-02b7f041-7565-43be-96d9-4620c8ff56a5')\"\n",
              "              title=\"Convert this dataframe to an interactive table.\"\n",
              "              style=\"display:none;\">\n",
              "        \n",
              "  <svg xmlns=\"http://www.w3.org/2000/svg\" height=\"24px\"viewBox=\"0 0 24 24\"\n",
              "       width=\"24px\">\n",
              "    <path d=\"M0 0h24v24H0V0z\" fill=\"none\"/>\n",
              "    <path d=\"M18.56 5.44l.94 2.06.94-2.06 2.06-.94-2.06-.94-.94-2.06-.94 2.06-2.06.94zm-11 1L8.5 8.5l.94-2.06 2.06-.94-2.06-.94L8.5 2.5l-.94 2.06-2.06.94zm10 10l.94 2.06.94-2.06 2.06-.94-2.06-.94-.94-2.06-.94 2.06-2.06.94z\"/><path d=\"M17.41 7.96l-1.37-1.37c-.4-.4-.92-.59-1.43-.59-.52 0-1.04.2-1.43.59L10.3 9.45l-7.72 7.72c-.78.78-.78 2.05 0 2.83L4 21.41c.39.39.9.59 1.41.59.51 0 1.02-.2 1.41-.59l7.78-7.78 2.81-2.81c.8-.78.8-2.07 0-2.86zM5.41 20L4 18.59l7.72-7.72 1.47 1.35L5.41 20z\"/>\n",
              "  </svg>\n",
              "      </button>\n",
              "      \n",
              "  <style>\n",
              "    .colab-df-container {\n",
              "      display:flex;\n",
              "      flex-wrap:wrap;\n",
              "      gap: 12px;\n",
              "    }\n",
              "\n",
              "    .colab-df-convert {\n",
              "      background-color: #E8F0FE;\n",
              "      border: none;\n",
              "      border-radius: 50%;\n",
              "      cursor: pointer;\n",
              "      display: none;\n",
              "      fill: #1967D2;\n",
              "      height: 32px;\n",
              "      padding: 0 0 0 0;\n",
              "      width: 32px;\n",
              "    }\n",
              "\n",
              "    .colab-df-convert:hover {\n",
              "      background-color: #E2EBFA;\n",
              "      box-shadow: 0px 1px 2px rgba(60, 64, 67, 0.3), 0px 1px 3px 1px rgba(60, 64, 67, 0.15);\n",
              "      fill: #174EA6;\n",
              "    }\n",
              "\n",
              "    [theme=dark] .colab-df-convert {\n",
              "      background-color: #3B4455;\n",
              "      fill: #D2E3FC;\n",
              "    }\n",
              "\n",
              "    [theme=dark] .colab-df-convert:hover {\n",
              "      background-color: #434B5C;\n",
              "      box-shadow: 0px 1px 3px 1px rgba(0, 0, 0, 0.15);\n",
              "      filter: drop-shadow(0px 1px 2px rgba(0, 0, 0, 0.3));\n",
              "      fill: #FFFFFF;\n",
              "    }\n",
              "  </style>\n",
              "\n",
              "      <script>\n",
              "        const buttonEl =\n",
              "          document.querySelector('#df-02b7f041-7565-43be-96d9-4620c8ff56a5 button.colab-df-convert');\n",
              "        buttonEl.style.display =\n",
              "          google.colab.kernel.accessAllowed ? 'block' : 'none';\n",
              "\n",
              "        async function convertToInteractive(key) {\n",
              "          const element = document.querySelector('#df-02b7f041-7565-43be-96d9-4620c8ff56a5');\n",
              "          const dataTable =\n",
              "            await google.colab.kernel.invokeFunction('convertToInteractive',\n",
              "                                                     [key], {});\n",
              "          if (!dataTable) return;\n",
              "\n",
              "          const docLinkHtml = 'Like what you see? Visit the ' +\n",
              "            '<a target=\"_blank\" href=https://colab.research.google.com/notebooks/data_table.ipynb>data table notebook</a>'\n",
              "            + ' to learn more about interactive tables.';\n",
              "          element.innerHTML = '';\n",
              "          dataTable['output_type'] = 'display_data';\n",
              "          await google.colab.output.renderOutput(dataTable, element);\n",
              "          const docLink = document.createElement('div');\n",
              "          docLink.innerHTML = docLinkHtml;\n",
              "          element.appendChild(docLink);\n",
              "        }\n",
              "      </script>\n",
              "    </div>\n",
              "  </div>\n",
              "  "
            ],
            "text/plain": [
              "         Email  Order Frequency  Discount Usage  In Spice Club  \\\n",
              "35949  30357.0                2               0              1   \n",
              "44824  48653.0                1               0              0   \n",
              "13484  22086.0                1               0              1   \n",
              "42628  37028.0                1               0              0   \n",
              "26397  45853.0                1               0              1   \n",
              "...        ...              ...             ...            ...   \n",
              "6179    7635.0                5               0              0   \n",
              "47320  51116.0                1               1              1   \n",
              "35719  30138.0                1               1              1   \n",
              "49894  15182.0                1               1              0   \n",
              "48148  11478.0                1               0              1   \n",
              "\n",
              "       Free Shipping Usage   Total Zip Code        City State  In Metro Area  \\\n",
              "35949                    2  119.95    20817    Bethesda    MD              0   \n",
              "44824                    1   59.98    03275  Allenstown    NH              0   \n",
              "13484                    1   51.94    60148     Lombard    IL              0   \n",
              "42628                    1   59.94    12477  Saugerties    NY              0   \n",
              "26397                    1   52.94    75019     Coppell    TX              0   \n",
              "...                    ...     ...      ...         ...   ...            ...   \n",
              "6179                     4  218.91    91311  Chatsworth    CA              0   \n",
              "47320                    1  109.98    97080     Gresham    OR              0   \n",
              "35719                    1   62.94    11238    Brooklyn    NY              0   \n",
              "49894                    1   53.32    22947     Keswick    VA              0   \n",
              "48148                    1   61.98    37909   Knoxville    TN              1   \n",
              "\n",
              "       Short Time Delta  Repeat Customer  \n",
              "35949                 1                1  \n",
              "44824                 0                0  \n",
              "13484                 0                0  \n",
              "42628                 0                0  \n",
              "26397                 0                0  \n",
              "...                 ...              ...  \n",
              "6179                  0                1  \n",
              "47320                 0                0  \n",
              "35719                 0                0  \n",
              "49894                 0                0  \n",
              "48148                 0                0  \n",
              "\n",
              "[5000 rows x 12 columns]"
            ]
          },
          "execution_count": 56,
          "metadata": {},
          "output_type": "execute_result"
        }
      ],
      "source": [
        "chosen_idx = np.random.choice(len(customer), replace=False, size=5000)\n",
        "customer_trimmed = customer.iloc[chosen_idx]\n",
        "customer_trimmed"
      ]
    },
    {
      "cell_type": "code",
      "execution_count": null,
      "metadata": {
        "colab": {
          "base_uri": "https://localhost:8080/"
        },
        "id": "DHZaVLyoKccM",
        "outputId": "48c7c322-95ba-4f57-e666-63e518c0f34a"
      },
      "outputs": [
        {
          "data": {
            "text/plain": [
              "Email                  float64\n",
              "Order Frequency          int64\n",
              "Discount Usage           int64\n",
              "In Spice Club            int64\n",
              "Free Shipping Usage      int64\n",
              "Total                  float64\n",
              "Zip Code                object\n",
              "City                    object\n",
              "State                   object\n",
              "In Metro Area            int64\n",
              "Short Time Delta         int64\n",
              "Repeat Customer          int64\n",
              "dtype: object"
            ]
          },
          "execution_count": 57,
          "metadata": {},
          "output_type": "execute_result"
        }
      ],
      "source": [
        "customer.dtypes"
      ]
    },
    {
      "cell_type": "markdown",
      "metadata": {
        "id": "cg9973Riecms"
      },
      "source": [
        "We find the latitutde and longitude of the different customer's zipcode using the zipToLatLon function and pgeocode, a GPS/GIS library, modules. Using the customer's latitudes and longitudes we are able to find all of the cities' latitudes and longitudes. We plot all of these latitutdes and longitudes where the black dots are the customers and the red dots are metropolitan areas."
      ]
    },
    {
      "cell_type": "code",
      "execution_count": null,
      "metadata": {
        "colab": {
          "base_uri": "https://localhost:8080/"
        },
        "id": "ZA1Z7d0bC7oQ",
        "outputId": "42bedca8-7753-4f5c-9116-471ef3c9a308"
      },
      "outputs": [],
      "source": [
        "%%time\n",
        "\n",
        "nomi = pgeocode.Nominatim('us')\n",
        "cache = {\"an\": None}\n",
        "\n",
        "def zipToLatLon(postalcode):\n",
        "    if postalcode in cache:\n",
        "      return cache[postalcode]\n",
        "\n",
        "    cache[postalcode] = nomi.query_postal_code(postalcode)\n",
        "    return cache[postalcode]\n",
        "\n",
        "lat = []\n",
        "lon = []\n",
        "color = []\n",
        "\n",
        "for _, row in customer_trimmed.iterrows():\n",
        "  result = zipToLatLon(row[\"Zip Code\"])\n",
        "  currLat = None\n",
        "  currLon = None\n",
        "  if result is not None and not math.isnan(result[\"latitude\"]):\n",
        "    currLat = result[\"latitude\"]\n",
        "    currLon = result[\"longitude\"]\n",
        "  \n",
        "  lat.append(currLat)\n",
        "  lon.append(currLon)\n",
        "  color.append(\"#000000\")\n",
        "\n",
        "city_zip = {}\n",
        "for _, row in customer.iterrows():\n",
        "  city_zip[row[\"City\"]] = row[\"Zip Code\"]\n",
        "\n",
        "for city_name in city_names:\n",
        "  if city_name in city_zip:\n",
        "    result = zipToLatLon(city_zip[city_name])\n",
        "    currLat = None\n",
        "    currLon = None\n",
        "    if result is not None and not math.isnan(result[\"latitude\"]):\n",
        "      currLat = result[\"latitude\"]\n",
        "      currLon = result[\"longitude\"]\n",
        "    \n",
        "    lat.append(currLat)\n",
        "    lon.append(currLon)\n",
        "    color.append(\"#930c25\")"
      ]
    },
    {
      "cell_type": "code",
      "execution_count": null,
      "metadata": {
        "colab": {
          "base_uri": "https://localhost:8080/",
          "height": 542
        },
        "id": "cyXO_ZTnDApo",
        "outputId": "579ab3cb-22b4-4a00-ae3c-fee9ce1d9487"
      },
      "outputs": [
        {
          "data": {
            "text/html": [
              "<html>\n",
              "<head><meta charset=\"utf-8\" /></head>\n",
              "<body>\n",
              "    <div>            <script src=\"https://cdnjs.cloudflare.com/ajax/libs/mathjax/2.7.5/MathJax.js?config=TeX-AMS-MML_SVG\"></script><script type=\"text/javascript\">if (window.MathJax) {MathJax.Hub.Config({SVG: {font: \"STIX-Web\"}});}</script>                <script type=\"text/javascript\">window.PlotlyConfig = {MathJaxConfig: 'local'};</script>\n",
              "        <script src=\"https://cdn.plot.ly/plotly-2.8.3.min.js\"></script>                <div id=\"6e2e421f-d71b-4192-8521-214317a27946\" class=\"plotly-graph-div\" style=\"height:525px; width:100%;\"></div>            <script type=\"text/javascript\">                                    window.PLOTLYENV=window.PLOTLYENV || {};                                    if (document.getElementById(\"6e2e421f-d71b-4192-8521-214317a27946\")) {                    Plotly.newPlot(                        \"6e2e421f-d71b-4192-8521-214317a27946\",                        [{\"geo\":\"geo\",\"hovertemplate\":\"lat=%{lat}<br>lon=%{lon}<extra></extra>\",\"lat\":[38.9896,43.1604,41.8721,42.0738,32.9673,40.6772,33.8897,32.2733,38.2651,38.9268,37.7749,32.8463,40.9043,41.8884,40.8583,33.7364,35.1578,47.5603,null,49.4333,44.484,32.7466,40.694,39.7563,29.6489,34.1993,40.7375,38.9115,29.5551,21.3453,41.3184,42.2679,29.6785,40.7608,38.5568,47.5398,39.3716,36.3314,42.7626,41.4876,40.6327,34.1156,38.6171,33.786,38.7033,42.2245,41.6215,43.5741,47.7423,45.5653,42.2937,42.0847,37.4647,32.6016,38.7033,47.5846,38.3941,38.9363,32.7795,42.4174,35.8762,37.1852,42.3642,42.0521,40.7764,34.4411,40.7101,39.6412,38.5456,42.2165,42.4984,37.418,41.3141,40.6278,48.7974,37.8071,35.9967,36.2765,43.16,40.7888,34.0783,30.7773,39.9513,41.2423,42.3829,36.2195,40.7445,40.7513,40.7618,37.7856,34.9,33.4368,39.679,41.9025,29.5704,39.775,47.6114,35.2612,37.7509,40.2464,40.7975,42.9047,43.5239,38.917,34.1076,36.8432,40.7445,41.033,44.4587,37.6787,44.4587,34.0481,37.6658,47.6665,38.5538,44.482,36.1824,33.6295,34.1144,37.296,40.8897,42.7531,43.3014,42.0617,33.6483,45.4093,41.8824,42.2794,45.5483,45.527,42.1129,40.0723,40.5817,33.8018,38.9024,39.6575,41.9209,30.6411,40.021,40.7272,34.0427,34.1468,36.1128,40.7012,40.7651,40.2638,41.8947,47.2825,36.7103,43.0975,39.9914,40.0495,33.8643,42.2245,35.1361,39.8268,36.1897,43.1226,32.8201,37.8601,40.7465,33.8206,47.6786,42.3959,38.5456,39.2058,39.1516,39.6099,40.2171,42.3478,32.7185,32.831,34.0964,40.0985,37.6658,30.2893,42.0794,42.3829,41.6438,40.7734,25.9388,40.8462,42.4906,44.998,32.7958,40.7221,45.1809,40.7279,41.135,39.3647,33.2522,40.7134,35.6215,33.1186,35.6975,40.3666,30.3764,41.4847,36.8546,41.9209,41.8721,40.5539,36.1316,47.8401,42.219,38.2628,42.2798,29.9168,44.39,44.0915,38.3847,40.0,40.7465,34.0737,40.7339,35.4726,41.6614,40.7069,41.6823,43.0579,40.5346,35.858,34.1774,45.0793,41.635,37.7856,46.8264,40.679,34.1514,27.9781,42.2679,34.1802,41.9794,40.6669,38.9897,40.4999,34.9453,41.6881,45.0033,42.4539,45.0788,34.003,47.6849,41.2892,40.9492,39.9441,42.7605,33.7346,34.4291,41.4385,41.9019,38.01,45.5483,40.4525,41.2656,26.0161,38.0936,35.4244,34.0637,33.7051,38.5892,34.003,41.5648,40.4284,39.7224,34.003,39.8788,40.7975,38.8019,41.1073,39.9379,29.6785,39.4332,40.7513,40.3958,33.4459,29.6889,39.2133,38.6669,39.009,40.7272,35.9112,40.3354,39.3455,40.9216,37.4638,37.7917,42.2084,39.9523,33.9315,38.3941,38.8307,33.1186,29.7512,40.7313,33.7217,39.2564,40.0118,36.2416,35.1076,35.2633,27.2356,29.4821,32.9756,33.9761,33.6685,40.2648,38.9024,32.8664,42.2875,34.1112,38.8829,28.1147,37.8033,40.7482,40.0597,37.4245,43.6023,42.3126,41.4262,42.7856,40.6669,42.234,40.3599,57.6036,30.092,42.352,29.9324,27.0606,42.3126,45.5959,37.9324,45.5889,40.7807,42.4173,47.6873,47.1424,34.4038,38.6746,45.3669,39.7305,39.0003,47.6379,35.324,41.3815,41.9362,35.1935,38.9202,40.7864,42.112,33.1971,44.6139,42.3007,38.5683,32.7329,42.5991,38.5539,40.9525,43.0775,38.7877,38.9144,39.9487,29.6489,41.5509,42.37,34.8305,35.5393,42.4406,38.9832,40.7443,40.6225,45.0132,31.7763,40.7012,47.0822,33.9985,34.8825,38.4097,40.7484,37.2563,34.1526,42.4173,37.296,42.3907,34.0766,38.9122,45.7216,40.6957,42.37,35.5258,38.5347,45.5142,33.7939,35.9203,39.1951,41.9697,45.5254,36.8205,38.7492,41.1673,34.2218,33.4013,35.1124,37.3249,39.9362,42.5401,40.7513,40.8246,40.6794,42.2794,37.7587,38.9896,39.2234,33.4958,41.1434,36.6849,42.1109,37.9479,40.4276,28.9299,33.025,38.852,34.2619,29.6984,42.2375,34.4296,41.4414,43.759,42.7391,45.4446,37.7712,34.0425,35.9162,30.2166,37.7712,33.6483,40.7012,35.5376,36.148,42.813,36.1114,40.7939,42.299,40.6628,40.1095,38.8836,33.5059,47.6151,40.7339,40.7952,40.1309,26.9217,40.6816,26.5228,42.0348,27.845,44.1445,35.5971,30.2687,33.8896,40.7864,46.8224,34.151,39.9379,40.9734,40.8174,32.2077,43.1888,37.4826,41.4767,43.2573,39.6146,42.944,47.6116,34.0481,37.7917,37.674,35.1076,37.1819,29.7696,40.7651,41.3346,40.8281,40.5486,41.8721,45.4403,38.9363,40.7374,33.9903,37.0089,45.6418,40.7484,47.7188,36.0218,38.9122,43.4528,40.7482,33.5429,37.3903,37.5477,41.1002,37.7636,45.527,40.7859,40.7402,37.3855,39.4745,40.7446,44.2773,30.5835,37.7786,40.7278,39.432,42.7371,33.5701,39.5676,null,47.5073,33.0293,40.982,35.1334,38.9518,41.9202,38.6709,42.4884,35.334,40.7095,48.0881,33.5059,27.9671,45.458,43.1409,47.901,45.3514,38.4405,40.0097,29.8296,45.1768,27.7465,40.1159,34.1376,39.836,25.5323,41.259,33.6425,38.4962,30.43,36.3054,37.4236,34.6725,37.0831,42.3837,40.612,33.9208,41.084,49.204,42.2032,40.5457,40.7763,40.7975,47.7188,38.676,32.8558,33.5103,42.5254,42.3347,41.7541,40.7571,37.2974,42.377,27.8116,40.7339,44.4695,34.4369,33.8851,41.7792,39.9845,40.6467,33.7009,35.5258,40.745,41.6712,40.7975,35.229,35.6498,42.5881,34.1468,42.3219,42.5942,37.9691,40.7143,40.7402,41.6355,34.1076,42.9614,48.3643,26.2665,43.9009,41.0975,37.7786,43.0348,40.8317,42.0188,32.8473,33.7691,45.4505,45.3727,30.3752,41.722,38.4549,39.4143,26.8234,30.4873,42.8285,42.3671,37.4931,45.2776,44.9039,34.4378,39.1125,33.8542,37.2417,33.7852,33.7939,33.8687,42.5151,36.3242,33.6968,47.8049,37.8918,26.6644,43.0429,36.0725,36.3953,28.1474,42.7692,27.8024,34.4296,40.7313,27.5382,37.7509,37.2853,38.9896,40.7446,39.0388,42.4406,38.8565,39.9448,59.812,31.7677,40.7918,42.3431,37.4396,29.9871,41.0928,42.3847,43.0095,28.5754,40.8116,41.0888,41.9019,40.7254,40.0172,41.3184,40.7313,39.688,43.1601,30.3649,41.3184,40.9176,40.7004,40.7229,34.1419,33.2722,47.5412,33.8332,40.679,41.1724,32.3161,40.7816,37.6787,42.5286,38.5138,42.4406,37.7509,29.8836,36.5107,39.7683,40.0497,40.7763,40.694,37.8471,40.9525,43.1528,40.7975,29.5785,45.6711,34.0349,37.2568,40.7608,45.458,34.0906,39.9108,33.465,39.7601,37.0313,40.3556,41.522,40.7674,41.7097,40.7893,32.2519,33.7051,33.5085,33.7857,43.2817,39.2058,38.9524,37.3502,37.7856,33.0304,38.8856,42.5683,34.1121,39.4972,34.066,47.6733,42.7298,42.3307,37.8958,40.8662,47.6488,40.7305,32.9485,42.0511,27.7941,43.0775,40.8185,46.9939,37.7509,38.4489,42.3899,41.3575,38.7192,27.4072,38.8733,39.3385,41.2725,26.007,35.6577,40.9719,43.6722,40.1073,40.7278,44.0039,38.9363,32.5927,34.0665,40.7547,39.7617,37.6787,33.7984,36.8028,42.1463,43.6912,39.679,37.5735,47.5846,39.1072,33.7691,58.3628,47.0058,33.8181,39.2645,40.0825,42.223,37.1539,34.1156,38.7707,41.8515,34.1921,38.676,40.8183,35.1124,39.998,41.6082,40.8319,37.2874,44.7394,40.9471,43.0892,44.7208,35.6975,32.9555,37.7509,33.7602,38.2403,34.1073,45.0096,32.8154,29.9289,40.7152,39.0003,37.7706,34.1124,38.6184,37.7402,41.5761,26.212,40.7056,37.3855,34.1355,41.064,37.418,38.2586,40.9177,40.7938,32.9161,36.3551,37.3814,42.6158,40.7095,39.2458,35.0726,38.7912,44.8377,36.9811,60.4818,28.514,44.2864,41.5719,36.1968,42.4003,30.6045,40.075,39.9069,38.6929,33.621,40.2992,35.8673,39.3741,39.1401,38.5762,35.2023,37.7562,26.6204,33.9058,47.6339,47.3002,40.7975,47.2325,42.3492,36.0662,37.7688,40.5076,39.9296,39.9157,43.6606,37.7856,43.6876,38.9202,39.8498,42.281,38.0936,41.9972,42.0399,40.2607,40.0247,45.5441,34.1705,41.6606,45.5742,44.0036,42.2941,40.179,34.0614,43.2196,29.7991,47.6718,47.6873,38.9327,34.7076,40.7864,42.2539,33.9243,45.5287,36.1633,33.1101,48.104,48.3643,42.0596,46.9996,40.9,40.7763,34.0282,40.0452,44.914,40.7294,33.9455,38.5476,42.1553,40.6752,33.8029,47.6302,35.6004,40.6467,41.7807,37.0089,39.4461,42.0302,41.9289,40.7864,43.1378,38.3006,45.456,42.2325,38.9621,40.1096,42.377,30.0071,32.3379,29.4821,47.1042,44.3843,39.759,40.0867,38.9024,42.3611,40.121,38.9518,40.6868,40.5681,39.1436,40.7843,39.6062,28.6513,34.1774,40.6251,40.3039,30.0505,32.7637,38.0891,35.1347,41.9205,39.0553,47.6269,34.4296,45.484,40.694,38.8307,44.9673,39.4281,30.0739,35.2901,40.0956,40.7763,39.3521,37.7351,40.9734,null,38.9658,45.484,37.5671,32.5486,33.7706,40.679,34.1745,39.9774,45.5303,30.0739,37.5825,39.6987,29.8931,39.84,41.4701,33.2346,41.46,39.1848,35.9878,37.7917,34.1872,35.9734,29.5716,40.8185,42.5444,35.3562,30.4212,41.9178,38.0973,30.3666,40.679,38.5728,41.2018,42.6764,35.8452,32.7454,40.8116,35.7956,34.143,37.6873,40.7095,42.913,30.6582,32.4227,41.501,42.3478,40.7272,41.1025,46.276,47.7542,47.9222,40.67,40.701,47.9199,34.0402,37.9367,43.0215,26.9667,42.475,42.9017,37.7587,40.7952,42.5326,32.718,40.7517,32.3161,40.6929,25.7378,46.8048,32.7425,38.0339,40.6789,41.5019,35.2204,40.7221,40.685,37.4396,41.9293,47.4974,43.0353,33.007,43.0194,41.2018,47.6116,41.6787,39.6349,25.6062,42.3611,42.7376,40.1559,39.7851,44.991,42.5591,30.1716,38.9268,37.4647,42.2679,38.2471,40.2706,37.7712,41.0602,38.9067,32.3401,33.7865,40.718,39.6382,40.5145,46.9823,40.7623,45.5889,40.7321,38.4822,37.5538,33.6512,34.1112,37.8471,35.6219,39.9478,30.4089,40.7764,47.6156,27.8914,40.1576,36.0218,40.7816,37.8843,38.7209,39.0951,40.4237,42.3185,39.7305,35.2023,34.4954,40.7279,34.09,45.484,32.9322,40.263,39.1484,41.2403,36.0425,29.9746,34.4296,40.002,28.809,42.2918,40.3983,34.1145,40.6205,34.5087,45.7846,40.7402,47.6733,42.941,47.1591,45.3669,41.8729,40.7984,34.4378,35.0528,40.694,40.8116,35.199,42.3647,39.4877,47.6876,38.793,40.7764,37.418,34.1145,42.2439,41.7328,44.4883,42.983,33.8842,37.418,41.5168,40.6816,30.3031,33.7984,33.6308,37.4245,40.7262,30.293,33.8018,37.9658,37.8085,41.3744,42.112,42.3837,38.4962,39.8647,40.7443,39.0298,37.7917,43.1962,40.7651,37.8361,40.6816,34.187,41.6558,36.3783,37.9265,37.863,34.0637,37.6501,null,34.151,40.7185,34.0762,38.9957,38.2222,42.3377,41.5805,42.3219,47.3104,37.8989,32.7319,39.1848,45.6693,26.2665,40.0978,39.5437,41.0092,47.5754,40.7592,41.5592,34.4296,40.8824,40.4295,40.9331,38.356,37.5498,43.633,47.5412,37.8134,45.5742,37.8958,41.4087,47.6462,41.2977,41.424,41.0856,42.3583,41.0549,41.747,41.7464,42.3687,27.09,43.0158,41.5372,34.0298,45.7813,42.6955,39.149,36.1442,34.141,43.0128,29.5232,38.6816,45.0803,45.5143,44.8482,33.0535,33.6791,40.6794,35.7126,40.9068,39.3113,40.7185,39.087,47.7559,37.2417,40.7816,41.151,41.9182,37.4563,25.7022,40.0985,39.8422,40.8534,32.1941,42.3347,41.1156,33.8972,41.6668,42.4567,40.5767,41.8651,41.9703,40.1146,35.9977,41.0768,36.3107,26.1122,34.4197,38.4232,39.9677,38.8071,40.3295,40.5877,42.0546,40.4346,34.0818,40.789,40.0091,39.0565,39.1258,40.8915,41.9209,30.3388,42.064,30.4212,44.998,40.7864,27.1656,41.6624,41.9464,42.7198,33.8925,34.8185,25.7022,40.694,40.7145,40.2992,38.9585,40.6336,44.8346,40.7445,37.9265,43.1528,44.0185,37.5671,37.9324,38.6626,34.066,38.7931,38.685,43.5924,34.402,34.1678,41.0549,41.151,39.9569,40.7571,33.5472,47.305,32.3112,40.6316,39.2645,36.1037,34.0619,29.735,38.9658,39.3507,39.2795,27.6357,38.8935,47.5603,43.3144,42.3621,40.993,40.3472,43.1869,38.9982,42.0095,38.1163,35.1884,35.9162,41.7451,39.9487,37.0664,44.5035,40.0335,36.9797,40.7548,42.3431,41.2639,42.7529,42.4426,42.4563,41.3154,42.6593,36.1897,37.8365,47.8579,40.0375,37.7593,41.5094,41.3154,47.6115,40.6816,40.1284,40.9664,40.3859,38.978,40.7443,33.8851,35.025,34.3985,33.9924,36.1678,43.1317,36.0447,32.8201,41.8478,41.698,45.6693,39.9788,39.2353,38.5878,36.9721,41.4095,45.6644,43.1122,37.0662,33.0752,38.7713,35.5808,46.9006,39.2335,41.5105,40.7436,33.0535,37.5895,43.9217,33.8206,47.3866,47.3104,36.3054,34.2007,40.6225,21.0905,45.6644,39.9157,40.7255,37.296,37.7351,47.7467,41.9673,42.8656,41.9287,41.6355,44.9124,47.862,40.7371,37.3518,26.1831,30.2015,37.3855,41.79,45.3727,45.0,41.3414,37.7587,40.6795,41.5512,39.6651,34.1156,37.7712,44.3351,41.8001,41.8714,40.7597,27.3269,27.3262,39.7359,42.7388,39.9677,33.8581,40.5208,38.6345,34.4684,39.9157,42.4906,35.9299,35.7076,39.0361,41.9661,42.247,40.7685,47.6849,40.7229,35.1186,39.1345,40.0766,30.3471,35.8663,44.6927,33.7169,41.8425,47.6114,42.9815,41.8034,33.9058,40.6794,41.218,38.001,33.4995,47.6849,41.3676,41.1156,37.3702,39.5249,35.1935,41.0222,40.7599,42.2786,41.9089,41.2756,37.5735,43.7318,38.9381,42.3907,41.492,29.7422,45.5061,37.7509,39.2025,30.1949,42.2375,35.0583,33.6013,38.9014,40.6924,34.1862,38.859,37.9367,33.8627,44.8346,29.7422,38.685,33.9938,40.0177,34.7757,28.1479,40.7482,27.7723,40.7764,40.8943,33.7529,35.9203,33.1193,34.1159,40.7864,39.0361,40.7764,32.7976,41.995,41.3066,35.7826,30.4007,33.8897,47.6733,38.4403,42.3771,38.0973,40.7651,34.1517,38.6128,40.8434,33.4653,40.0495,42.7863,42.3647,33.7009,28.014,42.5608,40.7685,40.6424,39.8353,40.6412,36.1428,36.1337,39.1051,39.4753,32.966,40.7445,47.6849,47.2073,30.4254,34.1156,40.8116,33.7752,40.7651,40.7975,41.5333,39.4756,41.4349,37.7593,42.3535,40.7339,40.6669,39.9448,42.8441,41.4696,41.7283,41.4714,40.0964,40.4775,41.9453,42.0999,43.0579,47.6849,32.7976,33.7619,44.9414,44.9497,29.9781,39.2225,32.9161,40.2888,37.3764,41.8196,29.9504,39.774,48.5004,40.6924,35.2409,33.7643,47.7684,37.7725,28.1474,41.8482,35.8887,47.6301,39.2058,46.8551,41.8341,33.7716,34.1912,37.7166,40.6772,36.1424,33.9761,36.0756,47.7529,40.6424,35.2208,42.3066,44.39,34.2006,44.784,40.7764,39.838,33.9886,40.6816,41.5509,33.8913,40.6794,39.042,39.2038,47.3845,37.2732,33.9631,46.9209,39.0204,26.8327,39.2638,39.5397,33.832,35.1602,40.7606,34.003,64.9109,40.6424,40.7272,42.2694,29.7247,40.7029,34.0637,37.8126,42.7529,30.2801,45.458,38.832,29.9746,39.46,40.1068,34.1155,35.5551,42.6208,42.3932,36.8878,38.9348,37.6196,33.8584,41.6418,41.5994,48.4143,37.8471,40.7864,30.2801,44.9842,42.3106,40.6924,27.2606,33.7051,30.2896,39.7002,48.3151,34.1517,33.9243,47.5614,37.8571,39.9513,46.4929,43.7091,39.6374,41.5097,29.9766,33.7716,36.2589,33.1644,48.6952,40.7484,40.7152,25.9388,45.4985,44.0385,39.6573,37.8361,39.087,33.6165,39.6102,33.9143,37.7712,25.4906,33.5494,38.4257,37.7587,38.6108,47.7497,32.0068,36.4268,39.9715,38.1381,43.2151,34.0353,40.8705,38.8902,37.94,37.8011,34.0898,39.8954,44.9384,45.4983,25.6694,43.5924,40.7763,37.2296,39.2638,42.4935,40.7051,38.2683,40.1317,39.6123,40.0172,42.3251,40.4775,43.5274,42.0928,30.6729,41.0531,32.4978,43.7318,41.2977,38.5762,41.3346,37.5498,30.3085,39.9561,47.6634,45.484,40.6628,31.3352,34.1468,35.6215,40.5007,33.9349,40.7152,40.0596,39.2645,26.1529,43.6797,40.745,47.5413,33.1959,41.9719,44.9026,33.6773,39.46,27.9382,40.0091,37.6658,47.2151,40.3354,39.6841,40.0612,43.0321,33.8896,40.6628,43.7013,40.6628,33.6801,29.6515,38.7408,33.0535,32.9665,41.9008,39.04,40.1576,40.7764,33.8731,38.8643,41.3931,39.9774,37.902,38.6709,36.2765,41.8725,40.7069,37.2296,40.7685,42.377,33.2781,37.1654,40.1146,40.6467,41.2927,26.9339,40.7095,45.213,33.9951,null,40.9351,40.1306,43.4224,34.0766,30.5052,35.1545,27.7015,38.9122,37.296,42.1151,38.9363,40.9391,42.4202,40.7443,41.4162,34.066,39.6146,38.8994,29.6884,38.7243,42.3932,37.6004,38.7381,33.9243,38.4549,41.3917,42.0095,39.0191,42.3611,45.5441,43.4934,34.104,30.1877,33.4951,37.4443,40.3492,38.9268,35.2571,30.2721,35.406,44.5316,40.8465,48.6952,36.7991,33.9761,37.3814,36.1964,30.3387,40.6789,42.9403,37.8571,33.8656,47.8049,26.9339,42.247,41.4767,43.5045,41.8378,47.572,41.3176,45.5254,34.0116,33.1377,35.0883,40.2067,34.8001,45.5742,39.0735,21.3488,39.6382,36.1781,41.28,34.1073,34.1887,29.4821,38.9982,40.6794,33.9455,47.5398,30.3705,40.67,38.8604,41.218,38.9273,47.9017,34.0637,41.1222,42.949,41.3664,42.8559,33.8315,39.1848,34.1767,39.998,38.5643,30.1044,48.0881,37.8361,40.6669,47.6478,41.686,40.7272,42.7701,38.9757,38.9919,27.4072,41.5855,29.1565,40.6467,43.2151,39.7327,45.5143,37.7309,30.2638,35.8014,42.3829,33.7644,39.9712,33.0268,42.3271,37.0089,37.2417,44.991,38.6669,35.0551,42.4906,47.6701,33.6245,40.1821,39.6431,47.6876,41.9019,42.3168,33.8231,40.7294,39.1802,47.9657,39.2511,38.2849,44.3048,38.0995,37.5605,41.8713,41.3621,42.3669,43.2196,38.5539,41.6255,44.8283,40.7095,32.9161,35.2054,41.8927,41.8971,44.9264,42.2794,40.8405,41.7556,36.9721,36.1114,39.8784,37.7864,39.1208,40.7816,38.8836,38.9327,46.093,38.9896,41.8923,30.1223,47.4511,40.2655,45.5981,42.5149,38.4549,40.3351,46.8733,34.143,42.453,40.7255,34.029,40.4775,40.032,39.6102,38.7361,34.1537,28.0173,37.2602,45.5287,33.6856,41.6907,42.332,40.7036,38.8036,41.7328,32.826,32.9657,40.4284,37.7587,38.9122,33.7408,43.0775,40.6669,39.3265,39.3424,45.5483,37.5421,45.4918,40.6669,32.9328,48.4988,37.8126,40.7445,40.7864,36.3577,40.679,38.9348,42.2933,45.4403,34.7486,37.9182,41.408,41.8759,44.3165,37.4815,43.9379,41.2403,45.6711,40.7095,37.9624,45.458,30.5083,21.3295,42.913,45.7753,32.7822,29.9511,35.1545,40.6466,37.2568,33.4459,40.6451,44.4513,35.6665,35.1355,39.0565,42.3829,40.7975,40.7185,47.5746,47.1291,25.7559,32.7185,41.0427,29.4821,39.087,40.7313,29.5855,21.2928,30.2428,43.3385,40.6628,40.6794,40.6976,42.2798,42.4735,37.5748,40.6669,36.8012,39.2133,37.8927,38.8829,41.8034,48.0187,45.484,40.7095,28.0967,33.8513,39.2141,34.0397,39.009,38.9896,40.7006,41.9033,41.5603,38.7103,37.0131,40.7685,27.6898,41.6127,44.0915,48.3534,41.3414,33.036,38.4592,40.7262,40.7484,35.4858,40.1919,37.9223,42.1139,42.6952,33.4743,40.6884,40.8472,33.2414,34.143,38.9367,40.5473,39.5249,34.0766,46.5131,29.7409,40.4411,37.4396,37.4563,44.1436,32.7185,41.1894,39.2511,37.5735,40.4421,37.2685,41.2999,39.6699,40.7764,40.6281,47.6478,39.679,35.22,41.1073,45.5142,44.0915,35.3795,44.484,30.4224,34.1109,40.7272,40.4991,36.0671,30.351,38.5443,41.1272,39.401,30.3387,41.9209,48.104,42.377,32.5475,32.3543,30.2631,41.9689,39.9362,39.9771,37.3814,47.6786,33.8842,34.5158,41.8468,33.5021,34.0176,33.7938,38.9363,26.3168,42.9627,40.0892,19.7025,42.2165,42.3474,43.6606,39.3015,41.2338,30.0027,33.8307,37.5477,26.4564,39.0565,37.3476,41.7939,34.1872,40.7185,40.6516,60.9577,41.312,35.8346,31.0723,43.214,45.4147,40.6467,40.7221,40.7436,42.5881,42.1254,40.263,36.1262,42.5855,44.9034,33.5429,38.8237,42.9744,41.0234,35.9162,38.9585,40.7111,41.151,40.7339,41.8001,40.1846,44.9588,38.9318,37.3547,32.9374,25.8198,44.9347,41.6889,37.4638,45.5472,40.7481,41.5825,43.4775,33.6165,33.4958,37.5507,42.4202,42.6429,40.0347,37.7929,34.0756,38.7894,38.2651,41.9178,41.908,42.2537,40.1542,37.7593,43.6248,38.2441,44.3481,42.3042,38.6746,48.5004,34.4466,34.066,36.8585,37.5538,32.797,29.5704,47.3368,43.6601,38.8829,42.312,40.7278,40.7221,35.1591,41.3184,32.9346,28.0168,42.3478,36.2248,38.1582,33.0784,40.7313,39.2856,42.4003,37.2874,40.7374,44.2773,41.5825,44.9608,41.5198,39.4805,33.5429,39.9677,48.5454,38.8565,39.4461,33.3301,40.2584,38.5781,41.135,37.7587,35.7225,37.1353,34.1526,37.8471,36.1378,42.6315,42.3007,41.3724,34.1156,36.0641,41.6895,40.7763,33.5242,34.1912,43.4153,39.592,47.6151,39.9523,35.079,39.0003,29.7422,40.6794,39.0123,41.9019,42.5961,41.2742,27.3269,35.0019,33.6968,37.8126,41.8171,37.5498,37.7856,42.3542,33.7278,42.769,41.4494,38.1308,40.9166,47.5098,27.8682,40.7764,42.4459,35.852,40.7763,27.9873,37.6247,40.694,34.0737,40.9231,38.9462,42.3489,37.9324,34.2237,41.5855,42.4202,40.7402,42.3492,41.8383,34.1281,44.459,41.4262,40.1795,32.6807,42.219,39.0668,45.7907,47.7559,36.1633,42.1245,38.7381,37.5605,32.8473,36.7991,42.2539,40.7952,21.3488,47.7559,42.342,40.7627,35.7076,43.1869,42.0144,29.9966,35.244,35.871,43.1699,42.5796,48.7974,43.0834,38.9363,40.679,61.1901,44.806,40.8737,45.7801,34.1121,40.694,40.7443,25.9449,41.076,37.418,32.4715,39.9308,37.3502,36.3357,34.0447,42.9866,37.5748,33.786,42.7462,39.0563,27.817,33.4026,33.9761,35.2635,40.7864,29.6223,33.9143,26.0426,39.0496,41.9209,38.6491,48.7974,39.5929,42.8051,38.9667,40.679,35.809,38.7714,39.2511,41.3668,38.8377,32.3258,43.8089,40.0766,44.9842,47.6849,39.6888,37.94,38.9757,41.673,46.9939,38.9896,40.6424,32.7835,34.0447,39.7512,41.1836,30.5241,47.5846,33.9631,30.5052,37.8431,34.01,42.377,45.5287,41.5592,41.7095,40.8246,49.4333,41.6614,40.7339,39.5705,47.0901,32.2468,33.3354,47.6116,45.5467,37.7974,40.6996,47.3866,34.2606,36.3041,41.9719,33.3092,37.7509,40.6087,40.557,42.3829,40.7313,21.2987,34.0287,34.1767,32.7607,40.745,33.9631,26.6182,40.9176,37.9846,43.6606,33.5879,37.7786,44.914,39.4332,37.3547,42.7334,34.4291,40.4406,39.3342,48.2028,43.2364,27.8458,43.0356,34.1112,37.8918,40.7454,37.0313,41.9909,38.8836,42.2395,42.3611,33.5242,41.038,33.6437,38.8976,42.9695,44.5393,43.4875,30.249,42.2333,34.2366,27.8914,29.735,35.8334,40.5905,33.9299,40.679,34.1109,42.7287,39.1355,34.0434,47.6873,47.6339,35.852,38.9024,40.6225,29.0266,38.1296,44.2137,39.3521,40.7321,39.0489,40.7436,38.3941,36.6167,40.8863,30.506,40.4406,36.0527,38.1071,47.6873,42.9868,26.8234,37.5825,36.5457,38.0406,37.7917,43.9458,30.1716,28.7168,38.4905,39.3455,44.9347,40.0766,35.0768,44.8342,47.7467,32.9161,40.5834,34.1156,44.8756,43.757,29.7409,32.9968,33.7691,44.9497,40.0535,39.3265,32.9652,45.6711,42.3642,43.7974,39.3626,42.5565,35.0869,36.0641,37.3066,37.1353,40.679,39.0708,35.5335,36.0986,40.7152,41.5277,39.7074,47.4259,37.4056,39.6374,39.9513,40.4525,33.6617,34.1526,41.8467,38.9024,34.7542,45.1157,35.7727,43.1699,42.0765,47.7556,40.7313,35.998,40.6251,47.6733,30.3437,42.0765,40.6838,37.7812,40.0322,38.0377,42.3126,42.3584,33.9047,25.8301,41.1673,35.852,45.5143,43.0409,47.6928,30.4873,35.025,35.1421,35.8014,57.0514,38.8191,40.7375,37.7706,41.5509,39.759,34.1073,30.8536,42.3542,34.6909,40.1795,41.9033,32.9628,34.1419,38.1071,39.9677,29.7517,33.9291,33.5145,39.7851,42.3647,40.6907,39.9683,42.3311,38.9367,42.3657,43.1174,33.7865,40.7236,34.1419,37.6848,40.843,33.7984,40.8183,40.7816,40.7272,47.6116,32.7635,41.9039,null,32.5547,43.6843,41.5008,38.9326,37.7509,41.9399,39.1125,40.1524,30.1743,34.4451,44.3232,39.1164,45.458,45.5889,33.9653,41.9703,45.6058,44.9466,47.6155,40.7255,47.2977,38.9518,27.7549,41.9453,38.9024,40.778,28.4944,37.7621,40.7375,27.8633,40.7029,40.8203,35.3906,34.1074,40.6379,35.9112,43.2566,42.3932,34.0637,30.2907,45.4373,38.806,30.5118,37.2523,41.8436,33.5146,39.8671,48.749,42.3259,39.2303,41.8721,41.0768,39.3034,30.4036,40.1717,40.6957,45.4918,43.6498,40.7789,42.8827,38.8458,40.5921,40.7651,40.7896,40.6913,34.0025,46.9006,40.179,42.5076,34.1355,39.4269,34.0482,45.2514,34.0349,41.4353,42.3518,42.713,40.0326,38.6946,40.7272,40.7145,32.9396,41.8383,41.886,38.4689,40.6816,40.7627,45.8998,41.0197,41.9896,39.5526,41.2018,40.7436,39.9307,40.7484,40.679,41.4847,33.9701,40.6762,19.4801,41.5344,38.9894,32.7993,38.2995,38.3847,47.2113,39.1991,39.8466,39.0217,33.2509,39.7368,42.3932,41.8439,40.679,42.8135,33.9779,33.718,41.8384,28.3318,37.9182,40.7095,41.205,34.0268,45.5387,41.1014,35.1347,43.734,42.8569,43.227,37.671,39.9474,40.694,32.2138,34.0619,42.3042,35.9299,38.3475,34.1557,47.4259,40.6664,25.768,45.8076,42.1885,42.426,44.9835,42.6013,41.135,37.8126,42.5608,38.6185,39.6062,40.7321,41.439,40.7272,40.694,33.6483,39.3626,40.866,38.6918,42.4751,61.1901,41.0381,36.7304,42.4003,40.7613,38.9348,41.4701,42.3259,40.2659,33.3363,34.1092,44.2828,40.7305,42.8261,29.8931,40.0369,40.7864,40.0275,40.4617,33.4308,21.3295,33.1959,40.778,40.7484,38.6284,41.6703,39.891,40.7221,48.4988,40.7816,38.5456,43.6447,40.7492,40.7763,40.7893,40.6705,43.0653,37.2874,38.8829,34.1339,47.5603,37.8431,33.7163,42.4202,45.4505,42.2941,37.6787,42.1352,40.843,40.7896,43.7811,37.7957,36.8881,35.0818,34.8266,40.5515,35.848,44.8242,41.1705,41.3346,40.9471,43.1962,40.2721,30.5422,26.2535,40.7816,42.4003,35.3061,41.8501,38.6372,33.7619,45.1697,30.2063,64.8378,39.1007,41.6907,37.7856,40.7864,38.7902,42.3185,40.0724,61.5923,42.3492,40.7513,42.5645,37.7999,38.7256,25.7022,29.6954,40.6794,40.804,37.7712,34.1145,37.2732,40.8662,39.9448,33.5466,40.7599,42.3126,34.2217,41.6883,32.4142,41.8971,29.7696,45.4093,45.6693,30.1876,37.4647,37.4969,41.7328,42.281,42.6008,40.7864,38.9382,42.528,40.2378,35.9967,39.009,43.7318,40.7445,38.9122,39.0811,42.301,47.3099,34.0762,40.0399,38.0995,40.791,36.8529,30.5052,44.8162,42.3431,34.1678,33.6238,39.6662,33.9938,35.9967,32.9503,35.7225,40.7685,43.0775,36.8544,42.247,42.2825,38.9299,38.6184,40.5929,41.9209,43.6013,43.6876,37.8071,29.6283,null,28.7577,37.4056,29.2983,47.4325,30.6583,38.7381,48.749,42.587,38.5673,33.6951,43.6234,39.3015,38.2507,40.7228,29.7409,37.1353,34.2619,39.0039,39.9362,41.5944,37.8409,39.9448,44.2137,43.1452,37.3692,34.0699,41.5662,41.136,29.7991,32.2468,32.8456,36.7446,42.3007,40.6424,42.1885,40.6637,34.1655,40.4783,40.7706,41.9794,38.6184,41.5343,42.6626,43.0128,40.2709,43.0631,36.0383,27.7941,41.3359,39.7491,35.2532,38.6445,33.868,42.3837,33.6483,42.4162,40.578,41.9464,36.3953,40.0985,34.003,32.7454,39.6956,37.5331,39.9157,47.5746,42.6158,35.5986,35.9162,41.3889,42.1054,40.7681,44.9532,34.4369,41.7845,37.0634,32.9103,44.8061,40.8676,39.6123,33.6085,34.089,37.9575,38.2628,43.81,40.7816,39.0476,33.7857,29.9289,32.7466,35.8456,40.7651,39.5414,36.0671,42.3647,40.8146,47.6733,40.9351,40.694,44.9532,40.7536,42.1167,37.1454,38.9327,42.2794,33.9335,44.2415,41.2725,40.6794,34.1023,33.4615,35.848,37.4969,33.621,43.3193,40.7372,32.3472,40.7864,42.929,33.6239,28.9453,30.3172,26.4564,40.4891,41.9697,37.5825,35.5566,33.005,40.6693,42.4825,38.6295,42.4406,35.9121,33.3474,40.6907,40.8143,33.7346,41.0549,40.6669,41.9033,46.8677,29.4821,37.8664,42.3129,44.9995,37.8961,40.3351,40.982,21.4084,42.3528,30.3337,39.6505,35.6374,46.6131,42.4261,40.8726,36.9721,30.0722,29.6495,35.9025,38.9369,40.7816,44.9138,33.9845,36.8253,40.1077,19.6531,30.1579,40.9051,30.3737,33.9067,40.6645,39.6012,42.2679,41.9703,47.7542,40.1146,48.5252,40.8083,40.0177,40.2993,31.7677,41.5372,43.5851,40.3666,48.749,42.7231,39.3402,39.659,34.1655,42.4829,37.4245,38.8829,45.6644,40.7687,44.3213,44.3048,37.4791,35.2449,41.7817,38.9658,32.7272,35.9112,37.7131,44.7631,40.7402,39.9788,40.7443,30.4874,40.5927,41.9703,34.0762,39.8648,38.6459,40.7681,34.003,40.8019,34.1774,42.9737,34.169,36.2554,42.7717,38.3365,40.7927,40.7685,35.9331,40.6669,28.7168,42.9164,40.7571,40.9878,39.8088,40.6929,40.7446,40.7764,34.0665,45.5142,42.8389,29.5832,40.9457,38.3173,40.7018,39.8682,37.6775,45.04,40.8775,40.7436,33.9979,38.978,42.3818,40.8559,36.1781,38.8539,40.0117,35.2204,41.1958,35.7694,30.1843,39.2645,41.4349,40.0766,27.1384,25.7735,32.8794,29.735,37.5507,37.1574,40.7303,61.2116,42.6456,37.8049,34.1672,40.7145,44.6791,37.8918,41.5198,47.6849,25.6062,35.2635,34.01,40.2166,37.994,38.5633,null,40.694,37.6085,38.5568,39.3385,39.8949,25.8301,40.4284,47.6873,39.274,39.009,39.9788,38.9757,40.8014,47.6116,41.6438,37.8002,47.7918,26.0671,47.6302,31.4035,40.7763,25.6574,40.0612,38.9024,35.9359,38.8177,35.1316,37.9846,39.9712,38.2441,41.6032,40.029,39.5814,39.3265,42.5414,43.9089,42.4544,36.1355,36.0063,41.6914,33.2386,42.0257,39.6349,39.592,38.9518,27.2664,37.52,40.0497,41.2606,33.955,36.2863,34.003,40.0825,40.7221,38.9374,40.8019,39.0365,37.5133,44.1078,36.3347,25.9449,43.4528,35.6975,33.8994,40.5124,40.7484,35.6374,40.4837,35.079,43.8044,39.4455,41.1352,40.7012,40.6924,26.3905,39.1052,41.8971,39.009,33.7602,38.8458,42.2328,45.484,34.2379,40.9139,41.9512,43.0059,38.928,40.7764,40.7229,25.8521,39.679,38.978,45.484,40.7934,38.1053,37.5507,27.917,37.3814,29.1056,33.8842,33.2289,19.6531,33.7074,29.8324,39.3809,39.8753,47.4648,44.8679,39.1526,40.7816,32.3886,25.6682,37.0089,39.8788,33.4707,47.5603,37.7856,39.8422,38.9896,40.679,39.5303,40.7513,41.3391,29.2983,30.2908,41.6649,26.6939,33.7169,30.3423,40.6628,40.7517,37.8787,43.1888,40.6784,38.6627,33.2131,40.0859,40.6752,40.6424,34.0176,34.0901,38.1222,37.2252,35.4754,26.1502,38.9122,42.2537,45.5521,29.2219,35.199,32.4142,20.9174,47.6733,46.0112,27.5569,38.9369,42.7626,33.0041,27.3262,38.01,44.2767,26.5088,37.7587,40.5076,30.4558,40.7339,38.9518,40.8861,39.9744,34.0766,34.104,41.3347,44.0032,34.1355,41.2977,36.0725,39.0489,32.9247,40.7095,40.6628,40.7372,41.7628,33.0243,44.3273,43.0073,42.0188,33.9949,37.3764,33.7984,42.4138,41.0977,27.8633,40.6816,39.042,39.9474,41.7309,38.0339,36.3054,40.9231,40.0086,37.7712,37.3983,39.759,20.2183,39.0496,34.0737,34.0289,37.8002,39.0003,38.8707,33.7868,45.6418,44.1445,41.6475,39.6588,32.5547,38.2586,41.3866,47.6302,41.9019,40.0864,36.1337,36.4317,38.5117,33.0535,42.2848,45.458,32.9665,40.993,29.8754,47.5846,26.0229,34.1655,33.7419,40.0399,37.8126,41.259,45.4373,42.5219,40.6952,34.9772,33.6706,42.1219,37.7856,34.5487,42.5401,44.0915,43.9503,40.7029,40.7402,42.1348,41.9399,25.768,40.7095,35.9328,37.6236,40.6548,25.7378,34.1435,38.9518,40.694,45.4918,40.7436,44.166,30.8609,41.28,30.1223,32.6671,33.4361,41.4347,32.8577,38.8994,34.2218,40.8082,40.9734,34.2198,42.2918,37.929,42.6593,45.5441,42.2467,38.0973,45.845,41.439,38.9363,41.9008,39.8967,39.338,42.2922,37.5133,33.8851,38.8871,42.2787,33.7278,40.5813,40.7272,40.7893,30.9771,39.9448,40.8726,41.6937,30.3388,39.1125,45.4446,40.4532,39.6573,42.9491,43.6069,35.1859,38.905,41.9719,37.7559,41.747,40.8798,42.2679,37.0465,38.2507,25.6921,41.849,39.8188,38.2651,43.8974,26.2416,41.2977,40.7685,35.8949,42.4097,40.9176,41.1467,29.6785,41.686,36.6217,38.9122,39.9061,41.6028,27.4125,41.1705,37.7929,45.5653,40.5457,47.6294,37.7812,40.6467,38.0685,35.0298,30.2428,37.3855,35.2339,40.6196,40.6816,40.0236,33.8186,42.9255,34.7721,33.8029,35.8663,35.9203,48.7974,30.2638,32.3244,39.3923,32.9665,38.8276,39.6411,28.6617,40.8545,41.6763,38.8829,37.7509,37.4969,34.0287,47.2886,32.0749,43.1869,39.0112,33.0304,42.5694,44.4818,43.6783,30.449,40.8742,27.9475,43.7318,40.6628,36.3363,42.3486,45.8109,34.1572,40.263,38.9615,34.0451,37.3814,35.2204,36.3114,48.9636,37.9504,33.7416,47.6115,37.2296,35.7076,34.0408,40.679,34.7269,32.7924,32.7942,42.3492,39.9362,47.4755,40.2778,47.8579,38.6482,36.329,34.1802,40.7513,41.136,38.3259,47.6302,40.7763,41.5749,38.3847,29.5405,40.7864,37.9182,35.9967,39.966,45.7304,47.8331,34.169,40.4109,28.4317,40.6252,36.092,34.4453,45.4983,43.734,48.5274,37.8961,35.4977,39.1269,48.6952,39.8462,42.5327,36.4317,38.6184,39.739,40.7446,null,45.5889,40.6318,39.1401,38.9202,37.745,33.0148,40.4295,34.0116,34.0268,40.7145,39.3626,43.0028,47.1042,45.484,40.6424,34.1005,40.6424,42.1705,43.615,37.4969,32.7272,33.9569,34.1145,41.9464,34.8763,43.734,33.1101,40.8465,40.7816,32.9123,41.6498,25.7559,47.6301,30.249,37.131,33.8155,40.7119,37.9053,35.6215,34.261,40.6637,35.1417,42.2736,46.3502,42.0122,34.0353,33.1193,37.6875,32.8455,39.151,34.1023,38.5511,47.3114,48.8534,38.5538,38.9189,39.3064,41.9972,38.8604,38.9381,40.8292,33.1639,38.5352,37.3702,38.6669,41.6741,26.1387,45.3669,44.0915,37.5368,32.7425,47.2484,43.2724,38.3941,47.4924,66.8985,32.3379,40.9011,38.6952,40.2705,33.7009,42.059,37.6247,40.7143,35.7645,41.3184,39.5394,39.759,34.0408,38.8372,40.5986,42.8812,38.7119,40.6816,43.2981,30.1843,44.1123,43.7318,42.5151,41.9703,41.501,26.6644,33.1377,46.1514,37.7509,35.1884,40.7816,41.2412,42.4649,40.679,37.7593,29.7404,39.9296,41.8877,37.3304,44.6749,43.8973,47.6964,38.9327,44.9325,38.8871,43.6876,47.6873,38.9024,41.6338,40.6705,42.5141,39.776,33.9728,44.6927,42.7009,34.4369,40.7706,33.4361,29.7396,41.1673,35.1451,null,42.2325,38.7023,40.7371,42.0546,33.9724,42.4581,47.7467,42.1383,32.3739,34.1514,39.0388,40.8035,39.7665,34.7666,44.8346,45.7184,39.2638,40.6669,42.4081,43.3913,37.5133,37.7621,36.144,40.8317,39.4455,32.6807,41.7074,38.8852,39.0708,27.2427,39.04,32.8674,33.9728,41.1437,32.8455,40.694,42.9208,41.9185,45.458,37.8071,38.2849,39.0278,32.5449,33.369,38.9348,32.7624,41.8724,41.3004,47.6301,40.8131,39.8967,34.0699,40.7279,41.708,32.8248,31.1627,47.6633,40.5767,33.7515,40.7095,39.1951,47.1042,42.37,40.1077,32.8735,42.928,44.6592,40.8222,36.8282,40.7975,38.5814,45.9811,39.084,39.2511,26.7165,44.9609,44.9609,34.1514,42.5244,33.3436,61.2116,26.403,41.4274,26.9831,20.9071,38.2785,33.6625,37.7999,35.1868,25.7539,48.6968,40.6419,38.0973,33.811,38.9122,43.0351,47.5603,42.37,40.8496,37.5109,33.5647,40.6479,40.3339,39.1602,33.8236,30.2428,40.4608,40.6451,35.9162,47.4253,32.2733,41.7443,30.2971,40.0695,33.6968,44.0496,47.5857,39.8634,40.851,40.7661,41.151,40.7228,40.6347,40.4308,44.914,41.8267,46.3257,38.9268,29.4694,44.4975,47.6701,33.2932,40.7279,38.6184,41.8971,38.4243,35.0883,33.7643,42.7334,32.8577,33.8018,37.5109,47.3002,39.2511,39.8141,34.1121,40.7975,40.8813,33.6437,41.362,40.694,38.2222,41.2018,43.1099,41.8274,39.966,42.5414,34.0766,33.479,41.762,47.2232,41.2642,32.6628,37.7856,29.9475,27.8427,47.4995,40.444,43.329,32.6371,41.9019,39.6878,32.8674,40.6327,37.8471,39.7312,33.3474,40.6451,38.978,32.7425,39.4776,38.0174,42.3589,33.786,34.0938,42.3431,40.7402,40.0375,39.7628,37.4418,38.6239,42.5617,37.8437,37.5895,34.2846,33.8842,46.5554,40.7254,42.7003,40.6816,39.8967,33.832,39.6464,38.43,47.2632,39.2876,35.7641,37.9182,39.401,35.5376,42.9695,41.4886,35.1787,40.6379,41.7494,30.5197,40.7975,38.5257,37.5158,45.4093,41.7141,37.0313,36.0218,41.8408,42.8827,33.1101,33.8512,40.8019,39.8645,40.6794,42.8827,30.6045,42.7008,40.6281,34.1339,35.4754,41.9194,40.8261,40.3707,40.3354,35.0776,30.1223,38.0339,34.144,42.3478,35.1935,40.2194,40.5449,33.2131,29.6489,40.7012,33.5097,42.0579,45.6693,40.8292,45.5496,41.8397,42.2308,32.5475,27.9425,44.1461,39.9513,30.172,34.1662,38.5538,40.0375,38.7703,43.0488,39.8,33.5218,32.2474,37.7856,27.4125,44.6749,41.8351,34.003,34.1911,39.3402,37.2732,39.8032,43.4799,39.2891,34.5053,34.4369,45.4887,40.0091,37.4056,47.5444,34.1156,45.5742,37.0313,37.4443,38.9363,39.0237,34.0783,40.1386,44.5212,37.5101,40.8904,39.8917,48.104,36.3314,42.4162,38.9122,40.7722,31.9375,33.0535,41.5365,41.4247,45.5251,33.8702,41.1323,29.7217,41.424,40.7482,39.5584,42.2451,37.0139,39.1938,59.5374,44.9702,38.2849,40.7651,28.3022,38.7768,25.9098,43.6602,47.6339,42.1885,42.176,37.9053,33.7529,44.9034,45.484,41.4349,36.3312,42.1383,41.5569,33.1101,34.0482,42.0002,34.0766,34.8921,30.2063,41.79,42.1949,39.7224,37.6787,40.7568,35.7956,42.2822,42.4291,42.6568,38.9202,38.5117,47.9061,29.2983,38.9518,40.0091,40.7517,35.6813,30.3649,37.8931,27.1384,46.9448,35.1935,30.2238,47.6733,35.3516,36.9959,42.2826,30.449,40.6924,40.7347,45.6514,34.0898,38.1053,40.1779,39.9362,47.6339,42.7792,40.7443,40.9889,38.9115,39.4815,29.7971,40.7627,37.94,39.7327,33.8707,42.9105,40.7272,33.7619,42.1054,30.3471,29.8931,44.9384,39.6402,39.9362,42.3576,34.1145,34.0901,33.9247,37.8126,42.8161,40.67,44.3451,47.8049,33.5098,39.3385,40.6251,40.4954,41.9464,40.7313,33.7225,36.0383,25.8143,25.7672,29.1056,40.3324,34.1283,41.2553,33.9924,32.2768,41.7212,32.9682,47.7529,40.7651,32.8132,26.1158,40.6794,40.8528,41.6409,42.3478,42.3347,40.6278,45.3136,41.5648,42.1253,40.6669,27.2427,32.7002,39.9569,40.6807,32.6454,42.4656,42.3492,37.8361,37.8365,40.4173,37.4396,29.5855,37.8843,34.066,44.8872,42.5327,38.9024,38.9348,42.658,40.7618,34.6679,30.5169,37.1063,40.9305,35.9904,27.9229,42.8821,35.858,34.0481,34.066,40.7139,37.2708,32.3266,36.6165,40.7651,34.0766,33.8673,37.3893,42.4202,40.7627,37.4443,42.219,41.2999,45.3669,30.3587,43.2215,40.768,32.7272,42.2624,28.391,42.7215,40.7764,41.9399,40.6568,36.2554,40.4945,40.7975,42.5694,39.6535,40.7763,37.8961,37.2144,41.2616,40.4961,46.6131,38.6239,33.8315,40.7764,38.5538,37.9551,38.6184,36.0588,33.0304,37.8471,47.6701,35.1076,40.8662,41.9229,30.2007,39.7949,38.8935,39.7851,47.8061,44.4587,32.8479,38.4089,40.8798,45.3559,42.3479,36.2158,35.5797,34.4451,38.9024,41.6255,40.7864,38.9326,37.7864,35.3002,32.6205,33.8744,40.1073,40.1093,33.6483,29.9686,36.0671,40.8116,34.169,37.7917,40.0335,40.7152,33.7718,34.2591,35.7225,38.82,30.1204,40.0399,30.2428,45.452,33.8633,44.6749,45.3377,45.5207,40.7651,39.2645,47.6379,38.9326,45.7162,35.5335,40.7272,40.7864,41.6895,34.104,40.6669,34.4197,40.6669,32.7454,33.8896,42.2196,44.5016,41.6996,48.104,47.6633,34.106,26.9831,47.717,42.1868,35.6004,40.1109,30.6582,44.9835,42.5151,44.3346,39.0407,47.5427,35.9878,43.5115,34.1802,29.5173,34.0287,31.1759,40.2477,45.2064,34.0699,39.4072,37.4245,36.0218,40.9305,42.6227,39.3265,32.7059,33.5879,43.3034,40.7482,37.5101,41.4097,40.6794,39.8188,33.8307,39.1618,36.1067,40.7864,33.4024,37.7354,41.6211,39.9207,39.679,38.5259,36.0641,41.5569,29.8754,35.9149,38.5728,42.3489,40.7608,40.6685,41.9185,36.0671,33.1639,40.7608,34.1103,34.0531,41.2438,42.3126,35.9781,40.9031,39.6349,38.9524,29.7023,41.7817,35.58,45.6693,39.6062,22.2073,42.8499,33.9949,40.67,32.7928,43.2185,39.4455,43.7404,39.3346,29.5405,37.0313,47.3607,46.5786,42.8499,38.2691,41.1523,43.3227,44.0873,45.5287,33.8018,47.572,40.7446,30.4036,40.6251,41.2564,33.7699,40.4891,40.9674,41.8718,39.7655,30.1716,47.6849,39.7312,26.1216,33.8542,35.9631,43.0968,40.7152,34.104,34.4453,42.6191,42.3311,36.1379,34.0665,38.5538,40.6628,42.1245,40.6451,40.7262,33.6801,38.9757,41.4714,40.7221,47.5614,33.8018,38.584,39.1401,36.0869,30.2908,47.3203,37.8958,41.7628,37.6281,40.7436,41.5055,42.5617,42.2491,41.8714,45.5959,40.2464,43.6602,34.1156,35.1661,34.029,30.4036,47.2232,38.8149,42.3932,29.3509,39.2638,40.9391,43.8009,38.8933,33.8842,38.953,29.5785,33.832,44.7684,35.852,37.3515,38.9144,40.8465,37.8339,36.8645,42.4984,37.6725,35.8195,9.0,41.9543,35.22,27.6898,42.5219,37.4236,34.2353,44.484,33.7691,35.3275,47.248,34.0766,33.8544,45.6681,34.311,33.4936,31.5765,40.7221,41.8206,35.9908,42.4406,45.5483,40.7685,36.7412,41.82,44.4949,37.8961,41.8725,38.0936,34.0448,45.6892,41.181,39.0274,40.6669,40.2584,44.806,45.5287,37.7917,27.3262,37.7621,42.2939,40.6794,39.1269,41.2438,44.5391,40.291,39.2141,43.9919,37.4673,40.7402,38.0339,41.0602,27.4067,45.458,34.8211,34.1076,32.5507,35.9182,39.3173,40.7271,41.0113,44.482,37.7917,34.4291,41.9008,40.2084,38.8819,42.6885,42.2534,38.2879,37.9324,40.76,38.2671,44.7609,40.8085,38.7707,44.5904,37.7354,null,33.3105,41.8713,37.5331,45.5142,40.3316,39.4277,33.8414,41.9209,35.4311,37.7999,39.7491,38.917,40.9262,41.0602,38.2403,40.7975,40.8456,47.6116,39.9478,38.9348,37.0313,38.9381,38.8604,21.4063,40.694,29.9504,34.003,41.2616,40.982,29.7964,33.2362,38.9024,40.7228,44.9347,39.7539,40.6924,36.0119,37.5185,42.7639,32.8132,40.8222,37.8656,40.804,25.8141,41.4097,30.3659,41.7281,42.4173,40.9518,34.0658,34.0531,45.5387,37.8071,36.2738,39.0237,47.4259,43.4394,41.1673,39.0039,45.4093,35.9878,41.9543,41.5324,40.6479,40.7012,41.8721,39.7305,37.7802,29.4413,38.4096,40.1809,43.0695,42.0935,44.2941,40.9436,39.592,41.0197,33.6483,37.7999,41.995,41.7817,41.9773,40.6794,34.7269,38.7912,43.0631,27.4759,32.8132,45.0132,36.9797,35.4754,45.4147,32.7972,40.6924,42.3489,43.0183,37.3547,39.7994,40.7139,40.7375,32.8473,42.5028,45.7659,42.9737,38.8604,28.5978,39.042,41.8877,40.7372,37.8011,34.0448,33.7984,40.6816,39.9789,42.3778,21.2928,41.8167,20.9174,36.0447,34.0665,33.5507,39.9513,38.995,40.7764,40.2377,39.1951,33.6245,43.0871,42.0771,34.1767,29.9289,38.859,38.8829,39.9575,46.8224,36.1848,40.0338,42.2032,39.0142,36.1442,47.9861,40.6524,33.6315,42.0929,40.2878,30.6817,39.8647,32.8455,41.1464,45.0736,44.0915,35.05,41.8351,32.3258,37.4782,39.679,27.7941,40.0497,40.9734,39.7011,44.9138,40.4025,-12.0432,33.7817,35.6406,29.5617,34.1121,42.4406,40.7484,38.9832,47.3866,39.3064,41.9399,26.1529,47.615,33.7706,34.8285,36.2125,36.2125,39.0388,39.3746,32.7822,47.6488,27.9408,36.0662,41.5404,34.1074,42.2032,34.1802,45.5078,36.1055,42.6013,40.0547,39.21,36.8149,40.7627,47.615,38.9363,40.6669,41.3346,40.1284,42.2787,34.1145,29.9238,33.3474,33.754,38.7894,30.2971,34.1921,38.9033,40.9461,41.6948,35.9182,27.7061,42.1139,40.7776,47.5413,42.7376,40.6467,45.874,36.3054,44.1042,37.9367,40.0338,30.0739,30.4521,29.7736,40.8171,42.2694,42.1506,40.6669,40.2972,35.045,35.9162,47.0129,33.8414,47.388,41.3184,40.8011,40.8473,47.6478,42.4274,35.9815,42.7334,37.7509,43.1451,40.7036,27.7147,41.8341,45.6711,33.7074,39.7571,35.3384,38.4089,41.3484,34.1376,44.0101,39.1552,28.774,38.9202,31.8816,34.0531,42.37,39.679,42.9918,44.0185,40.0425,34.2257,47.6379,42.8091,39.0112,42.4321,33.9728,40.77,38.8415,38.9033,36.5552,28.5974,41.2701,37.5477,40.0118,42.2636,39.2208,38.0339,32.2733,46.6165,44.7208,38.9189,38.8565,41.9008,30.0211,37.0322,37.3333,41.7691,40.3828,47.6301,29.9324,40.6505,43.1095,29.7422,34.2823,36.1819,41.2927,33.7377,34.1076,43.0201,40.3849,37.7812,42.3492,47.5846,32.7887,39.9489,33.5943,36.1546,40.4284,39.2025,37.5498,39.042,40.7351,42.4527,32.3411,33.0067,41.9655,39.9474,33.9461,40.8915,43.7318,48.3643,32.7958,36.4317,42.9614,37.4443,42.3687,46.8106,32.9161,34.2583,45.4817,40.679,38.0531,35.946],\"legendgroup\":\"\",\"lon\":[-77.1538,-71.4179,-88.016,-73.9797,-96.9805,-111.8133,-117.3043,-110.7658,-85.5582,-104.8464,-122.4194,-96.6972,-72.4103,-70.893,-73.9296,-117.8229,-120.6522,-122.2281,null,7.6,-73.2199,-117.1636,-73.9903,-84.1895,-82.325,-84.4199,-73.9813,-121.08,-98.7442,-158.087,-72.9318,-71.6176,-82.3679,-73.9295,-121.4929,-122.3878,-76.6744,-119.6491,-105.3855,-71.3271,-106.9318,-118.3305,-90.4504,-84.3514,-90.4618,-70.8911,-72.7457,-116.2941,-122.6277,-122.6448,-74.9207,-71.0002,-122.2304,-93.8738,-90.4618,-122.3005,-122.8433,-77.0599,-79.9371,-74.6098,-84.1746,-93.2057,-71.0257,-71.8486,-73.9827,-85.1843,-74.0013,-119.8735,-90.0378,-88.0769,-70.8653,-122.1274,-81.6731,-75.3928,-122.4448,-122.2851,-78.8966,-115.2885,-78.6923,-74.0115,-118.2113,-86.4832,-75.1741,-82.1279,-71.1028,-86.774,-74.0329,-73.883,-73.9505,-122.4358,-86.4487,-112.3834,-104.9631,-87.7393,-95.5423,-86.1093,-122.3305,-84.6024,-122.4153,-75.1354,-73.9683,-88.1214,-114.3064,-119.9865,-118.6023,-119.6518,-74.0329,-73.7652,-93.1668,-122.478,-93.1668,-118.5265,-121.8755,-117.4365,-121.7418,-88.0205,-79.806,-117.8684,-117.6583,-121.8939,-74.4844,-84.3989,-103.2183,-71.3396,-117.9155,-122.6847,-88.4611,-83.784,-122.8276,-122.6854,-71.8687,-75.2034,-75.3255,-116.517,-76.9901,-104.7846,-87.7043,-97.7511,-82.8079,-73.9498,-108.0183,-118.1391,-115.2801,-73.9436,-73.9638,-76.6545,-80.3111,-122.5039,-121.6438,-74.0167,-105.2392,-83.0669,-118.3955,-70.8911,-84.8457,-86.1386,-86.5023,-76.1284,-117.0986,-122.4946,-74.2575,-84.3549,-122.1894,-71.1787,-90.0378,-76.7531,-84.4278,-79.9831,-74.7429,-71.1566,-117.1593,-96.7692,-117.9682,-83.1537,-121.8755,-97.715,-71.04,-71.1028,-91.5669,-87.7309,-81.6968,-73.1482,-83.1366,-93.2552,-117.0707,-74.0469,-89.6907,-74.2656,-73.7845,-77.4636,-111.7022,-74.9162,-97.4733,-96.6773,-105.9821,-74.6408,-97.7078,-81.8018,-76.2143,-87.7043,-87.6578,-90.506,-82.8692,-122.1972,-71.5302,-85.6663,-71.2501,-89.996,-73.2171,-121.4073,-121.9887,-75.276,-74.2575,-118.372,-74.0054,-97.5199,-70.2363,-73.8297,-72.9302,-83.3332,-79.8805,-84.1194,-118.9358,-85.9896,-70.3063,-122.4358,-124.094,-73.9644,-118.4603,-82.7815,-71.6176,-118.4324,-88.2063,-73.9828,-90.8213,-79.9739,-82.2209,-70.6105,-93.4875,-72.5676,-93.1872,-118.4298,-122.2968,-73.9184,-72.9357,-75.5882,-83.404,-117.7869,-119.6833,-81.7398,-87.6779,-121.3698,-122.8276,-79.9319,-74.3604,-80.1517,-78.5611,-119.0433,-118.4408,-84.3808,-121.4057,-118.4298,-70.6217,-74.4064,-121.8113,-118.4298,-75.0664,-73.9683,-94.4529,-73.796,-75.1794,-82.3679,-76.6546,-73.883,-111.8506,-86.7502,-95.4341,-94.5743,-90.3225,-77.4421,-73.9498,-78.9178,-74.0413,-77.3832,-73.9659,-77.398,-122.4186,-83.1616,-83.078,-117.4119,-122.8433,-77.2142,-96.6773,-96.39,-73.9892,-84.3339,-75.6904,-75.2342,-86.6117,-89.9457,-114.0223,-80.2277,-98.4554,-117.0402,-83.3632,-116.3081,-74.0184,-76.9901,-97.2891,-71.3574,-118.4502,-76.9895,-82.3678,-84.8607,-74.0498,-105.0686,-122.296,-116.1649,-71.1115,-73.0007,-71.0721,-73.9828,-85.3238,-74.0389,-153.3751,-96.0716,-71.2084,-90.0739,-82.352,-71.1115,-122.3104,-121.6894,-122.7347,-73.7812,-71.1087,-122.3772,-122.2652,-119.7194,-90.3747,-122.648,-105.1915,-77.1022,-122.3643,-106.7099,-83.6507,-86.5543,-80.8272,-77.0375,-73.9764,-87.9792,-80.0233,-93.7604,-71.4255,-121.4366,-116.9596,-83.1789,-121.3693,-73.735,-89.3831,-121.2366,-77.074,-75.1593,-82.325,-90.4942,-71.1773,-87.656,-82.518,-76.4966,-77.0007,-73.9781,-73.965,-93.0297,-106.4932,-73.9436,-122.186,-83.7115,-87.7398,-82.4423,-73.9967,-121.9229,-118.4322,-71.1087,-121.8939,-71.0929,-118.2646,-77.0177,-123.9049,-75.2865,-71.1773,-82.3985,-121.4451,-122.6364,-118.1192,-79.0372,-106.8236,-74.0668,-122.3739,-108.011,-77.4878,-73.8538,-118.9866,-84.654,-89.9034,-121.9153,-75.1563,-71.4877,-73.883,-73.9507,-74.0014,-83.784,-122.433,-77.1538,-106.8828,-111.9883,-73.3496,-121.7934,-80.1534,-122.5363,-86.8735,-81.9256,-96.7397,-104.7735,-118.582,-95.5405,-72.5811,-119.8612,-73.9335,-70.1993,-84.5704,-122.5372,-122.4413,-84.0262,-79.0999,-97.8508,-122.4413,-117.9155,-73.9436,-82.7001,-115.0404,-70.8847,-86.869,-74.0258,-73.2317,-73.9546,-88.2036,-77.1395,-81.6951,-122.3447,-74.0054,-74.4873,-85.6536,-80.077,-73.9798,-81.7065,-74.112,-82.3125,-123.0545,-82.5565,-81.7473,-118.3996,-73.9764,-114.0265,-118.0889,-75.1794,-73.6907,-72.9852,-80.7476,-70.8868,-121.1648,-73.2241,-72.4064,-76.8644,-85.6213,-122.3056,-118.5265,-122.4186,-122.0894,-89.9457,-77.3854,-95.5201,-73.9858,-73.6951,-73.6076,-122.3339,-87.6578,-122.7793,-77.0599,-73.7951,-80.9997,-121.9849,-122.6251,-73.9967,-122.1966,-78.9478,-77.0177,-110.7393,-74.0498,-117.7813,-97.6284,-77.3948,-81.6443,-121.9155,-122.6854,-74.2568,-73.9996,-122.088,-74.4575,-73.9345,-88.3976,-97.8575,-122.4892,-73.8602,-74.6962,-84.5244,-117.7086,-76.7972,null,-122.1819,-116.8535,-74.1131,-90.0046,-77.0203,-87.7535,-121.1529,-71.5178,-97.4768,-73.9563,-123.1198,-81.6951,-82.4334,-122.7074,-87.9073,-97.0446,-122.8567,-122.7144,-75.3121,-95.0393,-123.846,-82.6897,-74.8536,-117.5999,-76.5937,-80.5075,-95.9409,-117.8417,-121.5297,-97.8326,-86.6072,-122.1619,-92.3529,-113.5581,-71.4282,-80.0649,-117.4589,-72.3559,11.8484,-70.7525,-74.1792,-73.9529,-73.9683,-122.1966,-77.3163,-97.1755,-112.0556,-96.4005,-71.0375,-73.2,-73.9657,-121.7562,-71.1256,-82.8014,-74.0054,-72.6923,-119.7285,-111.9349,-69.9822,-75.5962,-73.957,-117.7564,-82.3985,-73.9069,-83.606,-73.9683,-80.8419,-82.7106,-88.4554,-118.1391,-72.6928,-71.013,-122.5105,-74.006,-73.9996,-91.5016,-118.6023,-73.2166,-122.1403,-81.7146,-88.7135,-81.426,-122.4892,-83.5268,-73.9738,-91.6612,-79.8206,-84.336,-122.8652,-122.7631,-97.9007,-87.7024,-122.2564,-76.5761,-80.1387,-87.1872,-71.6606,-72.4646,-119.9219,-123.0152,-123.0445,-119.6159,-77.2515,-83.408,-121.9554,-117.3166,-118.1192,-84.3351,-70.9003,-95.5985,-111.8892,-122.2855,-122.2604,-80.1741,-78.6988,-86.724,-105.5847,-82.5152,-86.1164,-82.2755,-119.8612,-73.9892,-82.5006,-122.4153,-80.0692,-77.1538,-73.9345,-77.1922,-76.4966,-77.0592,-75.2288,-139.5505,-106.3016,-73.9447,-71.123,-122.1864,-90.1695,-74.2659,-82.9244,-70.7652,-81.3955,-73.955,-73.5435,-87.6779,-73.5166,-105.2851,-72.9318,-73.9892,-104.9108,-72.5972,-97.6827,-72.9318,-73.8593,-74.4023,-73.8473,-118.6641,-87.536,-122.275,-84.6031,-73.9644,-80.8718,-106.7991,-73.9511,-122.478,-71.3519,-122.4619,-76.4966,-122.4153,-95.7025,-87.2757,-105.0493,-105.2143,-73.9529,-73.9903,-122.2223,-73.735,-76.2235,-73.9683,-95.6066,-121.5391,-118.503,-121.8896,-73.9295,-122.7074,-118.3788,-105.0109,-112.0474,-76.6748,-122.1198,-74.9839,-71.1612,-74.0323,-70.1585,-96.6938,-110.82,-84.3808,-112.0827,-118.1357,-71.6595,-76.7531,-76.491,-122.0349,-122.4358,-96.8777,-77.1802,-83.3805,-118.2594,-119.7764,-118.474,-122.3426,-73.7123,-71.0912,-122.5339,-73.9221,-122.3964,-74.4017,-97.1524,-72.7706,-97.403,-89.3831,-74.1589,-122.743,-122.4153,-78.8714,-122.9222,-70.7416,-77.1073,-82.5303,-94.7752,-120.1729,-70.0932,-80.1219,-78.3837,-73.7181,-72.3813,-88.2788,-73.8602,-117.2674,-77.0599,-86.2153,-118.3022,-73.9925,-84.1498,-122.478,-84.3883,-108.0827,-75.8865,-91.1919,-104.9631,-122.3225,-122.3005,-84.502,-84.336,-134.5294,-123.3997,-118.0357,-76.6224,-75.3044,-123.2829,-121.9816,-118.3305,-77.4494,-87.6694,-118.235,-77.3163,-73.9426,-89.9034,-105.0963,-90.3628,-74.2428,-107.8617,-93.1258,-74.2466,-77.436,-68.6165,-105.9821,-117.2252,-122.4153,-118.0808,-122.6777,-118.2266,-93.3424,-96.6307,-90.1005,-73.9877,-77.1022,-122.2648,-83.9965,-122.862,-122.171,-72.5093,-80.2696,-74.0083,-122.088,-118.1636,-72.3366,-122.1274,-78.4074,-73.895,-124.1573,-117.1402,-119.301,-122.1258,-73.8373,-73.9563,-96.6336,-106.5749,-77.0814,-123.2512,-76.6368,-151.1358,-81.357,-69.8057,-81.2056,-115.2644,-71.1221,-96.3123,-75.1315,-86.1238,-77.204,-117.9321,-73.9912,-78.5381,-74.6118,-86.5083,-121.488,-88.2005,-121.9522,-81.8725,-117.7865,-122.3476,-122.6084,-73.9683,-122.3594,-71.2267,-86.9639,-78.0112,-75.3888,-75.3338,-75.0634,-70.2589,-122.4358,-70.2876,-77.0375,-75.3747,-87.95,-78.5611,-87.7166,-70.7163,-111.6549,-75.0518,-122.6423,-117.5182,-70.3532,-122.6842,-103.3589,-83.2536,-77.0036,-118.2385,-77.4616,-95.4118,-122.1232,-122.3772,-77.0322,-92.466,-73.9764,-71.4583,-118.4119,-122.6363,-86.6609,-117.07,-122.7945,-122.1403,-73.3202,-120.5163,-73.8622,-73.911,-117.0489,-75.4227,-93.4481,-73.6828,-117.3757,-90.3241,-80.0177,-74.4346,-118.1677,-122.321,-82.4918,-73.957,-71.9541,-121.9849,-77.335,-87.6865,-70.0186,-73.9764,-71.2513,-76.5312,-122.7996,-83.6336,-94.5959,-75.155,-71.1256,-90.1094,-110.9855,-98.4554,-122.87,-69.4334,-104.9661,-75.1524,-76.9901,-71.0682,-74.3017,-77.0203,-73.823,-74.5397,-77.7342,-72.8921,-84.1695,-81.2066,-118.9358,-74.0303,-74.5065,-95.4695,-79.8399,-85.6548,-106.6427,-88.0793,-95.6802,-122.2314,-119.8612,-122.5973,-73.9903,-77.2142,-93.2828,-81.4644,-95.6201,-120.6817,-75.3737,-73.9529,-76.5644,-122.2431,-73.6907,null,-77.068,-122.6365,-122.3676,-80.307,-118.182,-73.9644,-118.3059,-75.3106,-122.7033,-95.6201,-77.5197,-104.8377,-98.6857,-75.0309,-81.5232,-97.1131,-72.8222,-84.3448,-115.1167,-122.4186,-118.3865,-80.0107,-95.0998,-74.1589,-83.2133,-84.3068,-86.8926,-88.137,-122.5837,-90.0487,-73.9644,-121.4675,-73.4383,-71.3186,-83.5386,-117.1272,-73.955,-78.7941,-118.3913,-121.8957,-73.9563,-78.8656,-96.3351,-110.9768,-81.4694,-71.1566,-73.9498,-81.5386,-96.0904,-122.2475,-122.6896,-73.9367,-73.6758,-122.3019,-118.7351,-122.5362,-88.0176,-82.3599,-73.1603,-88.0086,-122.433,-74.4873,-70.9612,-79.9537,-73.9707,-106.7991,-73.6539,-80.2248,-88.5758,-117.2433,-122.5855,-74.5605,-82.0111,-97.4577,-74.0469,-80.1071,-122.1864,-83.4448,-122.0107,-70.8475,-97.4923,-70.8997,-73.4383,-122.3056,-87.5005,-75.6993,-80.3426,-71.0682,-84.6244,-105.1624,-86.1595,-122.7627,-71.5788,-95.4985,-104.8464,-122.2304,-71.6176,-87.5682,-80.1668,-122.4413,-73.5445,-77.0312,-93.6092,-84.4454,-74.0754,-106.6206,-75.6029,-123.8842,-82.5254,-122.7347,-74.066,-122.7473,-122.27,-117.5938,-118.4502,-122.2223,-105.8688,-74.9036,-91.0842,-73.9827,-117.3622,-82.5067,-75.2799,-78.9478,-73.9511,-122.4637,-75.076,-74.7262,-79.89,-88.9972,-105.1915,-84.8476,-77.555,-74.2656,-118.2944,-122.5973,-96.8353,-74.9555,-76.7922,-82.6078,-80.2609,-90.0852,-119.8612,-75.2966,-96.9993,-71.0717,-120.6464,-118.1929,-73.9239,-82.5101,-122.6934,-73.9996,-122.3426,-88.0503,-122.5485,-122.648,-71.3907,-73.6477,-119.6159,-82.054,-73.9903,-73.955,-97.4841,-71.1042,-121.4698,-114.1404,-77.5266,-73.9827,-122.1274,-118.1929,-83.583,-88.1282,-68.5063,-76.0766,-84.3761,-122.1274,-72.7186,-73.9798,-81.4404,-84.3883,-112.2072,-122.296,-73.9796,-104.0848,-116.517,-121.7758,-122.2668,-79.6759,-87.9792,-71.4282,-121.5297,-86.1181,-73.9781,-77.0793,-122.4186,-86.2738,-73.9858,-122.2637,-73.9798,-84.8204,-88.2203,-87.0395,-122.3342,-122.2749,-118.4408,-89.3693,null,-118.4882,-74.0025,-118.3029,-86.1241,-85.6885,-71.731,-93.7447,-72.6928,-122.3612,-97.7828,-96.9057,-84.3448,-111.0431,-81.7146,-75.6398,-104.9691,-74.0041,-122.6958,-124.1593,-81.4828,-119.8612,14.2693,-80.0144,-74.0195,-85.6083,-77.4588,-116.2951,-122.275,-121.2132,-122.6842,-122.5339,-73.2485,-122.0386,-73.4973,-73.4716,-73.7776,-83.9,-73.6594,-111.8226,-74.1092,-71.0836,-82.37,-87.9317,-74.0526,-118.3528,-108.5727,-73.08,-84.4892,-95.9734,-117.6581,-88.2705,-90.3393,-121.8052,-93.0875,-122.599,-74.2928,-117.2689,-83.6835,-73.9496,-82.5491,-73.1277,-105.0676,-74.0025,-77.168,-122.3003,-121.9554,-73.9511,-73.4944,-69.9953,-122.2002,-80.2978,-83.1537,-105.1097,-74.2297,-110.9739,-71.0375,-95.9393,-84.592,-83.717,-71.3747,-73.9884,-73.9948,-87.7042,-82.9105,-115.2861,-73.4853,-82.381,-80.2264,-119.7078,-121.3599,-75.1735,-121.1698,-79.6144,-73.6595,-87.6943,-79.8655,-118.1753,-76.5588,-76.3671,-94.5929,-93.9855,-74.0119,-87.7043,-97.5323,-86.4783,-86.8926,-93.2552,-73.9764,-80.2916,-87.8521,-87.7042,-73.8207,-118.2961,-112.9584,-80.2978,-73.9903,-111.8931,-73.9912,-77.1153,-73.996,-91.5159,-74.0329,-122.3342,-76.2235,-123.0998,-122.3676,-121.6894,-121.4834,-118.474,-123.0074,-121.068,-110.8314,-119.2982,-118.1261,-73.6594,-73.4944,-82.9644,-73.9657,-117.6238,-122.2067,-110.9179,-74.0927,-76.6224,-111.2686,-118.3995,-95.4118,-77.068,-76.6321,-77.0148,-99.5923,-77.2532,-122.2281,-70.5969,-76.592,-72.179,-80.1153,-89.2227,-77.0338,-87.6689,-122.5714,-79.4732,-79.0999,-72.1601,-75.1593,-88.0494,-73.0906,-76.2844,-121.8902,-111.881,-71.123,-80.8164,-84.7373,-71.2265,-71.2167,-72.6968,-83.1225,-86.5023,-122.2804,-122.092,-105.2771,-122.4836,-87.8248,-72.6968,-122.1162,-73.9798,-75.0607,-117.7467,-74.174,-77.082,-73.9781,-111.9349,-85.1459,-118.5535,-117.3694,-86.7837,-77.6062,-95.8079,-117.0986,-89.4893,-86.8699,-111.0431,-75.1262,-84.4619,-121.3769,-121.9881,-75.6642,-122.5212,-77.5618,-122.0618,-96.7843,-119.8327,-82.6078,-114.0027,-77.1458,-71.4427,-73.9216,-117.2689,-122.0497,-122.8424,-84.3549,-122.2109,-122.3612,-86.6072,-118.5391,-73.965,-156.969,-122.5212,-75.0634,-73.9983,-121.8939,-122.2431,-122.3686,-74.2871,-71.3772,-91.4274,-91.5016,-93.3188,-122.2532,-111.8258,-121.8508,-97.7468,-93.5728,-122.088,-72.7457,-122.7631,-93.391,-73.5929,-122.433,-73.491,-73.7255,-84.2401,-118.3305,-122.4413,-93.9811,-87.9287,-73.4578,-73.9918,-82.5433,-82.4724,-75.6647,-84.4764,-75.1735,-98.5755,-75.0325,-90.0135,-118.5261,-75.0634,-83.1366,-85.8046,-78.6563,-94.5722,-72.2899,-73.7552,-73.9588,-122.2968,-73.8473,-120.5907,-77.1477,-76.3107,-97.7609,-106.2676,-73.466,-112.238,-71.3559,-122.3305,-70.9478,-88.0138,-117.7865,-74.0014,-73.8924,-84.5282,-86.7268,-122.2968,-81.8618,-95.9393,-122.2182,-119.9031,-80.8272,-73.6798,-74.4179,-89.0361,-71.4348,-96.2431,-122.3225,-116.2797,-77.086,-71.0929,-73.0493,-95.4903,-91.7382,-122.4153,-119.7526,-85.6727,-72.5811,-79.008,-111.8867,-77.0504,-73.9666,-118.3009,-77.0997,-122.5362,-84.42,-91.5159,-95.4903,-121.068,-118.4635,-75.2594,-92.3724,-82.0372,-74.0498,-82.6386,-73.9827,-73.9772,-112.0893,-79.0372,-117.185,-117.7708,-73.9764,-94.5722,-73.9827,-79.9493,-70.741,-76.1339,-91.6352,-87.6857,-117.3043,-122.3426,-121.8088,-76.9022,-122.5837,-73.9638,-118.2636,-90.2185,-73.8602,-86.8082,-83.0669,-78.8264,-71.1042,-117.7564,-81.9523,-70.8759,-73.9588,-73.9758,-84.1123,-74.0133,-80.3069,-86.8006,-121.6202,-106.0225,-96.7452,-74.0329,-122.2968,-122.4444,-97.7195,-118.3305,-73.955,-111.7791,-73.9858,-73.9683,-84.3048,-76.242,-82.7063,-122.4836,-71.1329,-74.0054,-73.9828,-75.2288,-78.8182,-72.4059,-70.44,-81.5839,-77.0339,-74.6272,-87.7474,-72.5783,-83.3332,-122.2968,-79.9493,-118.1341,-93.0107,-93.3373,-95.5803,-78.4425,-117.1402,-75.2555,-122.0238,-87.6126,-90.1236,-105.0962,-122.6309,-73.9666,-83.1475,-116.4225,-122.1271,-122.4147,-82.5152,-88.3098,-78.6393,-122.2972,-76.7531,-92.0074,-72.5576,-118.148,-118.1392,-121.9226,-111.8133,-115.2242,-117.3389,-79.0914,-122.0582,-73.9758,-82.7404,-71.9202,-73.2171,-118.4868,-91.4877,-73.9827,-104.9988,-118.0883,-73.9798,-90.4942,-78.4298,-73.9496,-77.6054,-95.5476,-122.0574,-76.7324,-118.3941,-96.8318,-119.9114,-81.2188,-84.4092,-105.0109,-84.3851,-89.7816,-73.7968,-118.4298,-147.5105,-73.9758,-73.9498,-83.7282,-95.3625,-73.8111,-118.4408,-122.2443,-84.7373,-81.4165,-122.7074,-77.12,-90.0852,-76.8135,-75.2115,-118.0857,-120.7107,-70.6721,-71.1338,-119.7589,-92.3639,-122.4816,-118.2554,-83.4714,-86.7077,-119.5272,-122.2223,-73.9764,-81.4165,-92.7271,-71.2747,-73.9666,-80.4771,-84.3808,-97.7396,-105.0028,-122.6374,-118.2636,-118.4119,-122.1552,-122.25,-75.1741,-94.2976,-121.5194,-105.3402,-73.9634,-95.6358,-118.148,-115.1718,-117.2403,-122.4124,-73.9967,-73.9877,-81.6968,-122.7787,-123.0614,-77.6921,-122.2637,-77.168,-111.9554,-75.6747,-118.3493,-122.4413,-80.438,-111.9565,-81.9943,-122.433,-90.292,-122.2159,-80.8509,-99.402,-74.2512,-85.6953,-124.1984,-118.4259,-73.0822,-76.9376,-107.8214,-122.2104,-118.3215,-75.0417,-93.2214,-122.6913,-80.4085,-110.8314,-73.911,-121.9834,-84.4092,-122.8088,-73.243,-85.4845,-88.2854,-104.8799,-105.2851,-71.0953,-74.6272,-71.7292,-79.244,-88.1009,-73.539,-85.0234,-116.2797,-73.4973,-121.488,-73.9917,-77.4588,-97.6849,-86.2767,-117.2193,-122.5973,-73.9546,-85.1455,-118.1391,-97.4733,-74.5013,-80.8449,-73.9877,-75.0818,-76.6224,-81.7417,-72.5349,-73.9069,-122.3129,-117.3795,-87.6624,-93.2886,-118.0051,-76.8135,-82.3756,-76.3671,-121.8755,-123.1007,-74.0413,-84.1633,-75.3999,-89.4993,-118.3996,-73.9546,-116.4967,-73.9546,-117.9085,-82.3493,-76.6427,-117.2689,-117.249,-87.6528,-77.0444,-75.2799,-73.9827,-79.0557,-90.0875,-73.3167,-75.3106,-78.9004,-121.1529,-115.2885,-87.7877,-73.8297,-121.9834,-73.9588,-71.1256,-111.7096,-93.2522,-82.9105,-73.957,-72.4563,-80.1201,-73.9563,-122.5351,-84.6544,null,-73.7571,-104.9504,-88.1845,-118.2646,-97.8203,-111.6789,-82.3151,-77.0177,-121.8939,-72.6411,-77.0599,-73.8353,-71.1565,-73.9781,-74.0395,-118.474,-76.8644,-77.1895,-95.0513,-89.8708,-71.1338,-122.402,-75.1747,-118.4119,-122.2564,-73.4532,-87.6689,-77.0076,-71.0682,-122.6423,-112.0578,-118.2925,-95.4288,-86.8059,-122.1497,-74.6528,-104.8464,-118.9124,-97.6868,-80.1167,-122.8821,-73.841,-122.4124,-119.8016,-117.3389,-122.1258,-81.3528,-82.7765,-74.5605,-71.5213,-122.25,-84.0725,-122.2855,-80.1201,-73.7552,-73.2241,-88.4478,-71.3224,-94.8013,-81.3454,-122.3739,-118.3411,-96.7524,-89.8053,-75.0905,-82.3932,-122.6842,-75.5083,-157.8759,-106.6206,-115.3183,-72.8106,-118.2266,-116.5048,-98.4554,-77.0338,-73.9496,-117.3757,-122.3878,-97.9427,-73.9367,-77.2649,-73.8924,-94.7143,-122.2472,-118.4408,-73.4358,-87.862,-71.9155,-70.9367,-118.1811,-84.3448,-118.6159,-105.0963,-76.0874,-95.5066,-123.1198,-122.2637,-73.9828,-122.538,-72.7296,-73.9498,-78.602,-77.0282,-95.6681,-82.5303,-93.6719,-82.2095,-73.957,-124.1984,-104.9717,-122.599,-122.3886,-97.7166,-78.6877,-71.1028,-116.3398,-86.1245,-97.1193,-71.2315,-121.9849,-121.9554,-122.7627,-90.3225,-89.6767,-83.1366,-122.3763,-117.794,-75.1479,-104.8987,-114.1404,-87.6779,-71.2084,-81.7972,-73.6828,-84.4204,-116.868,-107.2044,-122.4696,-69.0824,-78.4085,-121.9999,-87.6277,-73.92,-87.9452,-77.4616,-121.3693,-86.2433,-93.094,-73.9563,-117.1402,-89.8036,-87.941,-87.6223,-93.2818,-83.784,-111.3228,-72.7532,-121.9881,-86.869,-75.3215,-122.3892,-76.8435,-73.9511,-77.1395,-77.0322,-88.646,-77.1538,-87.6373,-81.3627,-122.353,-74.8168,-123.1818,-82.9968,-122.2564,-75.875,-113.8645,-118.3913,-71.1441,-73.9983,-118.4005,-74.6272,-81.0066,-75.6747,-76.5835,-117.8437,-82.4578,-121.7709,-122.6363,-112.3659,-73.8621,-83.4695,-73.8961,-122.5407,-88.1282,-96.7843,-96.8825,-74.4064,-122.433,-77.0177,-84.2632,-89.3831,-73.9828,-76.6048,-78.7481,-122.8276,-77.9189,-122.7267,-73.9828,-97.0808,-122.8743,-122.2443,-74.0329,-73.9764,-94.2224,-73.9644,-92.3639,-121.8169,-122.7793,-112.1086,-122.0717,-75.6484,-72.8012,-121.5091,-122.2091,-72.597,-95.998,-121.5391,-73.9563,-122.555,-122.7074,-97.6789,-157.8615,-78.8656,-108.6519,-97.4969,-90.206,-111.6789,-74.829,-121.8896,-86.7502,-73.945,-73.1796,-97.4798,-80.7669,-94.5929,-71.1028,-73.9683,-74.0025,-122.3934,-122.4094,-80.2013,-117.1593,-73.6262,-98.4554,-77.168,-73.9892,-98.4071,-157.7552,-97.7658,-75.1616,-73.9546,-73.9496,-73.7049,-71.2501,-83.5224,-77.4267,-73.9828,-76.423,-94.5743,-122.2761,-76.9895,-88.0138,-122.453,-122.6365,-73.9563,-82.6964,-84.287,-76.8788,-117.1804,-77.4421,-77.1538,-73.918,-87.6336,-73.7939,-106.1166,-79.6864,-73.9588,-80.3757,-70.9167,-121.4073,-114.1784,-73.5929,-117.292,-122.6393,-73.9796,-73.9967,-80.794,-75.6653,-122.5132,-88.0429,-72.5772,-117.6964,-73.3745,-73.5349,-111.7745,-118.3913,-76.994,-105.1076,-119.9031,-118.2646,-122.4789,-95.3923,-75.3507,-122.1864,-122.2002,-68.8667,-117.1593,-111.9489,-107.2044,-122.3225,-74.5369,-121.849,-73.7924,-75.7151,-73.9827,-73.9467,-122.538,-104.9631,-80.7881,-73.796,-122.6364,-121.4073,-120.8447,-73.2199,-97.7967,-118.1547,-73.9498,-74.4266,-80.3025,-81.5061,-122.8073,-92.9293,-76.451,-82.7765,-87.7043,-122.7945,-83.0796,-85.4682,-86.2673,-103.6541,-71.4741,-75.1563,-74.1565,-122.1258,-122.1894,-84.3761,-106.2577,-73.0104,-112.0305,-118.4907,-118.3172,-77.0599,-80.2753,-72.2955,-76.4156,-155.0939,-88.0769,-83.0604,-70.2589,-94.9339,-96.0495,-99.4823,-118.3832,-77.3948,-80.1054,-94.5929,-121.887,-74.3035,-118.3865,-74.0025,-75.224,-149.1406,-95.379,-93.6181,-97.472,-77.5555,-122.7227,-73.957,-74.0469,-73.9216,-88.4554,-87.8465,-74.9555,-95.9408,-76.3633,-93.374,-117.7813,-97.6421,-83.6629,-74.0603,-79.0999,-77.1153,-89.6324,-73.4944,-74.0054,-87.9287,-76.3015,-123.0753,-77.3527,-122.0862,-96.7872,-80.1337,-93.1651,-69.9722,-77.398,-122.5001,-73.7114,-87.805,-96.7041,-111.9554,-111.9883,-122.3276,-71.1565,-83.3546,-82.8726,-122.4079,-84.6477,-77.2818,-85.8045,-88.137,-83.4719,-71.0771,-74.0379,-122.4836,-72.5385,-104.6278,-89.1101,-83.7068,-90.3747,-122.6309,-118.5374,-118.474,-76.0019,-122.27,-96.5616,-95.5423,-123.075,-116.2524,-76.9895,-75.4894,-73.8602,-74.0469,-85.2182,-72.9318,-96.5544,-80.6739,-71.1566,-83.3119,-122.2804,-96.7291,-73.9892,-76.6899,-71.1221,-107.8617,-73.7951,-88.3976,-87.805,-93.1216,-71.2731,-76.6553,-117.7813,-75.1735,-123.0947,-77.0592,-77.335,-111.8632,-75.9833,-90.4256,-75.9376,-122.433,-78.8408,-121.6501,-118.4322,-122.2223,-115.3261,-71.3329,-71.4255,-82.1051,-118.3305,-79.8202,-81.3421,-73.9529,-84.359,-118.1392,-76.1,-105.1328,-122.3447,-83.078,-106.6169,-77.1022,-95.4903,-73.9496,-94.5938,-87.6779,-83.3819,-75.8903,-82.5433,-78.9364,-111.8892,-122.2443,-75.3838,-77.4588,-122.4358,-88.2294,-84.4232,-71.4121,-81.4314,-121.3345,-73.7877,-111.2734,-97.2069,-73.9827,-84.8973,-78.6841,-73.911,-81.7625,-122.429,-73.9903,-118.372,-73.8299,-94.9714,-71.0465,-121.6894,-77.8862,-93.6719,-71.1565,-73.9996,-71.0768,-71.4377,-84.5717,-72.9552,-90.5739,-122.2383,-117.1698,-71.5302,-76.9969,-122.5318,-122.3003,-86.6609,-72.4464,-75.1747,-121.9999,-79.8206,-119.8016,-71.4583,-74.4873,-157.8759,-122.3003,-71.8414,-73.9149,-78.6563,-89.2227,-88.0935,-97.8335,-81.044,-86.4181,-72.8515,-71.8031,-122.4448,-77.6344,-77.0599,-73.9644,-149.9361,-93.1409,-73.8712,-111.1439,-118.2594,-73.9903,-73.9781,-80.1391,-81.4644,-122.1274,-86.4831,-75.0175,-122.0349,-105.6086,-118.4487,-77.418,-77.4267,-84.3514,-73.763,-84.4787,-82.6264,-111.7242,-83.3632,-120.6509,-73.9764,-95.26,-118.3493,-81.7182,-77.1204,-87.7043,-90.5358,-122.4448,-75.6515,-71.3067,-94.6169,-73.9644,-86.8913,-77.0657,-107.2044,-72.233,-76.798,-90.8507,-72.5232,-76.3107,-92.7271,-122.2968,-105.156,-107.8214,-77.0282,-93.7028,-122.743,-77.1538,-73.9758,-117.0189,-118.4487,-74.1146,-104.8023,-87.2167,-122.3005,-118.3941,-97.8203,-122.2402,-118.4717,-74.7259,-122.6363,-81.4828,-70.7613,-73.9507,7.6,-70.2363,-74.0054,-94.4338,-123.5006,-110.9222,-111.8153,-122.3056,11.5475,-122.4001,-74.6536,-122.2109,-117.2016,-119.1293,-87.6624,-111.9198,-122.4153,-74.2819,-80.1578,-71.1028,-73.9892,-157.6985,-118.4924,-118.6159,-117.0721,-73.9069,-118.3941,-80.056,-73.8593,-122.5711,-70.2589,-111.8404,-122.4892,-93.1727,-76.6546,-122.0862,-78.8389,-119.6833,-79.9959,-76.9132,-114.3039,-87.9845,-97.596,-72.5123,-118.4502,-122.2604,-73.9575,-122.1198,-87.6629,-77.1395,-70.8128,-71.0682,-84.679,-73.5811,-117.6868,-77.5092,-74.1556,-123.2799,-70.6961,-97.8414,-74.2416,-118.4758,-82.5067,-95.4118,-78.5799,-73.5808,-118.0121,-73.9644,-118.1547,-73.6683,-77.2822,-118.2716,-122.3772,-122.3476,-78.6841,-76.9901,-73.965,-81.3349,-78.7106,-69.0767,-76.5644,-74.066,-76.5935,-73.9216,-122.8433,-121.922,-78.219,-97.7472,-79.9959,-85.0138,-87.5256,-122.3772,-94.0959,-80.1387,-77.5197,-121.8949,-84.5433,-122.4186,-122.9285,-95.4985,-81.4126,-78.8179,-77.3832,-93.1651,-76.3107,-85.3082,-93.4389,-122.3686,-117.1402,-111.7467,-118.3305,-93.2553,-71.6881,-95.3923,-96.7921,-84.336,-93.3373,-83.0187,-76.6048,-117.1213,-121.5391,-73.2713,-70.2649,-76.61,-114.4693,-80.8167,-86.7697,-122.0002,-80.4188,-73.9644,-84.5212,-105.926,-86.8219,-73.9877,-81.5323,-104.9686,-122.4644,-122.0775,-105.3402,-75.1741,-79.9319,-112.037,-118.4322,-74.1038,-76.9901,-77.9429,-85.6173,-78.6324,-72.8515,-87.7246,-117.4146,-73.9892,-83.9152,-74.0303,-122.3426,-97.7316,-87.7246,-73.8514,-122.4614,-83.1383,-121.3445,-71.1115,-71.7838,-78.5744,-80.2926,-73.8538,-78.6841,-122.599,-76.2262,-116.785,-87.1872,-85.1459,-106.7041,-78.6877,-135.3166,-77.1484,-73.9813,-122.2648,-90.4942,-104.9661,-118.2266,-83.8883,-88.2294,-118.1491,-122.2383,-87.6336,-96.3648,-118.6641,-87.5256,-75.1735,-95.4054,-117.8845,-117.7084,-86.1595,-71.1042,-73.9274,-74.9533,-88.2955,-76.994,-71.056,-70.9197,-84.4454,-73.7058,-118.6641,-85.8784,-74.2011,-84.3883,-73.9426,-73.9511,-73.9498,-122.3056,-117.2028,-91.2764,null,-94.7767,-70.358,-81.5516,-77.1706,-122.4153,-87.6528,-77.2515,-82.882,-97.8225,-119.2565,-69.7665,-77.7802,-122.7074,-122.7347,-118.1515,-87.7042,-122.4142,-93.2862,-122.2072,-73.9983,-116.5681,-77.0203,-82.7208,-87.7474,-76.9901,-73.9884,-81.2902,-122.3971,-73.9813,-82.3499,-111.5481,-74.3047,-82.568,-118.3652,-74.3682,-78.9178,-77.6652,-71.1338,-118.4408,-97.7648,-122.6147,-77.0529,-96.3171,-107.0385,-79.1726,-101.8795,-104.9227,-122.4887,-71.1341,-86.4692,-87.6578,-73.4853,-83.974,-97.7526,-80.256,-73.3257,-122.7267,-116.4306,-74.6,-73.1923,-77.3242,-80.3197,-73.9858,-74.3202,-73.8585,-84.4633,-114.0027,-77.0036,-83.6342,-118.1636,-76.7769,-118.3343,-122.6832,-118.503,-71.4616,-85.5621,-73.7739,-82.9103,-121.2692,-73.9498,-111.8931,-105.8189,-71.4377,-88.311,-121.344,-73.9798,-73.9149,-119.3553,-73.8074,-73.6602,-78.1877,-73.4383,-73.9216,-91.3763,-73.9967,-73.9644,-81.8018,-84.2216,-73.8736,-155.1974,-81.3421,-108.781,-80.006,-77.4772,-121.9887,-122.4126,-84.5251,-86.3869,-84.4989,-111.8593,-104.8646,-71.1338,-71.6242,-73.9644,-86.1426,-118.4525,-118.0505,-72.8987,-82.2446,-122.0717,-73.9563,-73.7299,-118.4733,-122.9636,-73.4011,-106.5222,-70.2625,-71.6075,-123.5158,-97.2179,-75.1473,-73.9903,-110.824,-118.3995,-83.7068,-85.8046,-75.1866,-118.6,-122.4644,-74.1192,-80.2714,-121.4877,-122.693,-83.2495,-93.2683,-72.6236,-73.7845,-122.2443,-70.8759,-90.2564,-84.1695,-74.066,-105.801,-73.9498,-73.9903,-117.9155,-76.61,-73.5272,-120.0736,-71.4483,-149.9361,-73.8597,-76.5931,-71.1221,-73.8739,-92.3639,-81.5232,-71.1341,-75.3883,-111.9197,-117.7183,-72.4926,-74.4017,-106.3896,-98.6857,-75.0664,-73.9764,-75.2242,-90.6787,-79.3235,-157.8615,-117.3795,-73.9884,-73.9967,-121.3287,-70.0722,-75.0724,-74.0469,-122.8743,-73.9511,-90.0378,-72.2428,-86.068,-73.9529,-96.6938,-73.894,-83.631,-107.8617,-76.9895,-118.2082,-122.2281,-122.2402,-116.3381,-71.1565,-122.8652,-83.2536,-122.478,-83.1561,-74.2011,-74.3202,-69.9955,-122.2429,-76.1446,-106.6482,-111.7506,-74.459,-78.6317,-68.7918,-73.7715,-96.0003,-74.2466,-86.2738,-76.8017,-84.1413,-80.1775,-73.9511,-71.1221,-79.3969,-72.4649,-90.3776,-118.1341,-93.1889,-97.7956,-147.7164,-104.8542,-73.8621,-122.4358,-73.9764,-104.8199,-88.9972,-82.4046,-149.3959,-71.0768,-73.883,-76.5375,-122.4342,-123.4675,-80.2978,-95.3562,-73.9496,-74.2055,-122.4413,-118.1929,-76.7324,-73.9221,-75.2288,-101.8871,-74.4179,-71.1115,-118.2051,-71.1574,-110.9466,-87.6223,-95.5201,-122.6847,-111.0431,-97.7472,-122.2304,-122.2674,-88.1282,-87.95,-114.7825,-73.9764,-92.3049,-71.109,-75.2955,-78.8966,-77.4421,-116.2797,-74.0329,-77.0177,-76.5577,-73.3223,-122.2653,-118.3029,-75.3459,-78.4085,-74.0634,-76.2878,-97.8203,-85.5751,-71.123,-118.1261,-112.0044,-104.835,-118.4635,-78.8966,-96.819,-78.8408,-73.9588,-89.3831,-76.4664,-73.7552,-71.0241,-94.5405,-122.862,-75.1025,-87.7043,-84.7736,-70.2876,-122.2851,-98.4445,null,-81.3508,-122.0775,-94.793,-122.9289,-93.8984,-75.1747,-122.4887,-83.2359,-121.5516,-117.8224,-73.2701,-94.9339,-122.6155,-74.3015,-95.3923,-80.4188,-118.582,-77.3083,-75.1563,-71.252,-94.3571,-75.2288,-69.0767,-77.5495,-121.8208,-118.3492,-72.3441,-73.7009,-95.4118,-110.9222,-96.826,-119.0899,-71.4255,-73.9758,-122.693,-73.638,-118.5175,-88.9893,-73.9265,-88.2063,-122.862,-73.1131,-83.1837,-88.2705,-75.7397,-89.3133,-78.8764,-97.403,-96.0901,-104.9946,-82.1971,-90.2544,-117.9265,-71.4282,-117.9155,-71.1752,-74.3589,-87.7042,-105.5847,-83.1537,-118.4298,-117.1272,-105.0341,-122.2486,-75.0634,-122.3934,-73.8373,-82.2902,-79.0999,-70.5339,-87.7535,-74.0208,-93.158,-119.7285,-71.3959,-88.6632,-96.7285,-93.6083,-73.4102,-104.8799,-111.7237,-118.0955,-121.975,-85.6663,-111.789,-73.9511,-76.4941,-118.1357,-90.1005,-117.1636,-86.3903,-73.9638,-104.9218,-80.3025,-71.1042,-73.5024,-122.3426,-73.7571,-73.9903,-93.158,-73.8226,-70.9543,-113.3675,-77.0322,-83.784,-84.3958,-68.358,-70.0932,-74.0014,-117.8169,-117.6375,-78.6317,-122.2674,-117.9321,-71.467,-111.8581,-111.0419,-73.9764,-89.224,-112.1776,-81.2995,-81.722,-80.1054,-74.4482,-74.0668,-77.5197,-121.084,-117.2157,-75.3349,-83.1749,-90.3342,-76.4966,-86.7655,-105.651,-73.9274,-73.3634,-117.7869,-73.6594,-73.9828,-87.6336,-96.7572,-98.4554,-122.257,-71.2195,-93.0969,-122.1119,-76.9722,-74.1131,-157.9652,-71.1875,-97.9824,-79.944,-82.5646,-112.0213,-70.9277,-72.5202,-121.9881,-92.107,-98.6137,-115.1789,-95.242,-73.9511,-93.485,-85.9077,-119.6802,-75.2796,-155.9798,-95.198,-73.3309,-87.3126,-118.0101,-73.7559,-104.7394,-71.6176,-87.7042,-122.2475,-82.9105,-103.9176,-73.1305,-75.2594,-105.1055,-106.3016,-74.0526,-116.2191,-74.6408,-122.4887,-83.2769,-84.3998,-83.5687,-118.5175,-71.1574,-122.296,-76.9895,-122.5212,-80.3592,-76.0172,-69.0824,-122.4459,-81.2194,-124.1332,-77.068,-117.2268,-78.9178,-122.0381,-85.6206,-73.9996,-75.1262,-73.9781,-84.3189,-111.831,-87.7042,-118.3029,-75.5885,-90.3264,-74.0208,-118.4298,-73.9531,-118.9358,-85.7265,-118.3442,-94.1308,-71.5132,-77.4366,-82.7367,-73.9588,-84.0761,-73.9828,-81.4126,-78.8763,-73.9657,-73.863,-86.3163,-73.6539,-73.9345,-73.9827,-118.3022,-122.6364,-82.7996,-95.037,-73.0611,-81.5903,-79.9235,-86.2123,-113.0619,-93.4865,-111.8727,-73.9216,-85.0594,-77.082,-72.7032,-82.3189,-115.3183,-76.8891,-89.8482,-97.4577,-85.1191,-79.1755,-92.0497,-76.6224,-82.7063,-76.3107,-82.4518,-80.3572,-96.6411,-95.4118,-122.3276,-121.9676,-82.7939,-149.8761,-86.1655,-78.474,-118.3989,-111.8931,-94.0083,-122.2604,-71.2731,-122.2968,-80.3426,-120.6509,-118.4717,-75.2565,-121.7036,-90.2495,null,-73.9903,-93.4126,-121.4929,-120.1729,-76.1465,-80.2926,-74.4064,-122.3772,-88.1246,-77.4421,-75.1262,-77.0282,-81.154,-122.3056,-91.5669,-122.4091,-122.2243,-80.2723,-122.321,-110.2047,-73.9529,-80.3627,-75.3999,-76.9901,-79.9395,-77.2925,-80.8577,-122.5711,-86.1245,-104.6278,-93.7152,-74.8835,-104.9557,-76.6048,-75.5274,-116.4927,-85.5994,-81.6996,-86.7909,-71.5768,-116.3514,-71.0988,-75.6993,-105.1328,-77.0203,-82.4841,-77.4369,-105.2143,-96.1661,-118.3556,-95.8222,-118.4298,-75.3044,-74.0469,-76.6375,-73.9531,-77.0931,-77.5646,-92.4053,-94.4534,-80.1391,-110.7393,-105.9821,-117.9063,-88.9883,-73.9967,-82.5646,-104.8994,-106.6169,-71.848,-104.853,-73.5684,-73.9436,-73.9666,127.8588,-94.5699,-87.6223,-77.4421,-118.0808,-77.3242,-83.7015,-122.6365,-117.2348,-74.5863,-71.4545,-84.5719,-77.2649,-73.9827,-73.8473,-80.1821,-104.9631,-77.082,-122.6365,-73.6888,-122.2474,-122.3276,-82.8027,-122.1258,-82.098,-84.3761,-97.1314,-155.9798,-117.7054,-95.472,-119.6859,-105.0345,-122.2075,-93.5359,-77.0749,-73.9511,-89.9584,-80.2973,-121.9849,-75.0664,-111.7188,-122.2281,-122.4358,-105.1097,-77.1538,-73.9644,-76.3153,-73.883,-94.0088,-94.793,-81.6321,-91.5151,-81.9452,-112.238,-97.6673,-73.9546,-73.9707,-122.1728,-70.8868,-73.9211,-121.3406,-117.2243,-80.0703,-74.4346,-73.9758,-118.4907,-118.4065,-121.2555,-121.7687,-120.6638,-80.2745,-77.0177,-71.0771,-94.1284,-81.0095,-97.4841,-110.9466,-156.6772,-122.3426,-122.8166,-99.4907,-95.242,-105.3855,-96.5394,-82.4724,-121.3698,-121.1896,-80.1896,-122.433,-75.3888,-91.0596,-74.0054,-77.0203,-73.2438,-86.0829,-118.2646,-118.2925,-72.3086,-92.4835,-118.1636,-73.4973,-86.724,-76.5935,-96.9598,-73.9563,-73.9546,-111.8581,-72.7268,-85.0739,-88.6281,-85.7255,-91.6612,-118.3991,-122.0238,-84.3883,-71.0052,-74.0109,-82.3499,-73.9798,-77.6054,-75.1473,-85.1465,-78.4924,-86.6072,-73.8299,-74.7896,-122.4413,-122.0006,-104.9661,-155.799,-77.1204,-118.372,-117.9373,-122.4091,-77.1022,-77.7608,-117.7934,-122.6251,-123.0545,-93.4724,-80.8565,-94.7767,-78.4074,-81.4421,-122.321,-87.6779,-123.7991,-86.8006,-105.5747,-77.9928,-117.2689,-71.7205,-122.7074,-117.249,-72.179,-97.9404,-122.3005,-80.2974,-118.5175,-117.7467,-75.3459,-122.2443,-95.9409,-122.6147,-83.2519,-74.2677,-101.9247,-83.874,-73.8625,-122.4358,-77.9403,-71.4877,-121.4073,-69.7891,-111.5481,-73.9996,-123.6272,-87.6528,-80.2714,-73.9563,-86.8788,-120.9966,-73.6097,-80.2248,-118.1266,-77.0203,-73.9903,-122.7267,-73.9216,-87.5855,-89.1324,-72.8106,-81.3627,-117.0221,-117.6231,-88.2138,-117.2115,-77.1895,-118.9866,-77.8926,-73.6907,-111.2878,-71.0717,-87.6604,-83.1225,-122.6423,-76.4899,-122.5837,-119.2849,-105.801,-77.0599,-87.6528,-75.3474,-82.9895,-85.633,-77.5646,-111.9349,-77.0932,-71.1589,-84.4232,-105.1039,-73.9498,-96.6938,-91.8259,-75.2288,-72.5202,-91.5906,-97.5323,-77.2515,-122.5372,-79.8995,-77.6921,-78.8978,-83.8217,-111.662,-104.6982,-87.6624,-87.0803,-73.8143,-73.9067,-71.6176,-94.5103,-122.6155,-80.1625,-87.7157,-75.5064,-85.5582,-91.2314,-81.8071,-73.4973,-73.9588,-78.7051,-72.1084,-73.8593,-74.5874,-82.3679,-72.7296,-121.7935,-77.0177,-82.7563,-87.9599,-82.659,-73.7715,-122.4079,-122.6448,-74.1792,-117.4041,-122.4614,-73.957,-122.1614,-120.4894,-97.7658,-122.088,-106.62,-79.1596,-73.9798,-75.3295,-117.9729,-78.7481,-92.3565,-118.1677,-106.2676,-79.0372,-122.4448,-97.7166,-106.6683,-76.4132,-117.249,-77.0896,-74.1922,-81.3122,-74.2789,-85.9621,-76.9895,-122.4153,-122.2674,-118.4924,-122.7776,-81.0883,-89.2227,-76.6802,-96.8777,-70.9425,-121.2344,-70.1987,-97.9669,-124.0765,-82.4584,-116.2797,-73.9546,-94.1148,-71.3588,-123.963,-77.9141,-74.9555,-77.3418,-118.1859,-122.1258,-97.4577,-119.3065,-122.7323,-122.0263,-116.973,-122.1162,-121.9834,-78.6563,-84.3859,-73.9644,-86.5673,-80.1081,-96.7475,-71.0768,-75.1563,-121.7571,-75.2975,-122.092,-78.1739,-86.9163,-118.4324,-73.883,-73.7009,-122.7048,-122.321,-73.911,-73.5948,-121.9887,-95.3208,-73.9764,-122.0717,-78.8966,-75.151,-122.4843,-121.6365,-118.3442,-104.7541,-81.343,-79.9443,-80.3224,-119.8025,-122.6913,-70.2625,-122.2329,-122.1119,-97.7323,-84.4853,-122.4124,-86.1951,-71.0339,-105.5747,-122.862,-84.0856,-73.9345,null,-122.7347,-74.5105,-86.5083,-77.0375,-122.4383,-96.6189,-80.0144,-118.3411,-118.4733,-111.8931,-76.61,-78.8547,-122.87,-122.6365,-73.9758,-118.3254,-73.9758,-87.859,-116.3975,-122.2674,-117.2268,-118.3073,-118.1929,-87.7042,-83.992,-70.2625,-117.07,-73.841,-73.9511,-117.0898,-71.474,-80.2013,-122.2972,-97.8414,-93.0964,-112.1202,-73.7944,-122.0549,-97.4733,-116.8131,-73.638,-97.3409,-73.8152,-94.1,-87.8417,-118.4259,-117.185,-122.4388,-117.2521,-76.9924,-117.8169,-106.931,-122.0053,2.3488,-121.7418,-104.7045,-76.6393,-87.7166,-77.2649,-77.086,-74.1121,-117.3009,-90.0006,-122.2182,-90.3225,-86.2104,-80.1218,-122.648,-121.4073,-122.032,-117.2433,-122.4643,-78.707,-122.8433,-122.2359,-162.5981,-110.9855,-73.9053,-121.3075,-96.7435,-117.7564,-71.1123,-77.4351,-74.006,-78.7112,-72.9318,-76.3564,-104.9661,-84.3859,-77.064,-105.0581,-72.8613,-76.5367,-73.9798,-85.5367,-92.0497,-69.1139,-116.2797,-70.9003,-87.7042,-81.4694,-80.1741,-96.7524,-122.9634,-122.4153,-79.4732,-73.9511,-77.0011,-90.6829,-73.9644,-122.4836,-95.5589,-122.196,-73.6945,-121.7913,-93.2578,-69.9779,-117.4399,-77.0322,-93.088,-77.0932,-70.2876,-122.3772,-76.9901,-80.1488,-73.894,-85.4067,-75.6889,-118.4276,-73.466,-88.5462,-119.7285,-73.9265,-117.6231,-95.446,-73.8538,-82.9191,null,-83.6336,-90.3644,-111.8258,-87.6943,-81.2359,-71.0632,-122.3686,-77.0475,-90.1293,-118.4603,-77.1922,-74.1891,-105.0204,-92.2629,-91.5159,-123.9351,-84.4092,-73.9828,-83.0583,-87.9568,-77.5646,-122.3971,-80.2376,-73.9738,-104.853,-117.1698,-87.9756,-77.3233,-84.5212,-82.4751,-77.0444,-79.8049,-118.4276,-72.2879,-117.2521,-73.9903,-108.5913,-71.8968,-122.7074,-122.2851,-122.4696,-94.6558,-93.7038,-117.229,-92.3639,-117.1242,-88.1123,-73.6479,-122.2972,-74.2165,-75.3474,-118.3492,-74.2656,-83.7068,-96.7498,-98.7309,-122.3022,-122.2398,-118.367,-73.9563,-106.8236,-122.87,-71.1773,-75.2796,-84.896,-85.5483,-74.9681,-73.9217,-76.0237,-73.9683,-90.2625,-94.3604,-77.0613,-107.2044,-80.0679,-93.2642,-93.2642,-118.4603,-113.7931,-112.1716,-149.8761,-80.1813,-75.6465,-80.108,-156.3,-85.594,-117.5903,-122.4342,-106.6652,-80.2253,-122.9055,-74.3868,-122.5837,-117.8493,-77.0177,-108.2024,-122.2281,-71.1773,-73.9356,-77.6429,-111.8931,-74.3451,-74.7944,-84.3098,-84.3214,-97.7658,-80.0348,-73.945,-79.0999,-120.3273,-110.7658,-71.3175,-97.8181,-76.7332,-111.8892,-92.4896,-122.0345,-105.1724,-96.711,-89.645,-73.4944,-74.3015,-105.1488,-79.9205,-93.4481,-90.5237,-119.3067,-104.8464,-95.3503,-88.0324,-122.3763,-86.768,-74.2656,-122.862,-87.6223,-121.437,-89.8053,-116.4225,-78.8389,-117.2115,-116.517,-77.6429,-122.6084,-107.2044,-105.1177,-118.2594,-73.9683,-73.1591,-117.6868,-72.9361,-73.9903,-85.6885,-73.4383,-76.187,-71.52,-75.151,-75.5274,-118.2646,-112.3947,-87.5703,-122.4465,-89.225,-80.528,-122.4358,-81.5264,-82.6448,-122.3603,-86.9237,-73.6818,-117.0676,-87.6779,-86.6703,-79.8049,-106.9318,-122.2223,-104.9129,-105.651,-73.945,-77.082,-117.2433,-86.4668,-84.4854,-71.3001,-84.3514,-117.856,-71.123,-73.9996,-105.2771,-86.5343,-77.0436,-121.3837,-87.8301,-122.1242,-122.0497,-119.2222,-84.3761,-95.7644,-73.5166,-73.8575,-73.9798,-75.3474,-84.3851,-84.1717,-122.0168,-122.4993,-76.5568,-78.7786,-122.0717,-76.451,-82.7001,-77.5781,-74.2163,-106.5102,-74.3682,-71.4084,-83.8925,-73.9683,-76.9865,-77.5047,-122.6847,-71.3901,-122.1198,-78.9478,-69.9849,-73.1923,-117.07,-118.1457,-73.9531,-82.624,-73.9496,-73.1923,-96.3123,-84.549,-73.9467,-118.2082,-120.6638,-88.307,-73.8196,-74.0084,-74.0413,-106.1872,-81.3627,-78.4924,-118.0014,-71.1566,-80.8272,-76.1626,-74.3517,-117.2243,-82.325,-73.9436,-112.0678,-73.9025,-111.0431,-74.1121,-122.6743,-88.0887,-88.3324,-85.4682,-82.5057,-70.3399,-75.1741,-97.8784,-109.9869,-121.7418,-105.2771,-121.3372,-88.0015,-89.6495,-111.9049,-110.9491,-122.4358,-82.659,-93.2578,-71.3971,-118.4298,-80.9758,-84.3998,-76.7324,-121.8673,-110.7624,-86.7789,-112.6855,-119.7285,-122.5091,-76.3671,-122.0775,-122.3735,-118.3305,-122.6842,-122.1198,-122.1497,-77.0599,-104.6933,-118.2113,-75.2022,-89.5588,-122.4734,-74.4415,-80.1795,-122.7945,-119.6491,-71.1752,-77.0177,-73.7454,-102.3944,-117.2689,-86.9013,-105.4781,-85.0062,-81.5505,-73.4058,-95.8977,-73.4716,-74.0498,-80.9818,-85.7943,-121.5773,-96.5858,-151.2356,-93.3047,-122.4696,-73.9638,-82.6264,-76.0758,-80.3889,-70.2898,-122.3476,-122.693,-73.6571,-122.0549,-112.0893,-93.374,-122.5973,-82.7063,-92.3753,-77.0475,-72.6652,-117.07,-118.3343,-70.8448,-118.2646,-82.4002,-97.7956,-72.7457,-83.4854,-121.8113,-122.478,-96.6523,-78.7941,-71.4339,-71.0605,-73.7605,-77.0375,-77.9928,-122.5655,-94.793,-77.0203,-76.3671,-73.9707,-78.5975,-97.6827,-78.3386,-82.4518,-116.9141,-80.8272,-95.3577,-122.3426,-81.0959,-122.0578,-71.8277,-97.9669,-73.9666,-73.723,-122.6604,-118.3215,-122.2474,-105.1009,-75.1563,-122.3476,-71.1095,-73.9781,-111.8938,-121.08,-75.6832,-95.4958,-73.9149,-122.362,-104.9717,-118.3715,-87.8646,-73.9498,-118.1341,-87.7535,-97.7609,-98.6857,-93.2214,-84.0824,-75.1563,-71.0684,-118.1929,-118.4065,-117.5517,-122.2443,-73.9398,-73.9367,-72.7798,-122.2855,-112.4135,-120.1729,-74.0303,-111.9444,-87.7042,-73.9892,-116.377,-78.8764,-80.2051,-80.2059,-82.098,-74.5688,-117.2087,-73.5402,-117.3694,-95.3031,-93.5682,-96.7942,-122.0582,-73.9638,-96.8142,-80.3681,-74.0014,-98.0201,-70.8896,-71.1566,-71.0375,-75.3928,-93.5814,-70.6217,-71.1074,-73.9828,-82.4751,-97.3789,-82.9644,-73.4444,-85.3783,-83.3638,-71.0768,-122.2637,-122.2804,-74.6938,-122.1864,-98.4071,-122.4637,-118.474,-72.953,-71.0339,-76.9901,-92.3639,-70.6194,-73.9505,-86.5603,-86.4822,-122.105,-72.2707,-77.8468,-82.8393,-88.3451,-84.1194,-118.5265,-118.474,-74.007,-122.2807,-94.596,-93.2418,-73.9858,-118.2646,-84.7699,-122.0783,-71.1565,-73.9149,-122.1497,-71.5302,-73.7924,-122.648,-95.6857,-85.5452,-81.4119,-117.2268,-85.6096,-80.787,-78.9327,-73.9827,-87.6528,-111.8904,-94.1308,-89.6518,-73.9683,-70.9425,-105.0376,-73.9529,-122.1119,-121.8574,-95.8251,-105.0002,-112.0213,-121.3837,-118.1811,-73.9827,-121.7418,-121.2041,-122.862,-115.3104,-96.8777,-122.2223,-122.3763,-89.9457,-73.9221,-87.6483,-85.8136,-75.6161,-77.2532,-86.1595,-122.3724,-93.1668,-96.974,-122.7339,-73.9067,-84.9133,-72.2253,-115.0671,-97.4691,-119.2565,-76.9901,-86.2433,-73.9764,-77.1706,-122.3892,-114.2215,-94.2001,-117.8543,-88.2788,-83.1146,-117.9155,-90.0646,-80.3025,-73.955,-118.3442,-122.4186,-76.2844,-73.9877,-84.3757,-83.7716,-78.8408,-77.0589,-97.7433,-75.3459,-97.7658,-122.7893,-98.534,-93.2578,-122.57,-122.6888,-73.9638,-76.6224,-122.3643,-77.1706,-122.6899,-105.926,-73.9498,-73.9764,-81.3421,-118.2925,-73.9828,-119.7078,-73.9828,-117.1272,-118.3996,-88.2426,-74.9327,-87.6628,-122.7945,-122.3022,-84.5117,-80.108,-122.3015,-71.2033,-82.4918,-74.9378,-96.3351,-93.2683,-70.9003,-73.098,-76.6819,-122.5871,-115.1167,-71.8691,-118.4324,-95.0963,-118.4924,-97.2852,-83.3622,-93.6593,-118.3492,-76.6038,-122.296,-78.9478,-72.2707,-88.6277,-76.6048,-117.0524,-111.8404,-88.0029,-74.0498,-122.4734,-73.5992,-73.9496,-75.5064,-118.3832,-76.6297,-86.7743,-73.9764,-110.7892,-122.4571,-71.089,-75.1595,-104.9631,-105.9978,-86.7697,-72.6652,-97.9404,-81.5398,-121.4675,-71.0465,-73.9295,-73.5536,-71.8968,-80.3025,-117.3009,-73.9295,-81.1966,-118.3806,-85.8508,-71.1115,-78.8439,-74.0955,-75.6993,-76.491,-95.4611,-124.1332,-78.7908,-111.0431,-84.1695,-159.3954,-73.7851,-118.3991,-73.9367,-116.9665,-71.5277,-104.853,-72.3016,-91.1962,-95.3208,-122.1198,-122.6001,-87.4545,-73.7851,-121.3,-96.0371,-91.7939,-123.3671,-122.6363,-116.517,-94.8013,-73.9345,-97.7526,-74.0303,-73.2111,-84.295,-74.4482,-72.554,-72.8577,-89.7293,-95.4985,-122.2968,-104.9129,-80.1288,-83.408,-78.9315,-124.4037,-73.9877,-118.2925,-119.8025,-74.0555,-88.2955,-86.741,-118.3022,-121.7418,-73.9546,-72.4464,-73.945,-73.9796,-117.9085,-77.0282,-81.5839,-74.0469,-122.1552,-116.517,-76.8942,-84.8658,-84.1897,-81.6321,-122.3117,-122.5339,-72.7268,-77.3395,-73.9216,-72.9081,-87.8301,-70.9978,-73.4578,-122.3104,-75.1354,-70.2898,-118.3305,-120.4651,-118.3152,-97.7526,-122.4465,-77.121,-71.1338,-98.113,-84.4092,-73.8353,-70.175,-89.4052,-84.3761,-77.2295,-95.6066,-84.3851,-91.2856,-78.6841,-79.9052,-77.074,-73.841,-122.165,-76.3004,-70.8653,-106.6125,-105.9886,-79.75,-87.6575,-80.7881,-80.3757,-83.2519,-122.1619,-118.5188,-73.2199,-117.8855,-118.9839,-122.629,-118.2646,-117.7858,-111.2404,-93.1872,-111.9167,-97.1786,-74.0469,-71.4443,-95.8143,-76.4966,-122.8276,-73.9588,-108.1797,-71.4158,-73.1874,-122.1119,-87.7877,-78.5611,-118.2434,-122.6616,-95.9909,-94.2087,-73.9828,-75.9833,-93.1409,-122.6363,-122.4186,-82.4724,-122.3971,-71.532,-73.9496,-84.4853,-85.8508,-72.9258,-76.8203,-76.8788,-73.1716,-122.1388,-73.9996,-122.5855,-73.5445,-82.39,-122.7074,-97.5998,-118.6023,-93.5657,-79.0035,-123.7739,-74.1563,-73.8413,-88.0205,-122.4186,-119.6833,-87.6528,-74.8291,-94.5205,-83.0548,-77.7893,-104.5848,-121.6894,-111.8627,-122.0357,-93.2753,-73.9198,-77.4494,-123.2722,-122.4571,null,-111.8239,-87.6277,-122.2486,-122.6364,-76.3976,-76.3055,-116.5347,-87.7043,-105.9409,-122.4342,-104.9946,-119.9865,-72.652,-73.5445,-122.6777,-73.9683,-74.5725,-122.3056,-74.9036,-92.3639,-122.1198,-77.086,-77.2649,-157.7448,-73.9903,-90.1236,-118.4298,-95.8251,-74.1131,-81.2649,-96.7954,-76.9901,-74.3015,-93.1651,-74.996,-73.9666,-115.0433,-77.1486,-78.7518,-96.8142,-73.988,-122.2851,-74.2055,-80.3549,-73.5992,-86.2458,-74.5201,-71.1087,-73.8852,-118.0853,-118.3806,-122.9636,-122.2851,-94.2183,-104.6933,-122.4644,-76.4613,-73.8538,-77.3083,-122.6847,-115.1167,-87.6575,-81.415,-74.3451,-73.9436,-87.6578,-105.1915,-79.987,-98.4793,-82.369,-75.2156,-77.5141,-71.4058,-68.2849,-72.9913,-105.1328,-73.8074,-117.9155,-122.4342,-70.741,-124.1332,-70.9723,-74.0014,-86.5673,-77.0814,-89.3133,-82.6167,-96.8142,-93.0297,-121.8902,-120.6638,-122.7227,-117.1708,-73.9666,-71.0465,-78.9591,-122.0862,-75.5317,-74.007,-73.9813,-117.2742,-83.1887,-87.089,-85.7265,-77.2649,-81.3534,-77.6054,-73.6945,-111.8581,-122.2104,-118.2434,-84.3883,-73.9798,-105.1456,-71.0627,-157.7552,-74.1311,-156.6772,-95.8079,-118.3022,-79.0528,-75.1741,-92.3112,-73.9827,-74.7821,-106.8236,-117.794,-75.2315,-76.0118,-118.6159,-90.1005,-77.0997,-76.9895,-86.023,-114.0265,-86.6002,-75.1731,-70.7525,-77.5285,-95.9734,-122.7883,-111.5018,-112.052,-72.5274,-74.0162,-88.2945,-86.1181,-117.2521,-81.5107,-93.138,-121.4073,-87.1522,-71.3971,-90.8507,-77.5854,-104.9631,-97.403,-105.2143,-73.6907,-75.7375,-93.485,-78.2558,-77.0282,-117.9766,-120.7003,-95.2721,-118.2594,-76.4966,-73.9967,-77.0007,-122.2109,-76.6393,-87.6528,-81.7417,-122.1663,-118.182,-82.3516,-86.7257,-86.7257,-77.1922,-76.8002,-97.4969,-122.3964,-82.242,-86.9639,-73.8979,-118.3652,-70.7525,-118.4324,-122.6897,-83.946,-72.6236,-75.1866,-84.395,-119.7106,-73.9149,-122.1663,-77.0599,-73.9828,-73.6951,-83.4587,-71.1589,-118.1929,-98.3788,-105.651,-117.7919,-77.2818,-97.8181,-118.235,-77.1263,-73.8669,-87.7038,-79.0035,-97.3537,-88.0429,-111.8749,-122.3129,-84.6244,-73.957,-92.3227,-86.6072,-69.8211,-122.5362,-75.1731,-95.6201,-97.7688,-95.4034,-73.7416,-83.7282,-76.0551,-73.9828,-111.6705,-85.2965,-79.0999,-122.8763,-116.5347,-122.1932,-72.9318,-73.9371,-96.6289,-122.538,-82.9002,-78.5392,-78.8389,-122.4153,-95.1457,-73.8961,-82.3538,-72.5576,-121.5391,-117.7054,-75.5635,-119.0627,-122.7339,-72.9117,-117.5999,-69.8984,-123.1951,-81.6439,-77.0375,-102.0134,-118.3806,-71.1773,-104.9631,-89.0209,-123.0998,-82.9689,-77.9447,-122.3643,-73.8693,-76.6802,-71.455,-118.4276,-98.379,-77.0905,-77.1263,-121.9233,-81.3036,-72.9638,-77.3948,-75.1861,-88.1333,-84.6418,-122.5855,-110.7658,-120.7094,-68.6165,-104.7045,-77.0592,-87.6528,-94.1157,-80.4353,-77.6343,-72.701,-74.6096,-122.2972,-90.0739,-73.9349,-88.4862,-95.4903,-88.6715,-85.4408,-72.4563,-78.9787,-118.6023,-71.5697,-105.0916,-122.4614,-71.2267,-122.3005,-96.7676,-75.1661,-117.8334,-86.8602,-74.4064,-119.7526,-77.4588,-77.6054,-73.8776,-76.0395,-90.3229,-117.069,-70.8046,-75.1473,-83.418,-74.0119,-116.2797,-122.1403,-117.0707,-105.5747,-73.2166,-122.1497,-71.0836,-92.0767,-117.1402,-118.5914,-122.4156,-73.9644,-78.3396,-84.0235],\"marker\":{\"color\":\"#000000\",\"symbol\":\"circle\"},\"mode\":\"markers\",\"name\":\"\",\"showlegend\":false,\"type\":\"scattergeo\"},{\"geo\":\"geo\",\"hovertemplate\":\"lat=%{lat}<br>lon=%{lon}<extra></extra>\",\"lat\":[40.4109,32.392,41.1025,31.5105,35.0726,43.612,40.6018,35.1663,33.8428,61.1535,42.2694,36.0595,34.4698,44.2773,38.9033,39.7945,35.5971,33.9461,33.7865,39.3664,33.4737,39.7656,30.2907,35.3039,39.4015,41.6983,30.3904,30.085,39.5303,47.6115,37.8571,40.6693,45.7753,42.5444,39.1401,43.6322,26.3626,42.3489,40.0172,27.4547,47.5754,41.1668,42.3478,25.9337,30.6582,42.9499,34.1862,44.484,42.3647,35.5127,26.6281,32.9657,35.7641,33.8098,42.0188,40.1073,33.2414,32.7976,35.22,35.0292,36.6434,41.9209,32.6315,39.1539,36.5107,27.9781,41.4816,30.5118,39.0237,33.9659,39.9569,43.2185,26.3033,33.8241,27.7061,33.6801,32.9968,37.6875,41.3917,28.1963,39.6841,29.2012,28.8989,33.2285,39.6956,41.5855,42.3275,33.9416,46.8551,35.9112,34.0705,31.7677,40.6747,38.4081,41.6763,42.1108,33.1605,44.0185,37.9678,38.2671,46.8564,36.052,43.0356,43.0128,42.5429,40.5384,26.1216,35.3427,30.4487,41.0977,32.723,39.4461,37.5176,36.8236,33.868,29.6954,33.7671,32.8794,35.2449,33.2522,34.1652,32.7649,42.9659,42.3524,44.482,36.0334,34.8661,39.632,33.4124,26.1831,40.3352,41.7691,37.674,33.7399,35.9878,34.4222,25.9098,35.7576,36.0036,26.0229,21.3117,29.7991,42.6159,38.4096,33.6773,34.7448,44.8481,39.8647,33.9583,33.6951,32.8479,42.229,30.2787,34.1062,40.7482,36.3107,41.5454,21.4063,42.2736,21.4228,39.1375,46.2109,42.556,31.0065,28.0946,35.9924,47.024,39.998,30.322,28.014,39.6888,40.0766,42.6797,27.5569,32.3244,36.0588,41.0846,42.5274,33.0532,37.7885,42.4217,34.7519,33.7619,41.4361,34.0766,38.2674,42.6315,33.5159,32.8926,38.37,43.1637,36.6849,48.0656,42.4173,28.1331,35.0821,37.3302,33.4707,32.8154,25.6574,43.082,44.9835,25.9924,33.6144,30.6474,37.6236,41.3286,36.5802,41.1788,33.9377,35.8456,33.5631,43.1962,33.7226,41.7662,26.2534,42.7717,36.1337,41.6127,41.3184,41.3507,30.0071,40.7864,40.7597,40.0724,41.5372,37.058,36.8529,40.5124,35.2204,32.853,36.2583,27.0997,41.1222,43.7404,37.7957,29.1605,33.2072,31.9375,41.1894,35.5806,38.8865,47.1043,41.2919,34.0316,30.1775,40.2972,28.4317,38.9575,34.2351,28.0168,33.8018,34.6019,30.1949,34.151,25.9924,30.4873,40.7132,39.9597,33.56,40.4237,33.025,34.0812,26.2288,29.9212,29.1372,27.2889,27.2889,43.6876,41.5944,41.6907,41.8206,40.2607,38.2843,26.9152,42.7242,35.8887,34.1376,40.3351,40.6278,39.6412,46.2522,37.5498,33.9455,37.2503,44.0032,42.3185,38.7609,42.3668,38.5762,43.4047,38.7023,44.914,27.8427,44.9039,36.6011,40.7776,29.7026,34.1426,32.7969,37.7725,37.2144,33.7691,34.4197,37.3483,34.4336,36.9721,34.9535,38.4089,27.2866,31.989,33.7669,41.3914,36.6217,47.6633,27.7901,32.4589,34.2656,42.5254,43.4775,41.6255,42.4567,34.8939,47.6294,36.1835,37.1136,38.5855,44.8965,27.7954,41.0692,42.5592,40.4397,37.3502,42.9722,47.2484,30.4874,28.0081,33.5217,33.3665,39.9015,34.1774,41.708,39.0553,33.8106,40.2418,32.2733,36.064,33.2722,32.2768,43.0871,38.1582,45.7162,27.6898,34.4802,36.8282,36.3551,31.5765,41.2639,38.9518,44.3451,42.5149,34.0653,40.6916,39.9245,37.7038,39.7994,33.6634,27.981,42.245,46.6165,40.9177,43.1544,41.1257],\"legendgroup\":\"\",\"lon\":[-74.238,-99.7746,-81.5386,-84.3087,-106.5749,-71.7507,-75.5225,-101.8868,-117.9546,-149.8289,-83.7282,-86.6592,-117.1927,-88.3976,-77.1263,-105.0984,-82.5565,-83.418,-84.4454,-74.4317,-82.0131,-104.7069,-97.7648,-119.1056,-76.6019,-70.3001,-91.0021,-94.2607,-76.3153,-122.1162,-122.25,-75.3349,-108.6519,-83.2133,-86.5083,-116.2052,-81.8183,-71.0465,-105.2851,-82.5359,-122.6958,-73.2163,-71.1566,-97.5174,-96.3351,-78.8599,-118.3009,-73.2199,-71.1042,-82.8413,-82.0182,-96.8825,-78.7786,-116.4665,-91.6612,-88.2788,-111.7745,-79.9493,-80.7881,-85.3068,-76.242,-87.7043,-116.9408,-84.3854,-87.2757,-82.7815,-81.7018,-96.3171,-104.6933,-80.9355,-82.9644,-71.5277,-80.2415,-117.5198,-97.3537,-117.9085,-96.7921,-122.4388,-73.4532,-81.6079,-84.1633,-81.0371,-81.2473,-97.1813,-105.0341,-93.6719,-83.0827,-118.1306,-92.0074,-78.9178,-118.0149,-106.3016,-74.2239,-121.4294,-85.9621,-80.0521,-117.0978,-123.0998,-87.4855,-122.0357,-96.8123,-94.1534,-89.4526,-83.6914,-88.5684,-105.0547,-80.1288,-94.3784,-86.6255,-85.1189,-97.4483,-77.335,-121.9287,-119.7621,-117.9265,-82.4023,-117.929,-96.6411,-81.2194,-111.7022,-118.2656,-97.0112,-85.6527,-88.0545,-88.0205,-79.8626,-82.3198,-77.7372,-84.2947,-97.7468,-76.7914,-72.701,-122.0894,-117.0151,-115.1167,-117.3025,-80.3889,-81.3289,-80.0036,-80.2974,-157.8298,-95.4118,-83.9248,-82.369,-118.0051,-86.6704,-123.1879,-86.1181,-118.3259,-117.8224,-96.974,-84.4132,-81.5831,-83.5708,-74.0498,-82.381,-88.1299,-157.7448,-85.5457,-157.8115,-94.6792,-119.168,-87.8705,-97.841,-81.499,-84.1201,-122.7827,-105.0963,-93.2111,-81.9523,-105.156,-76.3107,-84.5772,-99.4907,-106.6683,-115.3104,-111.9274,-71.7563,-96.9999,-79.4581,-71.3137,-92.3925,-118.1341,-82.135,-118.2646,-85.6237,-71.3329,-101.9344,-83.7455,-78.2976,-73.0723,-121.7934,-122.1562,-71.1087,-80.7112,-89.8501,-120.508,-111.7188,-96.6307,-80.3627,-87.8895,-93.2683,-80.4089,-117.6433,-88.2292,-120.9966,-74.1885,-121.8443,-76.8839,-117.1851,-86.3903,-117.2738,-86.2738,-78.9782,-88.141,-81.7644,-71.5132,-86.8006,-70.9167,-72.9318,-72.1062,-90.1094,-73.9764,-73.9918,-82.4046,-74.0526,-76.4607,-76.2878,-88.9883,-97.4577,-79.9913,-115.1068,-82.2095,-73.4358,-72.3016,-122.2429,-82.1288,-117.3573,-102.3944,-111.9489,-97.6419,-94.8204,-123.0552,-95.9999,-117.6187,-93.8409,-111.6705,-81.343,-94.6452,-119.182,-80.6739,-116.517,-117.8123,-85.6727,-118.0889,-80.4089,-87.1872,-89.577,-75.2024,-112.0927,-79.89,-96.7397,-117.7362,-80.1635,-93.927,-81.0241,-80.298,-80.298,-70.2876,-71.252,-73.8621,-71.4443,-111.6549,-104.6234,-82.0532,-87.8551,-78.6393,-117.5999,-75.875,-122.353,-119.8735,-119.288,-77.4588,-117.3757,-80.0525,-92.4835,-88.9972,-121.2867,-88.0888,-121.488,-83.9156,-90.3644,-93.1727,-82.6448,-123.0445,-121.6729,-111.8749,-98.4759,-117.2606,-117.2405,-122.4147,-121.8574,-117.8855,-119.7078,-121.9844,-118.5007,-121.9881,-120.4957,-122.7339,-82.477,-81.0979,-111.9182,-75.6657,-121.7935,-122.3022,-80.4784,-93.7143,-118.7653,-96.4005,-96.7041,-86.2433,-83.659,-81.834,-117.4041,-94.1762,-93.2896,-90.2929,-93.1034,-82.6373,-73.5236,-83.0029,-74.9554,-122.0349,-76.2276,-122.4643,-84.3189,-82.5805,-117.1286,-111.9312,-104.9407,-118.9358,-83.6434,-95.6802,-118.3507,-74.6962,-110.7658,-96.0251,-87.536,-95.3031,-75.2315,-122.2804,-122.6899,-80.3757,-117.4082,-76.0237,-119.301,-97.1786,-80.8164,-77.0203,-72.7798,-92.3269,-117.8978,-112.0011,-105.0609,-97.2253,-75.5317,-84.8639,-81.6736,-71.838,-120.7094,-73.895,-70.6578,-80.6277],\"marker\":{\"color\":\"#930c25\",\"symbol\":\"circle\"},\"mode\":\"markers\",\"name\":\"\",\"showlegend\":false,\"type\":\"scattergeo\"}],                        {\"template\":{\"data\":{\"bar\":[{\"error_x\":{\"color\":\"#2a3f5f\"},\"error_y\":{\"color\":\"#2a3f5f\"},\"marker\":{\"line\":{\"color\":\"#E5ECF6\",\"width\":0.5},\"pattern\":{\"fillmode\":\"overlay\",\"size\":10,\"solidity\":0.2}},\"type\":\"bar\"}],\"barpolar\":[{\"marker\":{\"line\":{\"color\":\"#E5ECF6\",\"width\":0.5},\"pattern\":{\"fillmode\":\"overlay\",\"size\":10,\"solidity\":0.2}},\"type\":\"barpolar\"}],\"carpet\":[{\"aaxis\":{\"endlinecolor\":\"#2a3f5f\",\"gridcolor\":\"white\",\"linecolor\":\"white\",\"minorgridcolor\":\"white\",\"startlinecolor\":\"#2a3f5f\"},\"baxis\":{\"endlinecolor\":\"#2a3f5f\",\"gridcolor\":\"white\",\"linecolor\":\"white\",\"minorgridcolor\":\"white\",\"startlinecolor\":\"#2a3f5f\"},\"type\":\"carpet\"}],\"choropleth\":[{\"colorbar\":{\"outlinewidth\":0,\"ticks\":\"\"},\"type\":\"choropleth\"}],\"contour\":[{\"colorbar\":{\"outlinewidth\":0,\"ticks\":\"\"},\"colorscale\":[[0.0,\"#0d0887\"],[0.1111111111111111,\"#46039f\"],[0.2222222222222222,\"#7201a8\"],[0.3333333333333333,\"#9c179e\"],[0.4444444444444444,\"#bd3786\"],[0.5555555555555556,\"#d8576b\"],[0.6666666666666666,\"#ed7953\"],[0.7777777777777778,\"#fb9f3a\"],[0.8888888888888888,\"#fdca26\"],[1.0,\"#f0f921\"]],\"type\":\"contour\"}],\"contourcarpet\":[{\"colorbar\":{\"outlinewidth\":0,\"ticks\":\"\"},\"type\":\"contourcarpet\"}],\"heatmap\":[{\"colorbar\":{\"outlinewidth\":0,\"ticks\":\"\"},\"colorscale\":[[0.0,\"#0d0887\"],[0.1111111111111111,\"#46039f\"],[0.2222222222222222,\"#7201a8\"],[0.3333333333333333,\"#9c179e\"],[0.4444444444444444,\"#bd3786\"],[0.5555555555555556,\"#d8576b\"],[0.6666666666666666,\"#ed7953\"],[0.7777777777777778,\"#fb9f3a\"],[0.8888888888888888,\"#fdca26\"],[1.0,\"#f0f921\"]],\"type\":\"heatmap\"}],\"heatmapgl\":[{\"colorbar\":{\"outlinewidth\":0,\"ticks\":\"\"},\"colorscale\":[[0.0,\"#0d0887\"],[0.1111111111111111,\"#46039f\"],[0.2222222222222222,\"#7201a8\"],[0.3333333333333333,\"#9c179e\"],[0.4444444444444444,\"#bd3786\"],[0.5555555555555556,\"#d8576b\"],[0.6666666666666666,\"#ed7953\"],[0.7777777777777778,\"#fb9f3a\"],[0.8888888888888888,\"#fdca26\"],[1.0,\"#f0f921\"]],\"type\":\"heatmapgl\"}],\"histogram\":[{\"marker\":{\"pattern\":{\"fillmode\":\"overlay\",\"size\":10,\"solidity\":0.2}},\"type\":\"histogram\"}],\"histogram2d\":[{\"colorbar\":{\"outlinewidth\":0,\"ticks\":\"\"},\"colorscale\":[[0.0,\"#0d0887\"],[0.1111111111111111,\"#46039f\"],[0.2222222222222222,\"#7201a8\"],[0.3333333333333333,\"#9c179e\"],[0.4444444444444444,\"#bd3786\"],[0.5555555555555556,\"#d8576b\"],[0.6666666666666666,\"#ed7953\"],[0.7777777777777778,\"#fb9f3a\"],[0.8888888888888888,\"#fdca26\"],[1.0,\"#f0f921\"]],\"type\":\"histogram2d\"}],\"histogram2dcontour\":[{\"colorbar\":{\"outlinewidth\":0,\"ticks\":\"\"},\"colorscale\":[[0.0,\"#0d0887\"],[0.1111111111111111,\"#46039f\"],[0.2222222222222222,\"#7201a8\"],[0.3333333333333333,\"#9c179e\"],[0.4444444444444444,\"#bd3786\"],[0.5555555555555556,\"#d8576b\"],[0.6666666666666666,\"#ed7953\"],[0.7777777777777778,\"#fb9f3a\"],[0.8888888888888888,\"#fdca26\"],[1.0,\"#f0f921\"]],\"type\":\"histogram2dcontour\"}],\"mesh3d\":[{\"colorbar\":{\"outlinewidth\":0,\"ticks\":\"\"},\"type\":\"mesh3d\"}],\"parcoords\":[{\"line\":{\"colorbar\":{\"outlinewidth\":0,\"ticks\":\"\"}},\"type\":\"parcoords\"}],\"pie\":[{\"automargin\":true,\"type\":\"pie\"}],\"scatter\":[{\"marker\":{\"colorbar\":{\"outlinewidth\":0,\"ticks\":\"\"}},\"type\":\"scatter\"}],\"scatter3d\":[{\"line\":{\"colorbar\":{\"outlinewidth\":0,\"ticks\":\"\"}},\"marker\":{\"colorbar\":{\"outlinewidth\":0,\"ticks\":\"\"}},\"type\":\"scatter3d\"}],\"scattercarpet\":[{\"marker\":{\"colorbar\":{\"outlinewidth\":0,\"ticks\":\"\"}},\"type\":\"scattercarpet\"}],\"scattergeo\":[{\"marker\":{\"colorbar\":{\"outlinewidth\":0,\"ticks\":\"\"}},\"type\":\"scattergeo\"}],\"scattergl\":[{\"marker\":{\"colorbar\":{\"outlinewidth\":0,\"ticks\":\"\"}},\"type\":\"scattergl\"}],\"scattermapbox\":[{\"marker\":{\"colorbar\":{\"outlinewidth\":0,\"ticks\":\"\"}},\"type\":\"scattermapbox\"}],\"scatterpolar\":[{\"marker\":{\"colorbar\":{\"outlinewidth\":0,\"ticks\":\"\"}},\"type\":\"scatterpolar\"}],\"scatterpolargl\":[{\"marker\":{\"colorbar\":{\"outlinewidth\":0,\"ticks\":\"\"}},\"type\":\"scatterpolargl\"}],\"scatterternary\":[{\"marker\":{\"colorbar\":{\"outlinewidth\":0,\"ticks\":\"\"}},\"type\":\"scatterternary\"}],\"surface\":[{\"colorbar\":{\"outlinewidth\":0,\"ticks\":\"\"},\"colorscale\":[[0.0,\"#0d0887\"],[0.1111111111111111,\"#46039f\"],[0.2222222222222222,\"#7201a8\"],[0.3333333333333333,\"#9c179e\"],[0.4444444444444444,\"#bd3786\"],[0.5555555555555556,\"#d8576b\"],[0.6666666666666666,\"#ed7953\"],[0.7777777777777778,\"#fb9f3a\"],[0.8888888888888888,\"#fdca26\"],[1.0,\"#f0f921\"]],\"type\":\"surface\"}],\"table\":[{\"cells\":{\"fill\":{\"color\":\"#EBF0F8\"},\"line\":{\"color\":\"white\"}},\"header\":{\"fill\":{\"color\":\"#C8D4E3\"},\"line\":{\"color\":\"white\"}},\"type\":\"table\"}]},\"layout\":{\"annotationdefaults\":{\"arrowcolor\":\"#2a3f5f\",\"arrowhead\":0,\"arrowwidth\":1},\"autotypenumbers\":\"strict\",\"coloraxis\":{\"colorbar\":{\"outlinewidth\":0,\"ticks\":\"\"}},\"colorscale\":{\"diverging\":[[0,\"#8e0152\"],[0.1,\"#c51b7d\"],[0.2,\"#de77ae\"],[0.3,\"#f1b6da\"],[0.4,\"#fde0ef\"],[0.5,\"#f7f7f7\"],[0.6,\"#e6f5d0\"],[0.7,\"#b8e186\"],[0.8,\"#7fbc41\"],[0.9,\"#4d9221\"],[1,\"#276419\"]],\"sequential\":[[0.0,\"#0d0887\"],[0.1111111111111111,\"#46039f\"],[0.2222222222222222,\"#7201a8\"],[0.3333333333333333,\"#9c179e\"],[0.4444444444444444,\"#bd3786\"],[0.5555555555555556,\"#d8576b\"],[0.6666666666666666,\"#ed7953\"],[0.7777777777777778,\"#fb9f3a\"],[0.8888888888888888,\"#fdca26\"],[1.0,\"#f0f921\"]],\"sequentialminus\":[[0.0,\"#0d0887\"],[0.1111111111111111,\"#46039f\"],[0.2222222222222222,\"#7201a8\"],[0.3333333333333333,\"#9c179e\"],[0.4444444444444444,\"#bd3786\"],[0.5555555555555556,\"#d8576b\"],[0.6666666666666666,\"#ed7953\"],[0.7777777777777778,\"#fb9f3a\"],[0.8888888888888888,\"#fdca26\"],[1.0,\"#f0f921\"]]},\"colorway\":[\"#636efa\",\"#EF553B\",\"#00cc96\",\"#ab63fa\",\"#FFA15A\",\"#19d3f3\",\"#FF6692\",\"#B6E880\",\"#FF97FF\",\"#FECB52\"],\"font\":{\"color\":\"#2a3f5f\"},\"geo\":{\"bgcolor\":\"white\",\"lakecolor\":\"white\",\"landcolor\":\"#E5ECF6\",\"showlakes\":true,\"showland\":true,\"subunitcolor\":\"white\"},\"hoverlabel\":{\"align\":\"left\"},\"hovermode\":\"closest\",\"mapbox\":{\"style\":\"light\"},\"paper_bgcolor\":\"white\",\"plot_bgcolor\":\"#E5ECF6\",\"polar\":{\"angularaxis\":{\"gridcolor\":\"white\",\"linecolor\":\"white\",\"ticks\":\"\"},\"bgcolor\":\"#E5ECF6\",\"radialaxis\":{\"gridcolor\":\"white\",\"linecolor\":\"white\",\"ticks\":\"\"}},\"scene\":{\"xaxis\":{\"backgroundcolor\":\"#E5ECF6\",\"gridcolor\":\"white\",\"gridwidth\":2,\"linecolor\":\"white\",\"showbackground\":true,\"ticks\":\"\",\"zerolinecolor\":\"white\"},\"yaxis\":{\"backgroundcolor\":\"#E5ECF6\",\"gridcolor\":\"white\",\"gridwidth\":2,\"linecolor\":\"white\",\"showbackground\":true,\"ticks\":\"\",\"zerolinecolor\":\"white\"},\"zaxis\":{\"backgroundcolor\":\"#E5ECF6\",\"gridcolor\":\"white\",\"gridwidth\":2,\"linecolor\":\"white\",\"showbackground\":true,\"ticks\":\"\",\"zerolinecolor\":\"white\"}},\"shapedefaults\":{\"line\":{\"color\":\"#2a3f5f\"}},\"ternary\":{\"aaxis\":{\"gridcolor\":\"white\",\"linecolor\":\"white\",\"ticks\":\"\"},\"baxis\":{\"gridcolor\":\"white\",\"linecolor\":\"white\",\"ticks\":\"\"},\"bgcolor\":\"#E5ECF6\",\"caxis\":{\"gridcolor\":\"white\",\"linecolor\":\"white\",\"ticks\":\"\"}},\"title\":{\"x\":0.05},\"xaxis\":{\"automargin\":true,\"gridcolor\":\"white\",\"linecolor\":\"white\",\"ticks\":\"\",\"title\":{\"standoff\":15},\"zerolinecolor\":\"white\",\"zerolinewidth\":2},\"yaxis\":{\"automargin\":true,\"gridcolor\":\"white\",\"linecolor\":\"white\",\"ticks\":\"\",\"title\":{\"standoff\":15},\"zerolinecolor\":\"white\",\"zerolinewidth\":2}}},\"geo\":{\"domain\":{\"x\":[0.0,1.0],\"y\":[0.0,1.0]},\"center\":{}},\"legend\":{\"tracegroupgap\":0},\"margin\":{\"t\":60}},                        {\"responsive\": true}                    ).then(function(){\n",
              "                            \n",
              "var gd = document.getElementById('6e2e421f-d71b-4192-8521-214317a27946');\n",
              "var x = new MutationObserver(function (mutations, observer) {{\n",
              "        var display = window.getComputedStyle(gd).display;\n",
              "        if (!display || display === 'none') {{\n",
              "            console.log([gd, 'removed!']);\n",
              "            Plotly.purge(gd);\n",
              "            observer.disconnect();\n",
              "        }}\n",
              "}});\n",
              "\n",
              "// Listen for the removal of the full notebook cells\n",
              "var notebookContainer = gd.closest('#notebook-container');\n",
              "if (notebookContainer) {{\n",
              "    x.observe(notebookContainer, {childList: true});\n",
              "}}\n",
              "\n",
              "// Listen for the clearing of the current output cell\n",
              "var outputEl = gd.closest('.output');\n",
              "if (outputEl) {{\n",
              "    x.observe(outputEl, {childList: true});\n",
              "}}\n",
              "\n",
              "                        })                };                            </script>        </div>\n",
              "</body>\n",
              "</html>"
            ]
          },
          "metadata": {},
          "output_type": "display_data"
        }
      ],
      "source": [
        "# [\"#000000\", \"#930c25\"]\n",
        "fig = px.scatter_geo(lat=lat,lon=lon, color=color, color_discrete_map=\"identity\")\n",
        "fig.show()"
      ]
    }
  ],
  "metadata": {
    "colab": {
      "provenance": []
    },
    "kernelspec": {
      "display_name": "Python 3",
      "name": "python3"
    },
    "language_info": {
      "name": "python"
    }
  },
  "nbformat": 4,
  "nbformat_minor": 0
}
